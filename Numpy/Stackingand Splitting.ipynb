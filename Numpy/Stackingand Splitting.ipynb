{
 "cells": [
  {
   "cell_type": "code",
   "execution_count": null,
   "id": "a6b43562",
   "metadata": {},
   "outputs": [],
   "source": [
    "..\\..\\..\\data_science\\exercise\\Section-3-Python-for-Data-Scientists/"
   ]
  },
  {
   "cell_type": "markdown",
   "id": "9e37f828",
   "metadata": {},
   "source": [
    "<h1 align=\"center\">Lecture 3.6 (NumPy-06)</h1>"
   ]
  },
  {
   "cell_type": "markdown",
   "id": "e399c103",
   "metadata": {},
   "source": [
    "# _Manipulating Array Elements.ipynb_"
   ]
  },
  {
   "cell_type": "markdown",
   "id": "401235e2",
   "metadata": {},
   "source": [
    "<img align=\"right\" width=\"400\" height=\"400\"  src=\"..\\..\\..\\data_science\\exercise\\Section-3-Python-for-Data-Scientists/images/numpy123D.png\" > \n",
    "\n",
    "# Learning agenda of this notebook\n",
    "\n",
    "1. Updating existing values of NumPy array elements\n",
    "2. Append new elements to a NumPy array using np.append()\n",
    "3. Insert new elements in a NumPy array using np.insert()\n",
    "4. Delete elements of a NumPy array using np.delete()\n",
    "5. Alias vs Shallow Copy vs Deep Copy"
   ]
  },
  {
   "cell_type": "markdown",
   "id": "9353873d",
   "metadata": {},
   "source": [
    "<img align=\"right\" width=\"400\" height=\"400\"  src=\"..\\..\\..\\data_science\\exercise\\Section-3-Python-for-Data-Scientists/images/numpy123D.png\" > \n",
    "\n",
    "# Learning agenda of this notebook\n",
    "\n",
    "1. Updating existing values of NumPy array elements\n",
    "2. Append new elements to a NumPy array using np.append()\n",
    "3. Insert new elements in a NumPy array using np.insert()\n",
    "4. Delete elements of a NumPy array using np.delete()\n",
    "5. Alias vs Shallow Copy vs Deep Copy"
   ]
  },
  {
   "cell_type": "code",
   "execution_count": 2,
   "id": "b97f6449",
   "metadata": {},
   "outputs": [],
   "source": [
    "# To install this library in Jupyter notebook\n",
    "#import sys\n",
    "#!{sys.executable} -m pip install numpy"
   ]
  },
  {
   "cell_type": "code",
   "execution_count": 3,
   "id": "36a90a6c",
   "metadata": {},
   "outputs": [
    {
     "data": {
      "text/plain": [
       "('1.24.3', ['C:\\\\Users\\\\FashN\\\\anaconda3\\\\Lib\\\\site-packages\\\\numpy'])"
      ]
     },
     "execution_count": 3,
     "metadata": {},
     "output_type": "execute_result"
    }
   ],
   "source": [
    "import numpy as np\n",
    "np.__version__, np.__path__"
   ]
  },
  {
   "cell_type": "markdown",
   "id": "b49105e4",
   "metadata": {},
   "source": [
    "## 1. Updating Existing Values of Numpy Array Elements"
   ]
  },
  {
   "cell_type": "markdown",
   "id": "5f044f0b",
   "metadata": {},
   "source": [
    "### a. 1-D Arrays"
   ]
  },
  {
   "cell_type": "code",
   "execution_count": 5,
   "id": "189afb51",
   "metadata": {},
   "outputs": [
    {
     "name": "stdout",
     "output_type": "stream",
     "text": [
      "Original array = [47 70 66 55 26 28 23 63 47 12]\n",
      "Updated array = [ 47  70 460  55  26  28  23  63  47  54]\n"
     ]
    }
   ],
   "source": [
    "arr = np.random.randint(low=1, high=100, size=(10))\n",
    "print(f'Original array = {arr}')\n",
    "arr[2] = 460\n",
    "arr[-1] = 54\n",
    "print(f'Updated array = {arr}')\n"
   ]
  },
  {
   "cell_type": "markdown",
   "id": "4b708c31",
   "metadata": {},
   "source": [
    "### b. 2-D Arrays"
   ]
  },
  {
   "cell_type": "code",
   "execution_count": 10,
   "id": "d7ae2875",
   "metadata": {},
   "outputs": [
    {
     "name": "stdout",
     "output_type": "stream",
     "text": [
      "Original array = \n",
      "[[21 80 34 98]\n",
      " [48 48 96 73]\n",
      " [15 93 17 23]\n",
      " [96 37 65 14]]\n",
      "Updated array = \n",
      "[[ 21  80  34  98]\n",
      " [ 48  48  96  73]\n",
      " [460  32   0  -3]\n",
      " [ 96  37  65  54]]\n"
     ]
    }
   ],
   "source": [
    "arr = np.random.randint(low=10, high=100, size=(4,4))\n",
    "print(f'Original array = \\n{arr}')\n",
    "arr[2] = [460, 32,0,-3]\n",
    "arr[-1][-1] = 54\n",
    "print(f'Updated array = \\n{arr}')"
   ]
  },
  {
   "cell_type": "code",
   "execution_count": null,
   "id": "3764dd66",
   "metadata": {},
   "outputs": [],
   "source": []
  },
  {
   "cell_type": "markdown",
   "id": "52d6ba30",
   "metadata": {},
   "source": [
    "## 2. Append New Elements to Numpy Arrays\n",
    "- The `np.append()` method allows us to insert new values at the end of a NumPy array.\n",
    "- The method always returns a copy of the existing numpy array with the values appended to the given axis.\n",
    "```\n",
    "np.append(arr, values, axis=None)\n",
    "```\n",
    "- Where,\n",
    "    - `arr` is the array in which we want to append\n",
    "    - `values` must be of the correct shape (the same shape as `arr` excluding `axis`)\n",
    "    - If `axis` is not specified, both `arr` and `values` are flattened before use.\n",
    "    - If `axis` is specified, then `values` must be of the correct shape (the same shape as `arr` excluding `axis`)\n",
    "- The original array remains as such, as it does not occur in-place."
   ]
  },
  {
   "cell_type": "code",
   "execution_count": null,
   "id": "baad7990",
   "metadata": {},
   "outputs": [],
   "source": []
  },
  {
   "cell_type": "markdown",
   "id": "5a8150e6",
   "metadata": {},
   "source": [
    "### a. Appending Elements in 1-D Arrays"
   ]
  },
  {
   "cell_type": "code",
   "execution_count": 15,
   "id": "fe20bf5a",
   "metadata": {},
   "outputs": [
    {
     "name": "stdout",
     "output_type": "stream",
     "text": [
      "Array1 = [17 83 79 49 76 73 94 20 64 23]\n",
      "After appending\n",
      "Array1 = [17 83 79 49 76 73 94 20 64 23]\n",
      "Array2 = [17 83 79 49 76 73 94 20 64 23 21 22 23 24]\n",
      "\n",
      "id(arr1) = 2207412665776\n",
      "id(arr2) = 2207414805840\n"
     ]
    }
   ],
   "source": [
    "arr1 = np.random.randint(low=11, high=100, size=10)\n",
    "\n",
    "# You can add a scalar value or a list of values at the end of a 1-D array\n",
    "arr2 = np.append(arr1, [21,22,23,24])\n",
    "\n",
    "print(f'Array1 = {arr1}\\nAfter appending\\nArray1 = {arr1}\\nArray2 = {arr2}\\n\\nid(arr1) = {id(arr1)}\\nid(arr2) = {id(arr2)}')"
   ]
  },
  {
   "cell_type": "code",
   "execution_count": null,
   "id": "6734e479",
   "metadata": {},
   "outputs": [],
   "source": []
  },
  {
   "cell_type": "markdown",
   "id": "03a7d00b",
   "metadata": {},
   "source": [
    "### b. Appending Elements in 2-D Arrays"
   ]
  },
  {
   "cell_type": "markdown",
   "id": "0def4198",
   "metadata": {},
   "source": [
    "**Example:** In case of 2-D Arrays if `axis` is not mentioned both `arr` and `values` are flattened before use"
   ]
  },
  {
   "cell_type": "code",
   "execution_count": 18,
   "id": "18e5dbbb",
   "metadata": {},
   "outputs": [
    {
     "name": "stdout",
     "output_type": "stream",
     "text": [
      "Array1 = [[17 28  8]\n",
      " [27 28 26]\n",
      " [17 15 27]]\n",
      "\n",
      "After appending:\n",
      "Array1 = \n",
      "[[17 28  8]\n",
      " [27 28 26]\n",
      " [17 15 27]]\n",
      "Array2 = \n",
      "[ 17  28   8  27  28  26  17  15  27 101 105  20 300 333]\n",
      "\n",
      "id(arr1) = 2207415110800\n",
      "id(arr2) = 2207415110608\n"
     ]
    }
   ],
   "source": [
    "arr1 = np.random.randint(low=1, high=30, size=(3,3))\n",
    "# If the axis is not mentioned, values can be of any shape and both `arr` and `values` are flattened before use.\n",
    "arr2 = np.append(arr1, [101,105,20,300,333])\n",
    "\n",
    "print(f'Array1 = {arr1}\\n\\nAfter appending:\\nArray1 = \\n{arr1}\\nArray2 = \\n{arr2}\\n\\nid(arr1) = {id(arr1)}\\nid(arr2) = {id(arr2)}')"
   ]
  },
  {
   "cell_type": "markdown",
   "id": "561b03bc",
   "metadata": {},
   "source": [
    "**Example:** Appending a Row to a 2-D array (`axis=0`)"
   ]
  },
  {
   "cell_type": "code",
   "execution_count": null,
   "id": "f27ca2cb",
   "metadata": {},
   "outputs": [],
   "source": []
  },
  {
   "cell_type": "code",
   "execution_count": 23,
   "id": "43929f4d",
   "metadata": {},
   "outputs": [
    {
     "name": "stdout",
     "output_type": "stream",
     "text": [
      "Array1 = \n",
      "[[26 26  2]\n",
      " [ 1 12 21]\n",
      " [22 21 11]]\n",
      "arr1.shape = (3, 3)\n",
      "\n",
      "\n",
      "After appending:\n",
      "Array1 = \n",
      "[[26 26  2]\n",
      " [ 1 12 21]\n",
      " [22 21 11]]\n",
      "arr1.shape = (3, 3)\n",
      "\n",
      "Array2 = \n",
      "[[ 26  26   2]\n",
      " [  1  12  21]\n",
      " [ 22  21  11]\n",
      " [101 202 303]]\n",
      "arr2.shape = (4, 3)\n",
      "\n",
      "\n",
      "id(arr1) = 2207426785712\n",
      "id(arr2) = 2207426784560\n"
     ]
    }
   ],
   "source": [
    "arr1 = np.random.randint(low=1, high=30, size=(3,3))\n",
    "# For appending at axis 0, the values argument must the same shape as `arr` excluding `axis`\n",
    "# so the values should be a row vector, and in this case of shape (1,3), having 1 row and 3 columnsarr2 = np.append(arr1, [101,105,20,300,333])\n",
    "\n",
    "arr2 = np.append(arr1, [[101,202,303]], axis=0)\n",
    "print(f'Array1 = \\n{arr1}\\narr1.shape = {arr1.shape}\\n\\n\\nAfter appending:\\nArray1 = \\n{arr1}\\narr1.shape = {arr1.shape}\\n\\nArray2 = \\n{arr2}\\narr2.shape = {arr2.shape}\\n\\n\\nid(arr1) = {id(arr1)}\\nid(arr2) = {id(arr2)}')"
   ]
  },
  {
   "cell_type": "code",
   "execution_count": null,
   "id": "7c8469ba",
   "metadata": {},
   "outputs": [],
   "source": []
  },
  {
   "cell_type": "markdown",
   "id": "bef1baa4",
   "metadata": {},
   "source": [
    "**Example:** Appending a Column to a 2-D array (`axis=1`)"
   ]
  },
  {
   "cell_type": "code",
   "execution_count": 29,
   "id": "86038beb",
   "metadata": {},
   "outputs": [
    {
     "name": "stdout",
     "output_type": "stream",
     "text": [
      "Array1 = \n",
      "[[169 203  42 131]\n",
      " [180 255 138 145]\n",
      " [139 241 111  18]]\n",
      "arr1.shape = (3, 4)\n",
      "\n",
      "\n",
      "After appending:\n",
      "Array1 = \n",
      "[[169 203  42 131]\n",
      " [180 255 138 145]\n",
      " [139 241 111  18]]\n",
      "arr1.shape = (3, 4)\n",
      "\n",
      "Array2 = \n",
      "[[169 203  42 131 101]\n",
      " [180 255 138 145 202]\n",
      " [139 241 111  18 303]]\n",
      "arr2.shape = (3, 5)\n",
      "\n",
      "\n",
      "id(arr1) = 2207428516848\n",
      "id(arr2) = 2207428510704\n"
     ]
    }
   ],
   "source": [
    "arr1 = np.random.randint(low=10, high=300, size=(3,4))\n",
    "# For appending at axis 1, the values argument must the same shape as `arr` excluding `axis`\n",
    "# so the values should be a column vector of shape (4,1), having 4 rows and 1 column\n",
    "\n",
    "arr2 = np.append(arr1, [[101],[202],[303]], axis=1)\n",
    "print(f'Array1 = \\n{arr1}\\narr1.shape = {arr1.shape}\\n\\n\\nAfter appending:\\nArray1 = \\n{arr1}\\narr1.shape = {arr1.shape}\\n\\nArray2 = \\n{arr2}\\narr2.shape = {arr2.shape}\\n\\n\\nid(arr1) = {id(arr1)}\\nid(arr2) = {id(arr2)}')"
   ]
  },
  {
   "cell_type": "code",
   "execution_count": null,
   "id": "eb8dd996",
   "metadata": {},
   "outputs": [],
   "source": []
  },
  {
   "cell_type": "markdown",
   "id": "9896fc20",
   "metadata": {},
   "source": [
    "## 3. Inserting New Elements in Numpy Arrays\n",
    "- The `np.insert()` method allows us to insert new values along the given axis before the given index.\n",
    "- The method always returns a copy of the existing numpy array with the values inserted to the given axis.\n",
    "```\n",
    "np.insert(arr, index, values, axis=None)\n",
    "```\n",
    "- Where,\n",
    "    - `arr` is the array in which we want to insert\n",
    "    - `index` is the index before which we want to insert\n",
    "    - `values` [array_like] values to be added in the `arr`\n",
    "    - If `axis` is not specified, both `arr` and `values` are flattened before use.\n",
    "    - If `axis` is zero, a row is inserted (For 2-D arrays)\n",
    "    - If `axis` is one, a column is inserted (For 2-D arrays)\n",
    "- The original array remains as such, as it does not occur in-place."
   ]
  },
  {
   "cell_type": "markdown",
   "id": "4086212e",
   "metadata": {},
   "source": [
    "### a. Inserting Elements in 1-D Arrays"
   ]
  },
  {
   "cell_type": "code",
   "execution_count": 30,
   "id": "741b0fb5",
   "metadata": {},
   "outputs": [
    {
     "name": "stdout",
     "output_type": "stream",
     "text": [
      "Array1 = \n",
      "[ 8  9  4  7 13]\n",
      "After insert:\n",
      "arr1 = [ 8  9  4  7 13]\n",
      "arr2=[ 8  9  4 55 33 44  7 13]\n"
     ]
    }
   ],
   "source": [
    "arr1 = np.random.randint(low=4, high=16, size=5)\n",
    "# You can insert a scalar value or a list of values in between array elements before the mentioned index\n",
    "arr2 = np.insert(arr1, 3, [55,33,44])\n",
    "print(f'Array1 = \\n{arr1}\\nAfter insert:\\narr1 = {arr1}\\narr2={arr2}')"
   ]
  },
  {
   "cell_type": "code",
   "execution_count": null,
   "id": "a52ab870",
   "metadata": {},
   "outputs": [],
   "source": []
  },
  {
   "cell_type": "markdown",
   "id": "9111b245",
   "metadata": {},
   "source": [
    "### b. Inserting Elements in 2-D Arrays\n"
   ]
  },
  {
   "cell_type": "markdown",
   "id": "7d0d6bf7",
   "metadata": {},
   "source": [
    "**Example:** In case of 2-D array, if `axis` is not mentioned the array is flattened first"
   ]
  },
  {
   "cell_type": "code",
   "execution_count": 31,
   "id": "8c08082a",
   "metadata": {},
   "outputs": [
    {
     "name": "stdout",
     "output_type": "stream",
     "text": [
      "Array1 = \n",
      "[[15 15 12]\n",
      " [14 13 14]\n",
      " [14  9 11]\n",
      " [15 12 11]]\n",
      "After insert:\n",
      "arr1 = [[15 15 12]\n",
      " [14 13 14]\n",
      " [14  9 11]\n",
      " [15 12 11]]\n",
      "arr2=[  15   15   12   14 1001   13   14   14    9   11   15   12   11]\n"
     ]
    }
   ],
   "source": [
    "arr1 = np.random.randint(low=4, high=16, size=(4,3))\n",
    "# You can insert a scalar value or a list of values in between array elements before the mentioned index\n",
    "arr2 = np.insert(arr1, 4, 1001)\n",
    "print(f'Array1 = \\n{arr1}\\nAfter insert:\\narr1 = {arr1}\\narr2={arr2}')"
   ]
  },
  {
   "cell_type": "code",
   "execution_count": 32,
   "id": "101e8f47",
   "metadata": {},
   "outputs": [
    {
     "name": "stdout",
     "output_type": "stream",
     "text": [
      "Array1 = \n",
      "[[15 15 12]\n",
      " [14 13 14]\n",
      " [14  9 11]\n",
      " [15 12 11]]\n",
      "After insert:\n",
      "arr1 = [[15 15 12]\n",
      " [14 13 14]\n",
      " [14  9 11]\n",
      " [15 12 11]]\n",
      "arr2=[  15   15   12   14 1001 2002   13   14   14    9   11   15   12   11]\n"
     ]
    }
   ],
   "source": [
    "arr2 = np.insert(arr1, 4, [1001, 2002])\n",
    "print(f'Array1 = \\n{arr1}\\nAfter insert:\\narr1 = {arr1}\\narr2={arr2}')"
   ]
  },
  {
   "cell_type": "code",
   "execution_count": null,
   "id": "7e5b196d",
   "metadata": {},
   "outputs": [],
   "source": []
  },
  {
   "cell_type": "markdown",
   "id": "646663dc",
   "metadata": {},
   "source": [
    "**Example:** If axis=0, value(s) are added as a row before mentioned index"
   ]
  },
  {
   "cell_type": "code",
   "execution_count": 35,
   "id": "06694f4e",
   "metadata": {},
   "outputs": [
    {
     "name": "stdout",
     "output_type": "stream",
     "text": [
      "Array1 = \n",
      "[[ 5  6  7]\n",
      " [ 7 11  9]\n",
      " [ 9  4  8]\n",
      " [13  8  6]]\n",
      "After insert:\n",
      "arr1 = \n",
      "[[ 5  6  7]\n",
      " [ 7 11  9]\n",
      " [ 9  4  8]\n",
      " [13  8  6]]\n",
      "arr2=\n",
      "[[   5    6    7]\n",
      " [   7   11    9]\n",
      " [   9    4    8]\n",
      " [1001 1001 1001]\n",
      " [  13    8    6]]\n"
     ]
    }
   ],
   "source": [
    "arr1 = np.random.randint(low=4, high=16, size=(4,3))\n",
    "# You can insert a scalar value or a list of values in between array elements before the mentioned index\n",
    "arr2 = np.insert(arr1, 3, 1001, axis=0)\n",
    "print(f'Array1 = \\n{arr1}\\nAfter insert:\\narr1 = \\n{arr1}\\narr2=\\n{arr2}')"
   ]
  },
  {
   "cell_type": "code",
   "execution_count": 37,
   "id": "fe2c83ab",
   "metadata": {},
   "outputs": [
    {
     "name": "stdout",
     "output_type": "stream",
     "text": [
      "Array1 = \n",
      "[[ 5  6  7]\n",
      " [ 7 11  9]\n",
      " [ 9  4  8]\n",
      " [13  8  6]]\n",
      "After insert:\n",
      "arr1 = \n",
      "[[ 5  6  7]\n",
      " [ 7 11  9]\n",
      " [ 9  4  8]\n",
      " [13  8  6]]\n",
      "arr2=\n",
      "[[ 5  6  7]\n",
      " [ 7 11  9]\n",
      " [31 34 36]\n",
      " [ 9  4  8]\n",
      " [13  8  6]]\n"
     ]
    }
   ],
   "source": [
    "# For axis=0, note the size of values has to be 4 in this case (equal to number of columns)\n",
    "arr2 = np.insert(arr1, 2, [31,34,36], axis=0)\n",
    "print(f'Array1 = \\n{arr1}\\nAfter insert:\\narr1 = \\n{arr1}\\narr2=\\n{arr2}')"
   ]
  },
  {
   "cell_type": "code",
   "execution_count": null,
   "id": "671a4d14",
   "metadata": {},
   "outputs": [],
   "source": []
  },
  {
   "cell_type": "markdown",
   "id": "a7461d2e",
   "metadata": {},
   "source": [
    "**Example:** If axis=1, value(s) are added as a column at mentioned index"
   ]
  },
  {
   "cell_type": "code",
   "execution_count": 38,
   "id": "68e9ae88",
   "metadata": {},
   "outputs": [
    {
     "name": "stdout",
     "output_type": "stream",
     "text": [
      "Array1 = \n",
      "[[11  7 14]\n",
      " [12  5 12]\n",
      " [11 15 14]\n",
      " [ 4 13 14]]\n",
      "After insert:\n",
      "arr1 = \n",
      "[[11  7 14]\n",
      " [12  5 12]\n",
      " [11 15 14]\n",
      " [ 4 13 14]]\n",
      "arr2=\n",
      "[[  11    7   14 1001]\n",
      " [  12    5   12 1001]\n",
      " [  11   15   14 1001]\n",
      " [   4   13   14 1001]]\n"
     ]
    }
   ],
   "source": [
    "arr1 = np.random.randint(low=4, high=16, size=(4,3))\n",
    "# You can insert a scalar value or a list of values in between array elements before the mentioned index\n",
    "arr2 = np.insert(arr1, 3, 1001, axis=1)\n",
    "print(f'Array1 = \\n{arr1}\\nAfter insert:\\narr1 = \\n{arr1}\\narr2=\\n{arr2}')"
   ]
  },
  {
   "cell_type": "code",
   "execution_count": 40,
   "id": "bbf97c88",
   "metadata": {},
   "outputs": [
    {
     "name": "stdout",
     "output_type": "stream",
     "text": [
      "Array1 = \n",
      "[[11  7 14]\n",
      " [12  5 12]\n",
      " [11 15 14]\n",
      " [ 4 13 14]]\n",
      "After insert:\n",
      "arr1 = \n",
      "[[11  7 14]\n",
      " [12  5 12]\n",
      " [11 15 14]\n",
      " [ 4 13 14]]\n",
      "arr2=\n",
      "[[11  7 31 14]\n",
      " [12  5 34 12]\n",
      " [11 15 36 14]\n",
      " [ 4 13 45 14]]\n"
     ]
    }
   ],
   "source": [
    "# For axis=0, note the size of values has to be 4 in this case (equal to number of columns)\n",
    "arr2 = np.insert(arr1, 2, [31,34,36, 45], axis=1)\n",
    "print(f'Array1 = \\n{arr1}\\nAfter insert:\\narr1 = \\n{arr1}\\narr2=\\n{arr2}')"
   ]
  },
  {
   "cell_type": "code",
   "execution_count": null,
   "id": "84753d9f",
   "metadata": {},
   "outputs": [],
   "source": []
  },
  {
   "cell_type": "markdown",
   "id": "4d152737",
   "metadata": {},
   "source": [
    "## 4. Deleting  Elements of Numpy Arrays\n",
    "- The `np.delete()` method allows us to delete value(s) from an array at the given index\n",
    "- This function always returns a copy of the existing numpy array with the values deleted from the given axis.\n",
    "- If axis is not specified, values can be of any shape and will be flattened before use\n",
    "```\n",
    "np.delete(arr, index, axis=None)\n",
    "```\n",
    "- The original array remains as such, as it does not occur in-place."
   ]
  },
  {
   "cell_type": "markdown",
   "id": "e7bd07c2",
   "metadata": {},
   "source": [
    "### a. Deleting Elements from a 1-D Arrays\n",
    "**Example:**"
   ]
  },
  {
   "cell_type": "code",
   "execution_count": 45,
   "id": "5e6af6ce",
   "metadata": {},
   "outputs": [
    {
     "name": "stdout",
     "output_type": "stream",
     "text": [
      "Array1 = \n",
      "[11 14 12 14 13]\n",
      "After insert:\n",
      "arr1 = \n",
      "[11 14 12 14 13]\n",
      "arr2=\n",
      "[11 14 12 13]\n"
     ]
    }
   ],
   "source": [
    "arr1 = np.random.randint(low=4, high=16, size=5)\n",
    "# You can delete a scalar value from a specific index\n",
    "arr2 = np.delete(arr1, 3)\n",
    "print(f'Array1 = \\n{arr1}\\nAfter delete:\\narr1 = \\n{arr1}\\narr2=\\n{arr2}')"
   ]
  },
  {
   "cell_type": "code",
   "execution_count": null,
   "id": "f5d97187",
   "metadata": {},
   "outputs": [],
   "source": []
  },
  {
   "cell_type": "code",
   "execution_count": 46,
   "id": "95aa511c",
   "metadata": {},
   "outputs": [
    {
     "name": "stdout",
     "output_type": "stream",
     "text": [
      "Array1 = \n",
      "[13  7  5  5  7  7  8 15 13 12]\n",
      "After delete:\n",
      "arr1 = \n",
      "[13  7  5  5  7  7  8 15 13 12]\n",
      "arr2=\n",
      "[13  7  5  7  7  8 13 12]\n"
     ]
    }
   ],
   "source": [
    "arr1 = np.random.randint(low=4, high=16, size=10)\n",
    "# You can delete a scalar value from a specific index\n",
    "arr2 = np.delete(arr1, [2,7])\n",
    "print(f'Array1 = \\n{arr1}\\nAfter delete:\\narr1 = \\n{arr1}\\narr2=\\n{arr2}')"
   ]
  },
  {
   "cell_type": "code",
   "execution_count": null,
   "id": "18b5881a",
   "metadata": {},
   "outputs": [],
   "source": []
  },
  {
   "cell_type": "markdown",
   "id": "5e5c03fc",
   "metadata": {},
   "source": [
    "### b. Deleting Elements from a 2-D Arrays"
   ]
  },
  {
   "cell_type": "markdown",
   "id": "22940a36",
   "metadata": {},
   "source": [
    "**Example:** Delete a specific element from a 2-D array, don't mention the axis. The resulting array is flattened before use"
   ]
  },
  {
   "cell_type": "code",
   "execution_count": 47,
   "id": "b48f6816",
   "metadata": {},
   "outputs": [
    {
     "name": "stdout",
     "output_type": "stream",
     "text": [
      "Array1 = \n",
      "[[14  5  9]\n",
      " [11  9 12]\n",
      " [11  4 11]]\n",
      "After delete:\n",
      "arr1 = \n",
      "[[14  5  9]\n",
      " [11  9 12]\n",
      " [11  4 11]]\n",
      "arr2=\n",
      "[14  5  9 11  9 11  4 11]\n"
     ]
    }
   ],
   "source": [
    "arr1 = np.random.randint(low=4, high=16, size=(3,3))\n",
    "# You can delete a scalar value from a specific index\n",
    "arr2 = np.delete(arr1, 5)\n",
    "print(f'Array1 = \\n{arr1}\\nAfter delete:\\narr1 = \\n{arr1}\\narr2=\\n{arr2}')"
   ]
  },
  {
   "cell_type": "code",
   "execution_count": null,
   "id": "e2985767",
   "metadata": {},
   "outputs": [],
   "source": []
  },
  {
   "cell_type": "markdown",
   "id": "81e2696d",
   "metadata": {},
   "source": [
    "**Example:**  Delete a specific row from an existing 2-D array"
   ]
  },
  {
   "cell_type": "code",
   "execution_count": 48,
   "id": "c0dd9dad",
   "metadata": {},
   "outputs": [
    {
     "name": "stdout",
     "output_type": "stream",
     "text": [
      "Array1 = \n",
      "[[14 13  4 11]\n",
      " [ 5  8  6  7]\n",
      " [ 5  9 14  6]\n",
      " [ 9 12 15 14]]\n",
      "After delete:\n",
      "arr1 = \n",
      "[[14 13  4 11]\n",
      " [ 5  8  6  7]\n",
      " [ 5  9 14  6]\n",
      " [ 9 12 15 14]]\n",
      "arr2=\n",
      "[[14 13  4 11]\n",
      " [ 5  8  6  7]\n",
      " [ 9 12 15 14]]\n"
     ]
    }
   ],
   "source": [
    "arr1 = np.random.randint(low=4, high=16, size=(4,4))\n",
    "arr2 = np.delete(arr1, 2,axis=0)\n",
    "print(f'Array1 = \\n{arr1}\\nAfter delete:\\narr1 = \\n{arr1}\\narr2=\\n{arr2}')"
   ]
  },
  {
   "cell_type": "markdown",
   "id": "31d43cd5",
   "metadata": {},
   "source": [
    "**Example:**  Delete a specific column from an existing 2-D array"
   ]
  },
  {
   "cell_type": "code",
   "execution_count": 49,
   "id": "8014aa42",
   "metadata": {},
   "outputs": [
    {
     "name": "stdout",
     "output_type": "stream",
     "text": [
      "Array1 = \n",
      "[[12 10 14 13]\n",
      " [14  9 10 12]\n",
      " [ 6  4  8  6]\n",
      " [ 6 11  4  8]]\n",
      "After delete:\n",
      "arr1 = \n",
      "[[12 10 14 13]\n",
      " [14  9 10 12]\n",
      " [ 6  4  8  6]\n",
      " [ 6 11  4  8]]\n",
      "arr2=\n",
      "[[12 10 13]\n",
      " [14  9 12]\n",
      " [ 6  4  6]\n",
      " [ 6 11  8]]\n"
     ]
    }
   ],
   "source": [
    "arr1 = np.random.randint(low=4, high=16, size=(4,4))\n",
    "arr2 = np.delete(arr1, 2,axis=1)\n",
    "print(f'Array1 = \\n{arr1}\\nAfter delete:\\narr1 = \\n{arr1}\\narr2=\\n{arr2}')"
   ]
  },
  {
   "cell_type": "code",
   "execution_count": null,
   "id": "53f2b8db",
   "metadata": {},
   "outputs": [],
   "source": []
  },
  {
   "cell_type": "markdown",
   "id": "be22443d",
   "metadata": {},
   "source": [
    "## 5. Assigning vs Coping NumPy Arrays"
   ]
  },
  {
   "cell_type": "markdown",
   "id": "6089a38f",
   "metadata": {},
   "source": [
    "### a. Assigning two NumPy Arrays (Create an alias)"
   ]
  },
  {
   "cell_type": "code",
   "execution_count": 53,
   "id": "3df9adfb",
   "metadata": {},
   "outputs": [
    {
     "name": "stdout",
     "output_type": "stream",
     "text": [
      "Array1 = \n",
      "[ 4 13 11  5  6 10  5 13 14 13]\n",
      "After copying:\n",
      "Array2=\n",
      "[ 4 13 11  5  6 10  5 13 14 13]\n",
      "2207428671408\n",
      "2207428671408\n"
     ]
    }
   ],
   "source": [
    "arr1 = np.random.randint(low=4, high=16, size=10)\n",
    "# Creating a copy using assignment operator, both variables point at the same array\n",
    "\n",
    "arr2 = arr1\n",
    "print(f'Array1 = \\n{arr1}\\nAfter copying:\\nArray2=\\n{arr2}\\n{id(arr1)}\\n{id(arr2)}')"
   ]
  },
  {
   "cell_type": "code",
   "execution_count": null,
   "id": "879a746c",
   "metadata": {},
   "outputs": [],
   "source": []
  },
  {
   "cell_type": "markdown",
   "id": "bbed4496",
   "metadata": {},
   "source": [
    "### b. View/Shallow Copy\n",
    "Arrays that share some data. The view method creates an object looking at the same data. Slicing an array returns a view of that array."
   ]
  },
  {
   "cell_type": "code",
   "execution_count": 57,
   "id": "d7aa4606",
   "metadata": {},
   "outputs": [
    {
     "name": "stdout",
     "output_type": "stream",
     "text": [
      "arr1 = [ 7  3  2  3  3  4  2  6 40  2]\n",
      "arr2 = [ 7  3  2  3  3  4  2  6 40  2]\n",
      "2207428657488\n",
      "2207428666416\n",
      "\n",
      "After change\n",
      "arr2 = [ 7  3  2  3  3  4  2  6 40  2]\n"
     ]
    }
   ],
   "source": [
    "arr1 = np.random.randint(low = 1, high = 10, size = 10)\n",
    "# Creating a shallow copy (view) using slice operator\n",
    "arr2 = arr1[:]\n",
    "\n",
    "# Change value in arr1 will occur in arr2\n",
    "arr2[8] = 40\n",
    "print(f'arr1 = {arr1}\\narr2 = {arr2}\\n{id(arr1)}\\n{id(arr2)}\\n\\nAfter change\\narr2 = {arr2}')"
   ]
  },
  {
   "cell_type": "markdown",
   "id": "3a137a5c",
   "metadata": {},
   "source": [
    "### c. Deep Copy"
   ]
  },
  {
   "cell_type": "code",
   "execution_count": 59,
   "id": "0af98614",
   "metadata": {},
   "outputs": [
    {
     "name": "stdout",
     "output_type": "stream",
     "text": [
      "arr1 = [6 4 7 2 3 4 1 3 2 2]\n",
      "arr2 = [ 6  4  7  2  3  4  1  3 40  2]\n",
      "2207428327248\n",
      "2207428670064\n",
      "\n",
      "After change\n",
      "arr2 = [ 6  4  7  2  3  4  1  3 40  2]\n"
     ]
    }
   ],
   "source": [
    "arr1 = np.random.randint(low = 1, high = 10, size = 10)\n",
    "# Create a Deep copy using copy() method, which will create a new copy of the array\n",
    "\n",
    "arr2 = arr1.copy()\n",
    "arr2[8] = 40\n",
    "print(f'arr1 = {arr1}\\narr2 = {arr2}\\n{id(arr1)}\\n{id(arr2)}\\n\\nAfter change\\narr2 = {arr2}')"
   ]
  },
  {
   "cell_type": "code",
   "execution_count": null,
   "id": "b77193ed",
   "metadata": {},
   "outputs": [],
   "source": []
  }
 ],
 "metadata": {
  "kernelspec": {
   "display_name": "Python 3 (ipykernel)",
   "language": "python",
   "name": "python3"
  },
  "language_info": {
   "codemirror_mode": {
    "name": "ipython",
    "version": 3
   },
   "file_extension": ".py",
   "mimetype": "text/x-python",
   "name": "python",
   "nbconvert_exporter": "python",
   "pygments_lexer": "ipython3",
   "version": "3.11.5"
  }
 },
 "nbformat": 4,
 "nbformat_minor": 5
}
