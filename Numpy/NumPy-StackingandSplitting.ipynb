{
 "cells": [
  {
   "cell_type": "code",
   "execution_count": null,
   "id": "081510cf",
   "metadata": {},
   "outputs": [],
   "source": [
    "..\\..\\..\\data_science\\exercise\\Section-3-Python-for-Data-Scientists/"
   ]
  },
  {
   "cell_type": "code",
   "execution_count": 1,
   "id": "a93bc02d",
   "metadata": {},
   "outputs": [
    {
     "data": {
      "text/plain": [
       "('1.24.3', ['C:\\\\Users\\\\FashN\\\\anaconda3\\\\Lib\\\\site-packages\\\\numpy'])"
      ]
     },
     "execution_count": 1,
     "metadata": {},
     "output_type": "execute_result"
    }
   ],
   "source": [
    "import numpy as np\n",
    "np.__version__, np.__path__"
   ]
  },
  {
   "cell_type": "markdown",
   "id": "af8b8de5",
   "metadata": {},
   "source": [
    "<img align=\"left\" width=\"500\" height=\"500\"  src=\"..\\..\\..\\data_science\\exercise\\Section-3-Python-for-Data-Scientists/images/concatfunctions.png\" >"
   ]
  },
  {
   "cell_type": "markdown",
   "id": "8e9ea7e0",
   "metadata": {},
   "source": [
    "# Learning agenda of this notebook"
   ]
  },
  {
   "cell_type": "markdown",
   "id": "075e9d5d",
   "metadata": {},
   "source": [
    "## 1. Concatenating of NumPy Arrays"
   ]
  },
  {
   "cell_type": "markdown",
   "id": "f4c7df87",
   "metadata": {},
   "source": [
    "<img align=\"right\" width=\"500\" height=\"200\"  src=\"..\\..\\..\\data_science\\exercise\\Section-3-Python-for-Data-Scientists/images/concataxis1.png\" >\n",
    "<img align=\"left\" width=\"400\" height=\"400\"  src=\"..\\..\\..\\data_science\\exercise\\Section-3-Python-for-Data-Scientists/images/concataxis0.png\" > "
   ]
  },
  {
   "cell_type": "markdown",
   "id": "698d441e",
   "metadata": {},
   "source": [
    "## 2. Stacking of NumPy Arrays"
   ]
  },
  {
   "cell_type": "markdown",
   "id": "7d32ad5b",
   "metadata": {},
   "source": [
    "<img align=\"left\" width=\"350\" height=\"350\"  src=\"..\\..\\..\\data_science\\exercise\\Section-3-Python-for-Data-Scientists/images/hs1.png\" > \n",
    "<img align=\"right\" width=\"350\" height=\"350\"  src=\"..\\..\\..\\data_science\\exercise\\Section-3-Python-for-Data-Scientists/images/vs1.png\" > "
   ]
  },
  {
   "cell_type": "markdown",
   "id": "2fe2c738",
   "metadata": {},
   "source": [
    "## 3. Splitting NumPy Arrays"
   ]
  },
  {
   "cell_type": "markdown",
   "id": "c9b4f2c5",
   "metadata": {},
   "source": [
    "<img align=\"center\" width=\"400\" height=\"300\"  src=\"..\\..\\..\\data_science\\exercise\\Section-3-Python-for-Data-Scientists/images/splitting.png\" > "
   ]
  },
  {
   "cell_type": "markdown",
   "id": "f58c2ad4",
   "metadata": {},
   "source": [
    "## 1. Concatenating NumPy Arrays\n",
    "<img align=\"right\" width=\"400\" height=\"200\"  src=\"..\\..\\..\\data_science\\exercise\\Section-3-Python-for-Data-Scientists/images/concataxis1.png\" >\n",
    "<img align=\"left\" width=\"500\" height=\"400\"  src=\"..\\..\\..\\data_science\\exercise\\Section-3-Python-for-Data-Scientists/images/concataxis0.png\" > \n",
    "\n",
    "<br><br><br><br><br><br><br><br><br><br>\n",
    "\n",
    "The `np.concatenate()` method is used to join arrays with respect to given axis.\n",
    "\n",
    "```\n",
    "np.concatenate(tup, axis=0)\n",
    "```\n",
    "\n",
    "- Where `tup` is comma separated ndarrays\n",
    "- If axis is 0, it will join the arrays by row-wise (vertically). For 2-D arrays, the number of columns must match.\n",
    "- If axis is 1, it will join the arrays by column-wise (horizontally). For 2-D arrays, the number of rows must match.\n",
    "- For 1-D arrays, the arrays can be of any size/length.\n",
    "- The original arrays remains as such, as it does not occur in-place."
   ]
  },
  {
   "cell_type": "code",
   "execution_count": 9,
   "id": "218c7385",
   "metadata": {},
   "outputs": [
    {
     "name": "stdout",
     "output_type": "stream",
     "text": [
      "arr1 = [ 7  4  5  5 19]\n",
      "arr2 = [8 7 5]\n",
      " arr3 = [ 7  4  5  5 19  8  7  5]\n"
     ]
    }
   ],
   "source": [
    "arr1 = np.random.randint(low=1, high=20, size=5)\n",
    "arr2 = np.random.randint(low=1, high=20, size=3)\n",
    "\n",
    "arr3 = np.concatenate((arr1, arr2))\n",
    "# arr3 = np.concatenate((arr1, arr2), axis=0)\n",
    "\n",
    "print(f\"arr1 = {arr1}\\narr2 = {arr2}\\n arr3 = {arr3}\")\n"
   ]
  },
  {
   "cell_type": "markdown",
   "id": "01db6932",
   "metadata": {},
   "source": [
    "You cannot concatenate 1-D arrays on `axis=1`, as it do not exist :)"
   ]
  },
  {
   "cell_type": "code",
   "execution_count": null,
   "id": "4f38d9d4",
   "metadata": {},
   "outputs": [],
   "source": []
  },
  {
   "cell_type": "markdown",
   "id": "684b7723",
   "metadata": {},
   "source": [
    "**Example:** Concatenate two 2-D Arrays along `axis=0` (vertically/row-wise). The number of columns of two arrays must match."
   ]
  },
  {
   "cell_type": "code",
   "execution_count": 11,
   "id": "f0313c77",
   "metadata": {},
   "outputs": [
    {
     "name": "stdout",
     "output_type": "stream",
     "text": [
      "arr1 = \n",
      "[[2 4 6]\n",
      " [7 8 7]]\n",
      "arr2 = \n",
      "[[7 9 5]]\n",
      " arr3 = \n",
      "[[2 4 6]\n",
      " [7 8 7]\n",
      " [7 9 5]]\n"
     ]
    }
   ],
   "source": [
    "arr1 = np.random.randint(low = 1, high = 10, size = (2,3))\n",
    "arr2 = np.random.randint(low = 1, high = 10, size = (1,3))\n",
    "\n",
    "arr3 = np.concatenate((arr1, arr2), axis=0)\n",
    "print(f\"arr1 = \\n{arr1}\\narr2 = \\n{arr2}\\n arr3 = \\n{arr3}\")\n"
   ]
  },
  {
   "cell_type": "markdown",
   "id": "b2378d49",
   "metadata": {},
   "source": [
    "**Example:** Concatenate two 2-D Arrays along `axis=1` (horizontally/column-wise). The number of rows of two arrays must match."
   ]
  },
  {
   "cell_type": "code",
   "execution_count": 12,
   "id": "2a5bbd4e",
   "metadata": {},
   "outputs": [
    {
     "name": "stdout",
     "output_type": "stream",
     "text": [
      "arr1 = \n",
      "[[1 5 4]\n",
      " [5 8 4]\n",
      " [3 5 1]\n",
      " [4 2 9]]\n",
      "arr2 = \n",
      "[[4 3 6 2 4]\n",
      " [8 1 2 5 2]\n",
      " [7 2 2 7 9]\n",
      " [8 5 2 7 3]]\n",
      " arr3 = \n",
      "[[1 5 4 4 3 6 2 4]\n",
      " [5 8 4 8 1 2 5 2]\n",
      " [3 5 1 7 2 2 7 9]\n",
      " [4 2 9 8 5 2 7 3]]\n"
     ]
    }
   ],
   "source": [
    "arr1 = np.random.randint(low = 1, high = 10, size = (4,3))\n",
    "arr2 = np.random.randint(low = 1, high = 10, size = (4,5))\n",
    "\n",
    "arr3 = np.concatenate((arr1, arr2), axis=1)\n",
    "print(f\"arr1 = \\n{arr1}\\narr2 = \\n{arr2}\\n arr3 = \\n{arr3}\")\n"
   ]
  },
  {
   "cell_type": "code",
   "execution_count": null,
   "id": "0b93d5f6",
   "metadata": {},
   "outputs": [],
   "source": []
  },
  {
   "cell_type": "markdown",
   "id": "0e9afd39",
   "metadata": {},
   "source": [
    "## 2. Stacking NumPy Arrays\n",
    "- Concatenating joins a sequence of arrays along an existing axis, and stacking joins a sequence of arrays along existing as well as along a new axis.\n",
    "- We can perform stacking along three dimensions:\n",
    "    - `np.vstack()` : it performs vertical stacking along the rows.\n",
    "    - `np.hstack()` : it performs horizontal stacking along with the columns.\n",
    "    - `np.dstack()` : it performs in-depth stacking along a new third axis (depth).\n",
    "\n",
    "**Note:** \n",
    "- `numpy.stack()` is the most general of the three methods, offering an axis parameter for specifying which way to put the arrays together.\n",
    "- `np.column_stack()` is used to stack 1-D arrays as columns into 2-D array.\n",
    "- `np.row_stack()` is used to stack 1-D arrays as rows into 2-D array."
   ]
  },
  {
   "cell_type": "code",
   "execution_count": null,
   "id": "314ccf53",
   "metadata": {},
   "outputs": [],
   "source": []
  },
  {
   "cell_type": "markdown",
   "id": "f2a687e4",
   "metadata": {},
   "source": [
    "**Example: `np.row_stack()`**"
   ]
  },
  {
   "cell_type": "code",
   "execution_count": 15,
   "id": "cebaa1c7",
   "metadata": {},
   "outputs": [
    {
     "name": "stdout",
     "output_type": "stream",
     "text": [
      "arr1 = \n",
      "[ 2  6 11]\n",
      "arr2 = \n",
      "[3 6 9]\n",
      " row stack(arr1, arr2) = \n",
      "[[ 2  6 11]\n",
      " [ 3  6  9]]\n"
     ]
    }
   ],
   "source": [
    "#ROW STACK\n",
    "arr1 = np.array([2,6,11])\n",
    "arr2 = np.array([3,6,9])\n",
    "\n",
    "arr3 = np.row_stack((arr1, arr2))\n",
    "\n",
    "print(f\"arr1 = \\n{arr1}\\narr2 = \\n{arr2}\\n row stack(arr1, arr2) = \\n{arr3}\")"
   ]
  },
  {
   "cell_type": "markdown",
   "id": "4197f8f9",
   "metadata": {},
   "source": [
    "**Example: `np.column_stack()`**"
   ]
  },
  {
   "cell_type": "code",
   "execution_count": 16,
   "id": "bb42242b",
   "metadata": {},
   "outputs": [
    {
     "name": "stdout",
     "output_type": "stream",
     "text": [
      "arr1 = \n",
      "[ 2  6 11]\n",
      "arr2 = \n",
      "[3 6 9]\n",
      " column stack(arr1, arr2) = \n",
      "[[ 2  3]\n",
      " [ 6  6]\n",
      " [11  9]]\n"
     ]
    }
   ],
   "source": [
    "#COLUMN STACK\n",
    "arr1 = np.array([2,6,11])\n",
    "arr2 = np.array([3,6,9])\n",
    "\n",
    "arr3 = np.column_stack((arr1, arr2))\n",
    "\n",
    "print(f\"arr1 = \\n{arr1}\\narr2 = \\n{arr2}\\n column stack(arr1, arr2) = \\n{arr3}\")"
   ]
  },
  {
   "cell_type": "code",
   "execution_count": null,
   "id": "d846451d",
   "metadata": {},
   "outputs": [],
   "source": [
    "..\\..\\..\\data_science\\exercise\\Section-3-Python-for-Data-Scientists/"
   ]
  },
  {
   "cell_type": "markdown",
   "id": "b7f633fb",
   "metadata": {},
   "source": [
    "<img align=\"right\" width=\"250\" height=\"100\"  src=\"..\\..\\..\\data_science\\exercise\\Section-3-Python-for-Data-Scientists/images/vstackfinal.png\" > \n",
    "\n",
    "### a. Use `np.vstack()` for Row-Wise Concatenation\n",
    "The `np.vstack()` method is used to stack arrays vertically or row-wise.\n",
    "\n",
    "```\n",
    "np.vstack(tup)\n",
    "```\n",
    "\n",
    "- Where `tup` is comma separated ndarrays\n",
    "- 1-D arrays must have the same size/length, while for 2-D arrays, the number of columns must match.\n",
    "- It returns an ndarray formed by stacking the given arrays, will be at least 2-D.\n",
    "- The original arrays remains as such, as it does not occur in-place."
   ]
  },
  {
   "cell_type": "code",
   "execution_count": 17,
   "id": "cdb73bea",
   "metadata": {},
   "outputs": [
    {
     "name": "stdout",
     "output_type": "stream",
     "text": [
      "arr1 = \n",
      "[ 2  6 11]\n",
      "arr2 = \n",
      "[3 6 9]\n",
      " vstack(arr1, arr2) = \n",
      "[[ 2  6 11]\n",
      " [ 3  6  9]]\n"
     ]
    }
   ],
   "source": [
    "#COLUMN STACK\n",
    "arr1 = np.array([2,6,11])\n",
    "arr2 = np.array([3,6,9])\n",
    "\n",
    "arr3 = np.vstack((arr1, arr2))\n",
    "\n",
    "print(f\"arr1 = \\n{arr1}\\narr2 = \\n{arr2}\\n vstack(arr1, arr2) = \\n{arr3}\")"
   ]
  },
  {
   "cell_type": "markdown",
   "id": "50bd9129",
   "metadata": {},
   "source": [
    "Note: The output array is a 2-D array"
   ]
  },
  {
   "cell_type": "code",
   "execution_count": null,
   "id": "498396e8",
   "metadata": {},
   "outputs": [],
   "source": []
  },
  {
   "cell_type": "markdown",
   "id": "2857a1dc",
   "metadata": {},
   "source": [
    "**Example:** Perform vertical stacking of two 2-D Arrays. The number of columns of two arrays must match"
   ]
  },
  {
   "cell_type": "code",
   "execution_count": 4,
   "id": "21e1ca72",
   "metadata": {},
   "outputs": [
    {
     "name": "stdout",
     "output_type": "stream",
     "text": [
      "arr1 = \n",
      "[[3 6 2]\n",
      " [6 1 7]]\n",
      "arr2 = \n",
      "[[18 12 11]\n",
      " [16 12 18]\n",
      " [14 15 18]]\n",
      " vstack(arr1, arr2) = \n",
      "[[ 3  6  2]\n",
      " [ 6  1  7]\n",
      " [18 12 11]\n",
      " [16 12 18]\n",
      " [14 15 18]]\n"
     ]
    }
   ],
   "source": [
    "import numpy as np\n",
    "arr1 = np.random.randint(low=1, high=10, size=(2,3))\n",
    "arr2 = np.random.randint(low=11, high=20, size=(3,3))\n",
    "arr3 = np.vstack((arr1,arr2))\n",
    "\n",
    "print(f\"arr1 = \\n{arr1}\\narr2 = \\n{arr2}\\n vstack(arr1, arr2) = \\n{arr3}\")"
   ]
  },
  {
   "cell_type": "code",
   "execution_count": null,
   "id": "982d492c",
   "metadata": {},
   "outputs": [],
   "source": []
  },
  {
   "cell_type": "markdown",
   "id": "5246dacd",
   "metadata": {},
   "source": [
    "<img align=\"right\" width=\"250\" height=\"100\"  src=\"..\\..\\..\\data_science\\exercise\\Section-3-Python-for-Data-Scientists/images/hstackfinal.png\" > \n",
    "\n",
    "### b. Using `np.hstack()` for Column-Wise Concatenation\n",
    "The `np.hstack()` method is used to stack arrays horizontally or column-wise.\n",
    "\n",
    "```\n",
    "np.hstack(tup)\n",
    "```\n",
    "\n",
    "- Where `tup` is comma separated ndarrays\n",
    "- 1-D arrays can have any size/length, while for 2-D arrays, the number of rows must match.\n",
    "- It returns an ndarray formed by stacking the given arrays.\n",
    "- The original arrays remains as such, as it does not occur in-place."
   ]
  },
  {
   "cell_type": "markdown",
   "id": "3e931d39",
   "metadata": {},
   "source": [
    "**Example:** Perform horizontal stacking of two 1-D Arrays, which can be of different  size/length"
   ]
  },
  {
   "cell_type": "code",
   "execution_count": 7,
   "id": "099b35c4",
   "metadata": {},
   "outputs": [
    {
     "name": "stdout",
     "output_type": "stream",
     "text": [
      "arr1 = \n",
      "[ 2  6 11]\n",
      "arr2 = \n",
      "[3 6 9]\n",
      "hstack(arr1, arr2) = \n",
      "[ 2  6 11  3  6  9]\n"
     ]
    }
   ],
   "source": [
    "arr1 = np.array([2,6,11])\n",
    "arr2 = np.array([3,6,9])\n",
    "\n",
    "arr3 = np.hstack((arr1, arr2))\n",
    "\n",
    "print(f\"arr1 = \\n{arr1}\\narr2 = \\n{arr2}\\nhstack(arr1, arr2) = \\n{arr3}\")"
   ]
  },
  {
   "cell_type": "markdown",
   "id": "885c38e3",
   "metadata": {},
   "source": [
    "Note: The output array is a 1-D array"
   ]
  },
  {
   "cell_type": "markdown",
   "id": "e4c4b0af",
   "metadata": {},
   "source": [
    "**Example:** Perform horizontal stacking of two 2-D Arrays. The number of rows of two arrays must match"
   ]
  },
  {
   "cell_type": "code",
   "execution_count": 9,
   "id": "b0fdd381",
   "metadata": {},
   "outputs": [
    {
     "name": "stdout",
     "output_type": "stream",
     "text": [
      "arr1 = \n",
      "[[4 3]\n",
      " [2 9]]\n",
      "arr2 = \n",
      "[[15 16 12]\n",
      " [14 17 12]]\n",
      "hstack(arr1, arr2) = \n",
      "[[ 4  3 15 16 12]\n",
      " [ 2  9 14 17 12]]\n"
     ]
    }
   ],
   "source": [
    "import numpy as np\n",
    "arr1 = np.random.randint(low=1, high=10, size=(2,2))\n",
    "arr2 = np.random.randint(low=11, high=20, size=(2,3))\n",
    "arr3 = np.hstack((arr1,arr2))\n",
    "\n",
    "print(f\"arr1 = \\n{arr1}\\narr2 = \\n{arr2}\\nhstack(arr1, arr2) = \\n{arr3}\")"
   ]
  },
  {
   "cell_type": "code",
   "execution_count": null,
   "id": "a543ea3d",
   "metadata": {},
   "outputs": [],
   "source": []
  },
  {
   "cell_type": "markdown",
   "id": "01420713",
   "metadata": {},
   "source": [
    "### e. Using `np.stack()`\n",
    "\n",
    "- The `np.stack()` method is used to join a sequence of same dimension arrays along a new axis.\n",
    "- The axis parameter specifies the index of the new axis in the dimensions of the result. \n",
    "- For example, if axis=0 it will be the first dimension and if axis=-1 it will be the last dimension.\n",
    "```\n",
    "np.stack(a1, a2, a3, ..., axis=0)\n",
    "```\n",
    "\n",
    "- Where `tup` is comma separated ndarrays\n",
    "- 1-D or 2-D arrays must have the same shape, while n-D arrays must have the same shape along all but the third axis.\n",
    "- It returns the array formed by stacking the given arrays, which has one more dimension than the input arrays.\n",
    "- This function makes most sense for arrays with up to 3 dimensions. For instance, for pixel-data with a height (first axis), width (second axis), and r/g/b channels (third axis).\n",
    "\n",
    "\n",
    "\n",
    "**Note:** Concatenating joins a sequence of tensors along an existing axis, and stacking joins a sequence of tensors along a new axis"
   ]
  },
  {
   "cell_type": "markdown",
   "id": "95df8b91",
   "metadata": {},
   "source": [
    "**Example:** Perform stacking of two 1-D Arrays, which must have the same size/shape."
   ]
  },
  {
   "cell_type": "code",
   "execution_count": null,
   "id": "22c8e59e",
   "metadata": {},
   "outputs": [],
   "source": []
  },
  {
   "cell_type": "code",
   "execution_count": 15,
   "id": "0be04994",
   "metadata": {},
   "outputs": [
    {
     "name": "stdout",
     "output_type": "stream",
     "text": [
      "arr1 = \n",
      "[4 9 7 4]\n",
      "arr2 = \n",
      "[5 5 2 1]\n",
      "\n",
      "stack(arr1, arr2, axis = 0) = \n",
      "[[4 9 7 4]\n",
      " [5 5 2 1]]\n",
      "\n",
      "stack(arr1, arr2, axis = 1) = \n",
      "[[4 5]\n",
      " [9 5]\n",
      " [7 2]\n",
      " [4 1]]\n",
      "\n",
      "row_stack = \n",
      "[[4 9 7 4]\n",
      " [5 5 2 1]]\n",
      "\n",
      "column_stack = \n",
      "[[4 5]\n",
      " [9 5]\n",
      " [7 2]\n",
      " [4 1]]\n"
     ]
    }
   ],
   "source": [
    "arr1 = np.random.randint(low = 1, high = 10, size = 4)\n",
    "arr2 = np.random.randint(low = 1, high = 10, size = 4)\n",
    "\n",
    "# Stacking two 1-D arrays along axis 0 using stack()\n",
    "arr3 = np.stack((arr1,arr2), axis=0)\n",
    "\n",
    "# Stacking the two 1-D arrays using row_stack()\n",
    "arr4 = np.stack((arr1,arr2), axis=1)\n",
    "\n",
    "# Stacking the two 1-D arrays using row_stack()\n",
    "arr5 = np.row_stack((arr1,arr2))\n",
    "\n",
    "# Stacking the two 1-D arrays using column_stack()\n",
    "arr6 = np.column_stack((arr1,arr2))\n",
    "\n",
    "print(f\"arr1 = \\n{arr1}\\narr2 = \\n{arr2}\\n\\nstack(arr1, arr2, axis = 0) = \\n{arr3}\\n\\nstack(arr1, arr2, axis = 1) = \\n{arr4}\\n\\nrow_stack = \\n{arr5}\\n\\ncolumn_stack = \\n{arr6}\")"
   ]
  },
  {
   "cell_type": "markdown",
   "id": "13507d69",
   "metadata": {},
   "source": [
    "**Example:** Perform stacking of two 2-D Arrays, which must have the same size/shape.\n"
   ]
  },
  {
   "cell_type": "code",
   "execution_count": 17,
   "id": "9b30eb80",
   "metadata": {},
   "outputs": [
    {
     "name": "stdout",
     "output_type": "stream",
     "text": [
      "arr1 = \n",
      "[[4 3 1]\n",
      " [5 6 2]]\n",
      "arr2 = \n",
      "[[ 5  3  8]\n",
      " [ 6  9 10]]\n",
      "stack((arr1, arr2), axis = 0) = \n",
      "[[[ 4  3  1]\n",
      "  [ 5  6  2]]\n",
      "\n",
      " [[ 5  3  8]\n",
      "  [ 6  9 10]]]\n",
      "arr3.shape = (2, 2, 3)\n"
     ]
    }
   ],
   "source": [
    "arr1 = np.array([[4,3,1], [5,6,2]])\n",
    "arr2 = np.array([[5,3,8], [6,9,10]])\n",
    "arr3 = np.stack((arr1, arr2), axis = 0)\n",
    "# Stacking the two arrays along axis 0\n",
    "print(f\"arr1 = \\n{arr1}\\narr2 = \\n{arr2}\\nstack((arr1, arr2), axis = 0) = \\n{arr3}\\narr3.shape = {arr3.shape}\")"
   ]
  },
  {
   "cell_type": "code",
   "execution_count": null,
   "id": "e70093ae",
   "metadata": {},
   "outputs": [],
   "source": []
  },
  {
   "cell_type": "code",
   "execution_count": 18,
   "id": "8dece1d5",
   "metadata": {},
   "outputs": [
    {
     "name": "stdout",
     "output_type": "stream",
     "text": [
      "arr1 = \n",
      "[[4 3 1]\n",
      " [5 6 2]]\n",
      "arr2 = \n",
      "[[ 5  3  8]\n",
      " [ 6  9 10]]\n",
      "stack((arr1, arr2), axis = 1) = \n",
      "[[[ 4  3  1]\n",
      "  [ 5  3  8]]\n",
      "\n",
      " [[ 5  6  2]\n",
      "  [ 6  9 10]]]\n",
      "arr3.shape = (2, 2, 3)\n"
     ]
    }
   ],
   "source": [
    "arr1 = np.array([[4,3,1], [5,6,2]])\n",
    "arr2 = np.array([[5,3,8], [6,9,10]])\n",
    "arr3 = np.stack((arr1, arr2), axis = 1)\n",
    "# Stacking the two arrays along axis 0\n",
    "print(f\"arr1 = \\n{arr1}\\narr2 = \\n{arr2}\\nstack((arr1, arr2), axis = 1) = \\n{arr3}\\narr3.shape = {arr3.shape}\")"
   ]
  },
  {
   "cell_type": "code",
   "execution_count": null,
   "id": "fd7c8b8e",
   "metadata": {},
   "outputs": [],
   "source": []
  },
  {
   "cell_type": "markdown",
   "id": "636d2488",
   "metadata": {},
   "source": [
    "## 3. Splitting NumPy Arrays\n",
    "- Splitting is reverse operation of Joining, and is used to split one array into multiple arrays....\n",
    "- We can perform splitting along three dimensions:\n",
    "    - `np.split()` : Split array into a list of multiple sub-arrays of equal size.\n",
    "    - `np.hsplit()` : Split array into multiple sub-arrays horizontally (column wise).\n",
    "    - `np.vsplit()` : Split array into multiple sub-arrays vertically (row wise)."
   ]
  },
  {
   "cell_type": "markdown",
   "id": "c3e7cc04",
   "metadata": {},
   "source": [
    "### a. The `np.split()` and `np.array_split()` Methods\n",
    "\n",
    "<img align=\"left\" width=\"400\" height=\"200\"  src=\"..\\..\\..\\data_science\\exercise\\Section-3-Python-for-Data-Scientists/images/split.png\" > \n",
    "<img align=\"right\" width=\"400\" height=\"200\"  src=\"images/array_split.png\" > \n",
    "\n",
    "<br><br><br><br><br><br><br><br><br><br>\n",
    "- The `np.split()` method splits an array into multiple sub-arrays of equal sizes.\n",
    "\n",
    "```\n",
    "np.split(arr, size, axis=0)\n",
    "```\n",
    "- Where,\n",
    "    - `arr` is the array to be divided into sub-arrays.\n",
    "    - `size` is an size of the sub-arrays, into which `arr` will be divided along the axis. \n",
    "    - `axis` is the axis along which to split, default is 0.\n",
    "- If such split is not possible, an error is raised. To avoid error you can use `np.array_split()`\n",
    "- It returns a list of sub-arrays as views into `arr`"
   ]
  },
  {
   "cell_type": "code",
   "execution_count": null,
   "id": "9bef7fed",
   "metadata": {},
   "outputs": [],
   "source": []
  },
  {
   "cell_type": "markdown",
   "id": "fc2c7792",
   "metadata": {},
   "source": [
    "**Example:** Use of `split()`"
   ]
  },
  {
   "cell_type": "code",
   "execution_count": 20,
   "id": "91a6b937",
   "metadata": {},
   "outputs": [
    {
     "name": "stdout",
     "output_type": "stream",
     "text": [
      "arr1 = \n",
      "[ 2 18 12  9  7 14 14  6  2  9  8  1 15]\n",
      "\n",
      "Sub-arrays: \n",
      "[array([ 2, 18, 12,  9]), array([ 7, 14, 14]), array([6, 2, 9]), array([ 8,  1, 15])]\n"
     ]
    }
   ],
   "source": [
    "arr1 = np.random.randint(low=1, high=20, size=13)\n",
    "# The array_split() will not flag an error if size is not a factor of array size (will manage)\n",
    "print(f'arr1 = \\n{arr1}\\n\\nSub-arrays: \\n{np.array_split(arr1, 4)}')"
   ]
  },
  {
   "cell_type": "code",
   "execution_count": null,
   "id": "02b9f770",
   "metadata": {},
   "outputs": [],
   "source": []
  },
  {
   "cell_type": "markdown",
   "id": "b1f12ee2",
   "metadata": {},
   "source": [
    "<img align=\"right\" width=\"150\" height=\"50\"  src=\"..\\..\\..\\data_science\\exercise\\Section-3-Python-for-Data-Scientists/images/hsplit.png\" > \n",
    "\n",
    "### b. The `np.hsplit()` Method\n",
    "- The `np.hsplit()` method is used to split an array into multiple sub-arrays horizontally (column-wise). \n",
    "- The `np.hsplit()` is equivalent to split with axis=1, the array is always split along the second axis regardless of the array dimension.\n",
    "\n",
    "```\n",
    "np.hsplit(arr, size)\n",
    "```\n",
    "- Where,\n",
    "    - `arr` is the array to be divided into sub-arrays.\n",
    "    - `size` is the size of the sub-arrays, into which `arr` will be divided along the axis. For `hsplit()`, size argument should be a factor of number of columns, else it flags an error\n",
    "- It returns a list of sub-arrays as views into `arr`"
   ]
  },
  {
   "cell_type": "code",
   "execution_count": 24,
   "id": "bad3df1e",
   "metadata": {},
   "outputs": [
    {
     "name": "stdout",
     "output_type": "stream",
     "text": [
      "arr1 = \n",
      "[[ 0.  1.  2.  3.]\n",
      " [ 4.  5.  6.  7.]\n",
      " [ 8.  9. 10. 11.]\n",
      " [12. 13. 14. 15.]\n",
      " [16. 17. 18. 19.]]\n",
      "\n",
      "Sub-arrays: \n",
      "[array([[ 0.],\n",
      "       [ 4.],\n",
      "       [ 8.],\n",
      "       [12.],\n",
      "       [16.]]), array([[ 1.],\n",
      "       [ 5.],\n",
      "       [ 9.],\n",
      "       [13.],\n",
      "       [17.]]), array([[ 2.],\n",
      "       [ 6.],\n",
      "       [10.],\n",
      "       [14.],\n",
      "       [18.]]), array([[ 3.],\n",
      "       [ 7.],\n",
      "       [11.],\n",
      "       [15.],\n",
      "       [19.]])]\n"
     ]
    }
   ],
   "source": [
    "# create an array of float type with 4 rows and 4 columns with sequential values from 0 to 15\n",
    "arr1 = np.arange(20.0).reshape(5,4)\n",
    "\n",
    "print(f'arr1 = \\n{arr1}\\n\\nSub-arrays: \\n{np.hsplit(arr1, 4)}')"
   ]
  },
  {
   "cell_type": "code",
   "execution_count": null,
   "id": "f3968c82",
   "metadata": {},
   "outputs": [],
   "source": []
  },
  {
   "cell_type": "markdown",
   "id": "d95b4b0b",
   "metadata": {},
   "source": [
    "<img align=\"right\" width=\"200\" height=\"50\"  src=\"..\\..\\..\\data_science\\exercise\\Section-3-Python-for-Data-Scientists/images/vsplit.png\" > \n",
    "\n",
    "### c. The `np.vsplit()` Method\n",
    "- The `np.vsplit()` method is used to split an array into multiple sub-arrays vertically (row-wise). Not applicable for 1-D array.\n",
    "- The `np.vsplit()` is equivalent to split with axis=0, the array is always split along the first axis regardless of the array dimension.\n",
    "\n",
    "```\n",
    "np.vsplit(arr, size)\n",
    "```\n",
    "-Where,\n",
    "   - `arr` is the array to be divided into sub-arrays.\n",
    "   - `size` is the size of the sub-arrays, into which `arr` will be divided along the axis. For `vsplit()`, size argument should be a factor of number of rows, else it flags an error\n",
    "- It returns a list of sub-arrays as views into `arr`"
   ]
  },
  {
   "cell_type": "code",
   "execution_count": 32,
   "id": "edfa0e7c",
   "metadata": {},
   "outputs": [
    {
     "name": "stdout",
     "output_type": "stream",
     "text": [
      "arr1 = \n",
      "[[ 0.  1.  2.  3.  4.]\n",
      " [ 5.  6.  7.  8.  9.]\n",
      " [10. 11. 12. 13. 14.]\n",
      " [15. 16. 17. 18. 19.]]\n",
      "arr1.shape = (4, 5)\n",
      "\n",
      "Sub-arrays: \n",
      "[array([[0., 1., 2., 3., 4.],\n",
      "       [5., 6., 7., 8., 9.]]), array([[10., 11., 12., 13., 14.],\n",
      "       [15., 16., 17., 18., 19.]])]\n"
     ]
    }
   ],
   "source": [
    "# create an array of float type with 4 rows and 4 columns with sequential values from 0 to 15\n",
    "arr1 = np.arange(20.0).reshape(4,5)\n",
    "\n",
    "print(f'arr1 = \\n{arr1}\\narr1.shape = {arr1.shape}\\n\\nSub-arrays: \\n{np.vsplit(arr1, 2)}')"
   ]
  },
  {
   "cell_type": "code",
   "execution_count": null,
   "id": "5d7a4cfa",
   "metadata": {},
   "outputs": [],
   "source": []
  },
  {
   "cell_type": "code",
   "execution_count": 33,
   "id": "b747ca7e",
   "metadata": {},
   "outputs": [
    {
     "name": "stdout",
     "output_type": "stream",
     "text": [
      "arr3:  [[2 3]\n",
      " [5 6]\n",
      " [1 2]]\n",
      "arr4:  [[2 5 1]\n",
      " [3 6 2]]\n",
      "arr5:  [2 5 1 3 6 2]\n",
      "arr6:  [[2 3]\n",
      " [5 6]\n",
      " [1 2]]\n"
     ]
    }
   ],
   "source": [
    "import numpy as np\n",
    "arr1 = np.array([2,5,1])\n",
    "arr2 = np.array([3,6,2])\n",
    "arr3 = np.column_stack((arr1, arr2))\n",
    "arr4 = np.vstack((arr1, arr2))\n",
    "arr5 = np.hstack((arr1, arr2))\n",
    "arr6 = np.stack((arr1, arr2), axis = 1)\n",
    "print (\"arr3: \", arr3)\n",
    "print (\"arr4: \", arr4)\n",
    "print (\"arr5: \", arr5)\n",
    "print (\"arr6: \", arr6)"
   ]
  },
  {
   "cell_type": "code",
   "execution_count": null,
   "id": "d3a8c1ee",
   "metadata": {},
   "outputs": [],
   "source": []
  }
 ],
 "metadata": {
  "kernelspec": {
   "display_name": "Python 3 (ipykernel)",
   "language": "python",
   "name": "python3"
  },
  "language_info": {
   "codemirror_mode": {
    "name": "ipython",
    "version": 3
   },
   "file_extension": ".py",
   "mimetype": "text/x-python",
   "name": "python",
   "nbconvert_exporter": "python",
   "pygments_lexer": "ipython3",
   "version": "3.11.5"
  }
 },
 "nbformat": 4,
 "nbformat_minor": 5
}
