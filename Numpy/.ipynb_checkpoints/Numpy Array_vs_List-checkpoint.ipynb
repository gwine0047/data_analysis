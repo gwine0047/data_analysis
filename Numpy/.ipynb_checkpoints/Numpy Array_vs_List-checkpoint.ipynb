{
 "cells": [
  {
   "cell_type": "markdown",
   "id": "66fecdbb",
   "metadata": {},
   "source": [
    "<img align=\"right\" width=\"500\" height=\"500\"  src=\"..\\..\\..\\data_science\\exercise\\Section-3-Python-for-Data-Scientists\\images\\listvsarrayvsnumpy.png\" > "
   ]
  },
  {
   "cell_type": "markdown",
   "id": "d92d817d",
   "metadata": {},
   "source": [
    "# Learning agenda of this notebook\n",
    "1. A Comparison\n",
    "    - Python Lists\n",
    "    - Python Arrays\n",
    "    - NumPy Arrays\n",
    "2. Memory Consumption of Python List and Numpy Array\n",
    "3. Operation cost on Python List and Numpy Array"
   ]
  },
  {
   "cell_type": "markdown",
   "id": "157296f2",
   "metadata": {},
   "source": [
    "### a. Python Lists\n",
    "- Python List is a numerically ordered sequence of elements that can store elements of heterogeneous types, is iterable, mutable and allows duplicate elements.\n",
    "- A Python List is built-in type in Python and can be created by placing comma separated values in square brackets, and you don't have to specify the type while creating a Python List\n",
    "- Python list is by default 1 dimensional. But we can create an N-Dimensional list. But then too it will be 1 D list storing another 1D list\n",
    "- Items are stored non-contiguously in memory.\n",
    "- More memory hungry.\n",
    "- Operations on Lists are typically slower, however, append operation will take O(1) time."
   ]
  },
  {
   "cell_type": "code",
   "execution_count": 1,
   "id": "a80c6057",
   "metadata": {},
   "outputs": [
    {
     "name": "stdout",
     "output_type": "stream",
     "text": [
      "Type = <class 'list'>\n",
      "List = [1, 'Data Analysis', ['a', 'b', 'c'], False, 3.45]\n"
     ]
    }
   ],
   "source": [
    "# creating a list containing elements belonging to different data types  \n",
    "mylist = [1, \"Data Analysis\", ['a', 'b', 'c'], False, 3.45]\n",
    "print(f'Type = {type(mylist)}\\nList = {mylist}')"
   ]
  },
  {
   "cell_type": "code",
   "execution_count": null,
   "id": "76c02681",
   "metadata": {},
   "outputs": [],
   "source": []
  },
  {
   "cell_type": "markdown",
   "id": "458e72b5",
   "metadata": {},
   "source": [
    "### b. Python Arrays\n",
    "- A simple Python array is a sequence of objects of similar data dype. Python array module requires all array elements to be of the same type. Moreover, to create an array, you'll need to specify a value type. \n",
    "\n",
    "```\n",
    "array(typecode [, initializer])\n",
    "```\n",
    "\n",
    "- Return a new array whose items are restricted by typecode, and initialized from the optional initializer value, which must be a list, string or iterable over elements of the appropriate type.\n",
    "\n",
    "- Arrays represent basic values and behave very much like lists, except the type of objects stored in them is constrained. The type is specified at object creation time by using a type code, which is a single character.\n",
    "- The following type codes are defined:\n",
    "\n",
    "\n",
    "    Type code   C Type             Minimum size in bytes\n",
    "    \n",
    "    'b'         signed integer     1\n",
    "    \n",
    "    'B'         unsigned integer   1\n",
    "    \n",
    "    'u'         Unicode character  2 (see note)\n",
    "    \n",
    "    'h'         signed integer     2\n",
    "    \n",
    "    'H'         unsigned integer   2\n",
    "    \n",
    "    'i'         signed integer     2\n",
    "    \n",
    "    'I'         unsigned integer   2\n",
    "    \n",
    "    'l'         signed integer     4\n",
    "    \n",
    "    'L'         unsigned integer   4\n",
    "    \n",
    "    'q'         signed integer     8 (see note)\n",
    "    \n",
    "    'Q'         unsigned integer   8 (see note)\n",
    "    \n",
    "    'f'         floating point     4\n",
    "    \n",
    "    'd'         floating point     8"
   ]
  },
  {
   "cell_type": "code",
   "execution_count": 9,
   "id": "750b0826",
   "metadata": {},
   "outputs": [
    {
     "name": "stdout",
     "output_type": "stream",
     "text": [
      "Type = <class 'array.array'>\n",
      "List = array('i', [2, 3, 4, 7, 78])\n",
      "\n",
      "Type = <class 'array.array'>\n",
      "List = array('f', [2.3399999141693115, 3.009000062942505, 44.5, 7.112299919128418, 78.0])\n",
      "\n",
      "None\n"
     ]
    }
   ],
   "source": [
    "# To use Python arrays, you have to import Python's built-in array module\n",
    "import array\n",
    "\n",
    "# declare the array of integers\n",
    "arr = array.array('i', [2,3,4,7,78])\n",
    "print(f'Type = {type(arr)}\\nList = {arr}')\n",
    "print()\n",
    "\n",
    "# declare the array of integers\n",
    "arr2 = array.array('f', [2.34,3.009,44.5,7.1123,78])\n",
    "print(f'Type = {type(arr2)}\\nList = {arr2}')\n",
    "print()\n",
    "\n",
    "# Python arrays can grow/shrink dynamically\n",
    "arr1 = arr2.append(999)\n",
    "print(arr1)"
   ]
  },
  {
   "cell_type": "code",
   "execution_count": 18,
   "id": "3297bfad",
   "metadata": {},
   "outputs": [
    {
     "name": "stdout",
     "output_type": "stream",
     "text": [
      "Type = <class 'numpy.ndarray'>\n",
      "List = [ 2.56  1.    6.    0.01 -3.    0.  ]\n",
      "<class 'numpy.float64'>\n",
      "<class 'numpy.float64'>\n",
      "<class 'numpy.float64'>\n"
     ]
    }
   ],
   "source": [
    "# NumPy array upcast data type of all elements to bigger datatype in case of different types\n",
    "import numpy as np\n",
    "arr1 = np.array([2.56, True, 6, 0.01, -3, False])\n",
    "print(f'Type = {type(arr1)}\\nList = {arr1}')\n",
    "print(type(arr1[1]))\n",
    "print(type(arr1[2]))\n",
    "print(type(arr1[5]))"
   ]
  },
  {
   "cell_type": "code",
   "execution_count": 21,
   "id": "cf9273ac",
   "metadata": {},
   "outputs": [
    {
     "name": "stdout",
     "output_type": "stream",
     "text": [
      "Type = <class 'numpy.ndarray'>\n",
      "List = ['1.02' '-6' 'Godwin' 'True']\n",
      "<class 'numpy.str_'>\n",
      "<class 'numpy.str_'>\n",
      "<class 'numpy.str_'>\n"
     ]
    }
   ],
   "source": [
    "# NumPy array upcast data type of all elements to bigger datatype in case of different types\n",
    "arr = np.array([1.02, -6, 'Godwin', True])\n",
    "print(f'Type = {type(arr)}\\nList = {arr}')\n",
    "print(type(arr[1]))\n",
    "print(type(arr[3]))\n",
    "print(type(arr[2]))"
   ]
  },
  {
   "cell_type": "code",
   "execution_count": 22,
   "id": "b10aa269",
   "metadata": {},
   "outputs": [
    {
     "name": "stdout",
     "output_type": "stream",
     "text": [
      "Type = <class 'numpy.ndarray'>\n",
      "List = ['1.02' '-6' 'Godwin' 'True']\n",
      "<class 'numpy.uint16'>\n",
      "<class 'numpy.uint16'>\n"
     ]
    }
   ],
   "source": [
    "# If you mention the data type, the elements are automatically typecasted to the mentioned type\n",
    "array1 = np.array([3.5, False, 9.8, 2.7, True], dtype=np.uint16)\n",
    "print(f'Type = {type(arr)}\\nList = {arr}')\n",
    "print(type(array1[1]))\n",
    "print(type(array1[3]))"
   ]
  },
  {
   "cell_type": "code",
   "execution_count": 24,
   "id": "1966bca7",
   "metadata": {},
   "outputs": [],
   "source": [
    "# # If you mention the data type, the elements are automatically typecasted to the mentioned type\n",
    "# import numpy as np\n",
    "# array1 = np.array([3.5, False, 9.8, 2.7, True], dtype=np.str)\n",
    "# print(array1)\n",
    "# print(f'Type = {type(arr)}\\nList = {arr}')\n",
    "# print(type(array1[1]))\n",
    "# print(type(array1[3]))"
   ]
  },
  {
   "cell_type": "markdown",
   "id": "988fe7f4",
   "metadata": {},
   "source": [
    "## 2. Memory Consumption of NumPy Array and Python List\n",
    "- Python Lists consume more memory than NumPy arrays"
   ]
  },
  {
   "cell_type": "code",
   "execution_count": 34,
   "id": "3d651557",
   "metadata": {},
   "outputs": [
    {
     "name": "stdout",
     "output_type": "stream",
     "text": [
      "PYTHON LIST\n",
      "Size of each element = 48\n",
      "Size of mylist = 48000bytes\n",
      "\n",
      "NUMPY ARRAY\n",
      "Size of each element = 1\n",
      "Size of mylist = 1000bytes\n"
     ]
    }
   ],
   "source": [
    "import numpy as np\n",
    "import sys\n",
    "\n",
    "print(\"PYTHON LIST\")\n",
    "# declaring a list of 1000 elements\n",
    "mylist = range(0, 1000)\n",
    "\n",
    "element_size = sys.getsizeof(mylist)\n",
    "mylist_size = element_size * len(mylist)\n",
    "print(f'Size of each element = {element_size}\\nSize of mylist = {mylist_size}bytes')\n",
    "\n",
    "print(\"\\nNUMPY ARRAY\")\n",
    "# declaring a Numpy array of 1000 elements\n",
    "arr1 = np.arange(1000, dtype=np.uint8)\n",
    "print(f'Size of each element = {arr1.itemsize}\\nSize of mylist = {arr1.nbytes}bytes')\n"
   ]
  },
  {
   "cell_type": "code",
   "execution_count": null,
   "id": "f4d24427",
   "metadata": {},
   "outputs": [],
   "source": []
  },
  {
   "cell_type": "markdown",
   "id": "b7d26515",
   "metadata": {},
   "source": [
    "## 3. Operations on NumPy Arrays vs Python Lists\n",
    "- NumPy arrays are stored at one continuous place in memory unlike lists, so processes can access and manipulate them very efficiently. \n",
    "- This behavior is called **locality of reference** in computer science. \n",
    "- This is the main reason why NumPy is faster than lists. \n",
    "- As a proof of concept, we can multiply two list and and then two arrays, and compare their multiplication time"
   ]
  },
  {
   "cell_type": "markdown",
   "id": "00b2021e",
   "metadata": {},
   "source": [
    "### Effect of * operator on NumPy Array and Python List"
   ]
  },
  {
   "cell_type": "code",
   "execution_count": 35,
   "id": "b0833309",
   "metadata": {},
   "outputs": [
    {
     "data": {
      "text/plain": [
       "array([ 1,  4,  9, 16, 25, 36])"
      ]
     },
     "execution_count": 35,
     "metadata": {},
     "output_type": "execute_result"
    }
   ],
   "source": [
    "# You can multiply two numPy arrays using * operator\n",
    "import numpy as np\n",
    "myarray1 = np.array([1, 2, 3, 4, 5, 6])\n",
    "myarray2 = np.array([1, 2, 3, 4, 5, 6])\n",
    "myarray3 = myarray1 * myarray2\n",
    "myarray3"
   ]
  },
  {
   "cell_type": "code",
   "execution_count": 36,
   "id": "5b340cdb",
   "metadata": {},
   "outputs": [
    {
     "data": {
      "text/plain": [
       "[1, 4, 9, 16, 25, 36]"
      ]
     },
     "execution_count": 36,
     "metadata": {},
     "output_type": "execute_result"
    }
   ],
   "source": [
    "# you can't multiply two lists using a * operator, you have to use a loop\n",
    "mylist1 = [1, 2, 3, 4, 5, 6]\n",
    "mylist2 = [1, 2, 3, 4, 5, 6]\n",
    "mylist3 = [0, 0, 0, 0, 0, 0]\n",
    "for i in range(0,6):\n",
    "    mylist3[i] = mylist1[i] * mylist2[i]\n",
    "mylist3"
   ]
  },
  {
   "cell_type": "code",
   "execution_count": 48,
   "id": "c2bc782e",
   "metadata": {},
   "outputs": [
    {
     "data": {
      "text/plain": [
       "[10, 12, 12, 10]"
      ]
     },
     "execution_count": 48,
     "metadata": {},
     "output_type": "execute_result"
    }
   ],
   "source": [
    "list1 = [5,4,3,2]\n",
    "list2 = [2,3,4,5]\n",
    "list3 = [0,0,0,0]\n",
    "\n",
    "for i in range(4):\n",
    "    list3[i] = list1[i] * list2[i]\n",
    "list3"
   ]
  },
  {
   "cell_type": "markdown",
   "id": "4c405e99",
   "metadata": {},
   "source": [
    "**Let us calculate time to multiply two numPy arrays of 1 million elements**"
   ]
  },
  {
   "cell_type": "code",
   "execution_count": null,
   "id": "8858a068",
   "metadata": {},
   "outputs": [],
   "source": []
  },
  {
   "cell_type": "code",
   "execution_count": 57,
   "id": "36cf87d5",
   "metadata": {},
   "outputs": [
    {
     "name": "stdout",
     "output_type": "stream",
     "text": [
      "Time started = 1707477319.3876636\n",
      "Time ended = 1707477319.3916554\n",
      "Time Taken = -0.003991842269897461\n"
     ]
    }
   ],
   "source": [
    "import time\n",
    "size = 1000000\n",
    "arr1 = np.arange(size)\n",
    "arr2 = np.arange(size)\n",
    "\n",
    "# capturing time before the multiplication of Numpy arrays\n",
    "initialTime = time.time()\n",
    "\n",
    "# multiplying elements of both the Numpy arrays and stored in another Numpy array\n",
    "arr3 = arr1 * arr2\n",
    "\n",
    "# capturing time again after the multiplication is done\n",
    "finishTime = time.time()\n",
    "\n",
    "final = initialTime - finishTime\n",
    "print(f'Time started = {initialTime}\\nTime ended = {finishTime}\\nTime Taken = {initialTime - finishTime}')"
   ]
  },
  {
   "cell_type": "code",
   "execution_count": null,
   "id": "4b3f282c",
   "metadata": {},
   "outputs": [],
   "source": []
  },
  {
   "cell_type": "markdown",
   "id": "31bd7d35",
   "metadata": {},
   "source": [
    "**Let us calculate time to multiply two Python Lists of 1 million elements**"
   ]
  },
  {
   "cell_type": "code",
   "execution_count": 58,
   "id": "40c12772",
   "metadata": {},
   "outputs": [
    {
     "name": "stdout",
     "output_type": "stream",
     "text": [
      "Time started = 1707477320.8711853\n",
      "Time ended = 1707477321.2061834\n",
      "Time Taken = -0.33499813079833984\n"
     ]
    }
   ],
   "source": [
    "# Creating two large size Lists and multiplying them element by element\n",
    "list1 = list(range(size))\n",
    "list2 = list(range(size))\n",
    "list3 = list(range(size))\n",
    "\n",
    "# capturing time before the multiplication of Python Lists\n",
    "initialTime = time.time()\n",
    "\n",
    "# multiplying elements of both the lists and stored in another list\n",
    "# simply run a loop and overwrite the elements of the new list with resulting value\n",
    "for i in range(0, len(list1)):\n",
    "         list3[i] = list1[i] * list2[i]\n",
    "# capturing time again after the multiplication is done\n",
    "finishTime = time.time()\n",
    "\n",
    "final1 = initialTime - finishTime\n",
    "print(f'Time started = {initialTime}\\nTime ended = {finishTime}\\nTime Taken = {initialTime - finishTime}')"
   ]
  },
  {
   "cell_type": "code",
   "execution_count": 60,
   "id": "89318a3b",
   "metadata": {},
   "outputs": [
    {
     "name": "stdout",
     "output_type": "stream",
     "text": [
      "Python Numpy Array is 0.011916013562178489 times faster than python list\n"
     ]
    }
   ],
   "source": [
    "print(f'Python Numpy Array is {final/final1} times faster than python list')"
   ]
  },
  {
   "cell_type": "code",
   "execution_count": null,
   "id": "06e24366",
   "metadata": {},
   "outputs": [],
   "source": []
  }
 ],
 "metadata": {
  "kernelspec": {
   "display_name": "Python 3 (ipykernel)",
   "language": "python",
   "name": "python3"
  },
  "language_info": {
   "codemirror_mode": {
    "name": "ipython",
    "version": 3
   },
   "file_extension": ".py",
   "mimetype": "text/x-python",
   "name": "python",
   "nbconvert_exporter": "python",
   "pygments_lexer": "ipython3",
   "version": "3.11.5"
  }
 },
 "nbformat": 4,
 "nbformat_minor": 5
}
