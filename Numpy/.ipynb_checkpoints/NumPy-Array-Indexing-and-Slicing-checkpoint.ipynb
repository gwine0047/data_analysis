{
 "cells": [
  {
   "cell_type": "markdown",
   "id": "8afdfff8",
   "metadata": {},
   "source": [
    "..\\..\\..\\data_science\\exercise\\Section-3-Python-for-Data-Scientists/"
   ]
  },
  {
   "cell_type": "markdown",
   "id": "d9503623",
   "metadata": {},
   "source": [
    "<img align=\"center\" width=\"500\" height=\"500\"  src=\"..\\..\\..\\data_science\\exercise\\Section-3-Python-for-Data-Scientists/images/indexingandslicing.png\" > "
   ]
  },
  {
   "cell_type": "markdown",
   "id": "654a0583",
   "metadata": {},
   "source": [
    "# Learning agenda of this notebook\n",
    "Indexing and Slicing are two of the most common operations that you need to be familiar with when working with Numpy arrays. You will use them when you would like to work with a subset of the array.\n",
    "1. Indexing NumPy Arrays\n",
    "    - Indexing 1-D NumPy Arrays\n",
    "    - Indexing 2-D NumPy Arrays\n",
    "    - Indexing 3-D NumPy Arrays\n",
    "2. Slicing NumPy Arrays\n",
    "    - Slicing 1-D NumPy Arrays\n",
    "    - Slicing 2-D NumPy Arrays\n",
    "3. Boolean Array Indexing\n",
    "    - Boolean Indexing on 1-D NumPy Arrays\n",
    "    - Boolean Indexing on 2-D NumPy Arrays"
   ]
  },
  {
   "cell_type": "code",
   "execution_count": null,
   "id": "4ec80d95",
   "metadata": {},
   "outputs": [],
   "source": []
  },
  {
   "cell_type": "code",
   "execution_count": 2,
   "id": "d9d67fe7",
   "metadata": {},
   "outputs": [
    {
     "data": {
      "text/plain": [
       "('1.24.3', ['C:\\\\Users\\\\FashN\\\\anaconda3\\\\Lib\\\\site-packages\\\\numpy'])"
      ]
     },
     "execution_count": 2,
     "metadata": {},
     "output_type": "execute_result"
    }
   ],
   "source": [
    "import numpy as np\n",
    "np.__version__ , np.__path__"
   ]
  },
  {
   "cell_type": "code",
   "execution_count": 4,
   "id": "ae76ca83",
   "metadata": {},
   "outputs": [
    {
     "name": "stdout",
     "output_type": "stream",
     "text": [
      "Original Array:\n",
      "[4, 23, 10, 0, -4, -31]\n"
     ]
    },
    {
     "name": "stderr",
     "output_type": "stream",
     "text": [
      "C:\\Users\\FashN\\AppData\\Local\\Temp\\ipykernel_9324\\2679122254.py:3: DeprecationWarning: NumPy will stop allowing conversion of out-of-bound Python integers to integer arrays.  The conversion of -4 to uint8 will fail in the future.\n",
      "For the old behavior, usually:\n",
      "    np.array(value).astype(dtype)`\n",
      "will give the desired result (the cast overflows).\n",
      "  arr = np.array(mylist, dtype=np.uint8)\n",
      "C:\\Users\\FashN\\AppData\\Local\\Temp\\ipykernel_9324\\2679122254.py:3: DeprecationWarning: NumPy will stop allowing conversion of out-of-bound Python integers to integer arrays.  The conversion of -31 to uint8 will fail in the future.\n",
      "For the old behavior, usually:\n",
      "    np.array(value).astype(dtype)`\n",
      "will give the desired result (the cast overflows).\n",
      "  arr = np.array(mylist, dtype=np.uint8)\n"
     ]
    }
   ],
   "source": [
    "import numpy as np\n",
    "mylist = [4,23,10,0,-4,-31]\n",
    "arr = np.array(mylist, dtype=np.uint8)\n",
    "\n",
    "print(f\"Original Array:\\n{mylist}\")"
   ]
  },
  {
   "cell_type": "code",
   "execution_count": 7,
   "id": "85341895",
   "metadata": {},
   "outputs": [
    {
     "name": "stdout",
     "output_type": "stream",
     "text": [
      "arr[0] = 4\n",
      "arr[5] = 2\n",
      "arr[-1] = 3\n",
      "arr[-5] = 6\n"
     ]
    }
   ],
   "source": [
    "mylist = [4, 5, 6, 7, 0, 2, 3]\n",
    "arr = np.array(mylist, dtype=np.uint8)\n",
    "\n",
    "# You can access specific elements using positive as well as negative index\n",
    "print(f'arr[0] = {arr[0]}')\n",
    "print(f'arr[5] = {arr[5]}')\n",
    "print(f'arr[-1] = {arr[-1]}')\n",
    "print(f'arr[-5] = {arr[-5]}')"
   ]
  },
  {
   "cell_type": "code",
   "execution_count": null,
   "id": "3ed705a1",
   "metadata": {},
   "outputs": [],
   "source": []
  },
  {
   "cell_type": "markdown",
   "id": "6c9f8f97",
   "metadata": {},
   "source": [
    "### b. Indexing 2-D NumPy Arrays"
   ]
  },
  {
   "cell_type": "code",
   "execution_count": 9,
   "id": "5f50ad04",
   "metadata": {},
   "outputs": [
    {
     "name": "stdout",
     "output_type": "stream",
     "text": [
      "Original Array:\n",
      "[[1 2 3 4]\n",
      " [5 6 7 8]\n",
      " [3 2 4 1]\n",
      " [7 3 4 9]\n",
      " [4 0 3 1]] \n",
      "Array Shape: (5, 4)\n",
      "Strides:(16, 4)\n",
      "arr[3][2] =  4\n",
      "arr[3,2] =  4\n",
      "arr[3] =  [7 3 4 9]\n",
      "arr[-1][-2] =  3\n",
      "arr[-1, -2] =  3\n",
      "arr[-3][-3] =  2\n",
      "arr[-3, -3] =  2\n",
      "arr[-3] =  [3 2 4 1]\n",
      "arr[-1] =  [4 0 3 1]\n"
     ]
    }
   ],
   "source": [
    "mylist = [\n",
    "          [1, 2, 3, 4], \n",
    "          [5, 6, 7, 8], \n",
    "          [3, 2, 4, 1], \n",
    "          [7, 3, 4, 9], \n",
    "          [4, 0, 3, 1]\n",
    "          ]\n",
    "arr = np.array(mylist)\n",
    "print(f\"Original Array:\\n{arr} \\nArray Shape: {arr.shape}\\nStrides:{arr.strides}\")\n",
    "\n",
    "# You can access specific elements\n",
    "print(\"arr[3][2] = \", arr[3][2])\n",
    "print(\"arr[3,2] = \", arr[3,2])\n",
    "\n",
    "\n",
    "# You can access entire rows\n",
    "print(\"arr[3] = \", arr[3])\n",
    "\n",
    "# Negative indexing\n",
    "print(\"arr[-1][-2] = \", arr[-1][-2])    \n",
    "print(\"arr[-1, -2] = \", arr[-1, -2]) \n",
    "print(\"arr[-3][-3] = \", arr[-3][-3])    \n",
    "print(\"arr[-3, -3] = \", arr[-3, -3])    \n",
    "print(\"arr[-3] = \", arr[-3])       \n",
    "print(\"arr[-1] = \", arr[-1])    "
   ]
  },
  {
   "cell_type": "code",
   "execution_count": null,
   "id": "2d05c159",
   "metadata": {},
   "outputs": [],
   "source": []
  },
  {
   "cell_type": "markdown",
   "id": "e95b2aaf",
   "metadata": {},
   "source": [
    "### c. Indexing 3-D NumPy Arrays"
   ]
  },
  {
   "cell_type": "code",
   "execution_count": 10,
   "id": "4ecd1345",
   "metadata": {},
   "outputs": [
    {
     "name": "stdout",
     "output_type": "stream",
     "text": [
      "Original Array:\n",
      "[[[1 2 3]\n",
      "  [5 6 7]\n",
      "  [9 0 5]]\n",
      "\n",
      " [[8 1 6]\n",
      "  [1 9 4]\n",
      "  [5 8 2]]] \n",
      "Array Shape: (2, 3, 3)\n",
      "Strides:(36, 12, 4)\n"
     ]
    }
   ],
   "source": [
    "mylist = [\n",
    "          [[1, 2, 3], [5, 6, 7], [9, 0, 5]],\n",
    "          [[8, 1, 6], [1, 9, 4], [5, 8, 2]],\n",
    "         ]\n",
    "arr = np.array(mylist)\n",
    "print(f\"Original Array:\\n{arr} \\nArray Shape: {arr.shape}\\nStrides:{arr.strides}\")\n"
   ]
  },
  {
   "cell_type": "code",
   "execution_count": 14,
   "id": "e3496e38",
   "metadata": {},
   "outputs": [
    {
     "name": "stdout",
     "output_type": "stream",
     "text": [
      "\n",
      "arr[0]=\n",
      "\n",
      "[[1 2 3]\n",
      " [5 6 7]\n",
      " [9 0 5]]\n",
      "\n",
      "arr[1]=\n",
      "\n",
      "[[8 1 6]\n",
      " [1 9 4]\n",
      " [5 8 2]]\n"
     ]
    }
   ],
   "source": [
    "# You can access 2-D matrix at first level\n",
    "print(f'\\narr[0]=\\n\\n{arr[0]}\\n\\narr[1]=\\n\\n{arr[1]}')"
   ]
  },
  {
   "cell_type": "code",
   "execution_count": 18,
   "id": "83d6f873",
   "metadata": {},
   "outputs": [
    {
     "name": "stdout",
     "output_type": "stream",
     "text": [
      "Array Shape = (2, 3, 3)\n",
      "arr[0][1] = [5 6 7]\n",
      "arr[1][2] = [5 8 2]\n",
      "arr[1][0] = [8 1 6]\n",
      "arr[1][1] = [1 9 4]\n"
     ]
    }
   ],
   "source": [
    "print(f'Array Shape = {arr.shape}')\n",
    "print(f\"arr[0][1] = {arr[0][1]}\")\n",
    "print(f\"arr[1][2] = {arr[1][2]}\")\n",
    "print(f\"arr[1][0] = {arr[1][0]}\")\n",
    "print(f\"arr[1][1] = {arr[1][1]}\")\n",
    "# You can access a specific row at a specific level"
   ]
  },
  {
   "cell_type": "code",
   "execution_count": 19,
   "id": "97f5d7d5",
   "metadata": {},
   "outputs": [
    {
     "name": "stdout",
     "output_type": "stream",
     "text": [
      "arr[1][2][0] = 5\n",
      "arr[1][2][1] = 8\n"
     ]
    }
   ],
   "source": [
    "print(f\"arr[1][2][0] = {arr[1][2][0]}\")\n",
    "print(f\"arr[1][2][1] = {arr[1][2][1]}\")"
   ]
  },
  {
   "cell_type": "code",
   "execution_count": 20,
   "id": "3c3ead2f",
   "metadata": {},
   "outputs": [
    {
     "name": "stdout",
     "output_type": "stream",
     "text": [
      "arr[-1][-2][-1] = 4\n",
      "arr[-2][1] = [5 6 7]\n"
     ]
    }
   ],
   "source": [
    "print(f\"arr[-1][-2][-1] = {arr[-1][-2][-1]}\")\n",
    "print(f'arr[-2][1] = {arr[-2][1]}')"
   ]
  },
  {
   "cell_type": "code",
   "execution_count": null,
   "id": "a70acaae",
   "metadata": {},
   "outputs": [],
   "source": []
  },
  {
   "cell_type": "markdown",
   "id": "9accf402",
   "metadata": {},
   "source": [
    "## 2. Slicing NumPy Arrays\n",
    "- You can slice a numpy array in a similar fashion as we have sliced Python Lists, with two differences:\n",
    "    - The difference is that NumPy arrays can be sliced in more than one dimension.\n",
    "    - The other difference is that, when we slice a Python list we get a completely new list, while in case of numPy arrays, you get a **view** of the original array, which is just a way of accessing array data. Thus the original array is not copied in memory.\n",
    "- An array can be sliced using `:` symbol, which returns the range of elements specified by the index numbers.\n",
    "- There are three arguments for slicing arrays, all are optional:\n",
    "```\n",
    "array[[start]:[stop][:step]]\n",
    "```\n",
    "\n",
    "    - start: specifies from where the slicing should start, inclusive (default is 0) \n",
    "    - stop: specifies where it has to stop, exclusive (default is end of the array) \n",
    "    - step:  is by-default 1\n",
    "    \n",
    "Note: Subarrays that are extracted from arrays using slice operations are alternative views of the same underlying array data. This means that they are arrays that refer to the same data in memory as the original array, but with a different strides configuration."
   ]
  },
  {
   "cell_type": "markdown",
   "id": "2fd8e32d",
   "metadata": {},
   "source": [
    "### a. Slicing 1-D Arrays"
   ]
  },
  {
   "cell_type": "code",
   "execution_count": 23,
   "id": "b119b85f",
   "metadata": {},
   "outputs": [
    {
     "name": "stdout",
     "output_type": "stream",
     "text": [
      "Original Array:\n",
      "[-4 12  3 10 -6  9 18]\n",
      "Array Shape = (7,)\n"
     ]
    }
   ],
   "source": [
    "import numpy as np\n",
    "mylist = [-4,12,3,10,-6,9,18]\n",
    "arr = np.array(mylist)\n",
    "print(f'Original Array:\\n{arr}\\nArray Shape = {arr.shape}')"
   ]
  },
  {
   "cell_type": "code",
   "execution_count": 27,
   "id": "02170f6b",
   "metadata": {},
   "outputs": [
    {
     "name": "stdout",
     "output_type": "stream",
     "text": [
      "\n",
      "arr[:] = [-4 12  3 10 -6  9 18]\n",
      "\n",
      "arr[3:] = [10 -6  9 18]\n",
      "\n",
      "arr[2:5] = [ 3 10 -6]\n",
      "\n",
      "arr[:-2] = [-4 12  3 10 -6]\n",
      "\n",
      "arr[-1:] = [18]\n",
      "\n",
      "arr[-1:-4:-1] = [18  9 -6]\n",
      "arr[::-1] = [18  9 -6 10  3 12 -4]\n"
     ]
    }
   ],
   "source": [
    "print(f'\\narr[:] = {arr[:]}')\n",
    "print(f'\\narr[3:] = {arr[3:]}')\n",
    "print(f'\\narr[2:5] = {arr[2:5]}')\n",
    "\n",
    "print(f'\\narr[:-2] = {arr[:-2]}')\n",
    "print(f'\\narr[-1:] = {arr[-1:]}')\n",
    "print(f'\\narr[-1:-4:-1] = {arr[-1:-4:-1]}')\n",
    "\n",
    "# reverse the array using step value as -1\n",
    "print(f'arr[::-1] = {arr[::-1]}')"
   ]
  },
  {
   "cell_type": "code",
   "execution_count": null,
   "id": "c2c56304",
   "metadata": {},
   "outputs": [],
   "source": []
  },
  {
   "cell_type": "markdown",
   "id": "21904025",
   "metadata": {},
   "source": [
    "**Proof of Concept:** Slice of a Python List Returns a New List"
   ]
  },
  {
   "cell_type": "code",
   "execution_count": 28,
   "id": "f5909b6a",
   "metadata": {},
   "outputs": [
    {
     "data": {
      "text/plain": [
       "[1, 2, 3, 4, 5, 6, 7, 8, 9]"
      ]
     },
     "execution_count": 28,
     "metadata": {},
     "output_type": "execute_result"
    }
   ],
   "source": [
    "list1 = [1, 2, 3, 4, 5, 6, 7,8, 9]\n",
    "list1"
   ]
  },
  {
   "cell_type": "code",
   "execution_count": 29,
   "id": "2116f773",
   "metadata": {},
   "outputs": [
    {
     "data": {
      "text/plain": [
       "[3, 4, 5]"
      ]
     },
     "execution_count": 29,
     "metadata": {},
     "output_type": "execute_result"
    }
   ],
   "source": [
    "# A new list object is created after slicing\n",
    "list2=list1[2:5]\n",
    "list2"
   ]
  },
  {
   "cell_type": "code",
   "execution_count": 32,
   "id": "9c56afe0",
   "metadata": {},
   "outputs": [
    {
     "name": "stdout",
     "output_type": "stream",
     "text": [
      "List2 = [3, 4, 101]\n",
      "List1 = [1, 2, 3, 4, 5, 6, 7, 8, 9]\n"
     ]
    }
   ],
   "source": [
    "#If we make change to this list, it do not effect the original list\n",
    "list2[2] = 101\n",
    "\n",
    "print(f'List2 = {list2}')\n",
    "print(f'List1 = {list1}')"
   ]
  },
  {
   "cell_type": "code",
   "execution_count": 31,
   "id": "db821c30",
   "metadata": {},
   "outputs": [
    {
     "data": {
      "text/plain": [
       "[3, 4, 5]"
      ]
     },
     "execution_count": 31,
     "metadata": {},
     "output_type": "execute_result"
    }
   ],
   "source": [
    "list2"
   ]
  },
  {
   "cell_type": "markdown",
   "id": "69ad2373",
   "metadata": {},
   "source": [
    "**Proof of Concept:** Slice of a numPy array returns a **view** of original numPy array"
   ]
  },
  {
   "cell_type": "code",
   "execution_count": 33,
   "id": "4a417660",
   "metadata": {},
   "outputs": [
    {
     "data": {
      "text/plain": [
       "array([1, 2, 3, 4, 5, 6, 7, 8, 9])"
      ]
     },
     "execution_count": 33,
     "metadata": {},
     "output_type": "execute_result"
    }
   ],
   "source": [
    "list1 = [1, 2, 3, 4, 5, 6, 7,8, 9]\n",
    "arr1 = np.array(list1)\n",
    "arr1"
   ]
  },
  {
   "cell_type": "code",
   "execution_count": 34,
   "id": "1f5ffe96",
   "metadata": {},
   "outputs": [
    {
     "data": {
      "text/plain": [
       "array([3, 4, 5])"
      ]
     },
     "execution_count": 34,
     "metadata": {},
     "output_type": "execute_result"
    }
   ],
   "source": [
    "# A view of the original numPy array is created after slicing\n",
    "arr2 = arr1[2:5]\n",
    "arr2"
   ]
  },
  {
   "cell_type": "code",
   "execution_count": 36,
   "id": "3ffa98a5",
   "metadata": {},
   "outputs": [
    {
     "name": "stdout",
     "output_type": "stream",
     "text": [
      "Arr2 = [111   4   5]\n",
      "Arr1 = [  1   2 111   4   5   6   7   8   9]\n"
     ]
    }
   ],
   "source": [
    "# If we make change to this view, it will ofcourse effect the original array\n",
    "arr2[0] = 111\n",
    "print(f'Arr2 = {arr2}')\n",
    "print(f'Arr1 = {arr1}')"
   ]
  },
  {
   "cell_type": "code",
   "execution_count": 37,
   "id": "9cbbcff4",
   "metadata": {},
   "outputs": [
    {
     "data": {
      "text/plain": [
       "array([  1,   2, 111,   4,   5,   6,   7,   8,   9])"
      ]
     },
     "execution_count": 37,
     "metadata": {},
     "output_type": "execute_result"
    }
   ],
   "source": [
    "arr1"
   ]
  },
  {
   "cell_type": "code",
   "execution_count": null,
   "id": "dd83da95",
   "metadata": {},
   "outputs": [],
   "source": []
  },
  {
   "cell_type": "markdown",
   "id": "a3069ba6",
   "metadata": {},
   "source": [
    "### b. Slicing 2-D Arrays\n",
    "- Slicing a two-dimensional array is very similar to slicing a one-dimensional array. You just use a comma to separate the row slice and the column slice.\n",
    "- Numpy extends Python's list indexing notation using `[]` to multiple dimensions in an intuitive fashion. You can provide a comma-separated list of indices or ranges to select a specific element or a subarray (also called a slice) from a Numpy array."
   ]
  },
  {
   "cell_type": "code",
   "execution_count": 38,
   "id": "0c0251c2",
   "metadata": {},
   "outputs": [
    {
     "name": "stdout",
     "output_type": "stream",
     "text": [
      "Original Array \n",
      " [[1 2 3 4]\n",
      " [5 6 7 8]\n",
      " [3 2 4 1]\n",
      " [7 3 4 9]\n",
      " [4 0 3 1]] \n",
      "Array Size =  (5, 4)\n"
     ]
    }
   ],
   "source": [
    "import numpy as np\n",
    "mylist = [\n",
    "          [1, 2, 3, 4], \n",
    "          [5, 6, 7, 8], \n",
    "          [3, 2, 4, 1], \n",
    "          [7, 3, 4, 9], \n",
    "          [4, 0, 3, 1]\n",
    "          ]\n",
    "arr = np.array(mylist)\n",
    "print(\"Original Array \\n\", arr, \"\\nArray Size = \",arr.shape)"
   ]
  },
  {
   "cell_type": "code",
   "execution_count": 45,
   "id": "7c1d344a",
   "metadata": {},
   "outputs": [
    {
     "name": "stdout",
     "output_type": "stream",
     "text": [
      "\n",
      "arr[:,:] = \n",
      " [[1 2 3 4]\n",
      " [5 6 7 8]\n",
      " [3 2 4 1]\n",
      " [7 3 4 9]\n",
      " [4 0 3 1]]\n",
      "\n",
      "Original Array \n",
      " [[1 2 3 4]\n",
      " [5 6 7 8]\n",
      " [3 2 4 1]\n",
      " [7 3 4 9]\n",
      " [4 0 3 1]]\n",
      "Array Size = (5, 4)\n",
      "\n",
      "arr[2] = [3 2 4 1]\n",
      "\n",
      "arr[2: ] = \n",
      "\n",
      "[[3 2 4 1]\n",
      " [7 3 4 9]\n",
      " [4 0 3 1]]\n"
     ]
    }
   ],
   "source": [
    "# Note we have two slice objects (row slice and column slice) in case of 2-D slicing separated by a comma\n",
    "print(f\"\\narr[:,:] = \\n {arr[:,:]}\")\n",
    "\n",
    "print(f'\\nOriginal Array \\n {arr}\\nArray Size = {arr.shape}')\n",
    "\n",
    "# you can ignore the : symbol for the column part\n",
    "print(f'\\narr[2] = {arr[2]}')\n",
    "\n",
    "# for better readability give comma separated two values\n",
    "print(f'\\narr[2: ] = \\n\\n{arr[2: ]}')"
   ]
  },
  {
   "cell_type": "code",
   "execution_count": 47,
   "id": "4b814fb8",
   "metadata": {},
   "outputs": [
    {
     "name": "stdout",
     "output_type": "stream",
     "text": [
      "arr[:, 1] =  [2 6 2 3 0]\n",
      "\n",
      "arr[1, 1:3] =  [6 7]\n"
     ]
    }
   ],
   "source": [
    "# Get the column at index 1 (Get all the row values of column at index 1)\n",
    "print(\"arr[:, 1] = \", arr[:, 1])\n",
    "\n",
    "# From the row at index 1, slice elements from index 1 to index 2\n",
    "print(\"\\narr[1, 1:3] = \",arr[1, 1:3])"
   ]
  },
  {
   "cell_type": "code",
   "execution_count": 48,
   "id": "e3662857",
   "metadata": {},
   "outputs": [
    {
     "name": "stdout",
     "output_type": "stream",
     "text": [
      "Original Array \n",
      " [[1 2 3 4]\n",
      " [5 6 7 8]\n",
      " [3 2 4 1]\n",
      " [7 3 4 9]\n",
      " [4 0 3 1]] \n",
      "Array Size =  (5, 4)\n",
      "\n",
      "arr[:, ::-1] =\n",
      " [[4 3 2 1]\n",
      " [8 7 6 5]\n",
      " [1 4 2 3]\n",
      " [9 4 3 7]\n",
      " [1 3 0 4]]\n"
     ]
    }
   ],
   "source": [
    "print(\"Original Array \\n\", arr, \"\\nArray Size = \",arr.shape)\n",
    "\n",
    "# Reversing elements of all rows is tricky. \n",
    "# Read it as \"select all the rows, and in each row reverse all the column values\n",
    "print(\"\\narr[:, ::-1] =\\n\", arr[:, ::-1])"
   ]
  },
  {
   "cell_type": "code",
   "execution_count": 49,
   "id": "1ad7a004",
   "metadata": {},
   "outputs": [
    {
     "name": "stdout",
     "output_type": "stream",
     "text": [
      "Original Array \n",
      " [[1 2 3 4]\n",
      " [5 6 7 8]\n",
      " [3 2 4 1]\n",
      " [7 3 4 9]\n",
      " [4 0 3 1]] \n",
      "Array Size =  (5, 4)\n",
      "\n",
      "arr[::-1, :] =\n",
      " [[4 0 3 1]\n",
      " [7 3 4 9]\n",
      " [3 2 4 1]\n",
      " [5 6 7 8]\n",
      " [1 2 3 4]]\n"
     ]
    }
   ],
   "source": [
    "print(\"Original Array \\n\", arr, \"\\nArray Size = \",arr.shape)\n",
    "\n",
    "# Reverse elements of all columns is also tricky. Actually you want to reverse the elements of all the rows\n",
    "# Read it as \"select all the columns, and in each column reverse all the row values\n",
    "print(\"\\narr[::-1, :] =\\n\", arr[::-1, :])"
   ]
  },
  {
   "cell_type": "code",
   "execution_count": null,
   "id": "6a65c35e",
   "metadata": {},
   "outputs": [],
   "source": []
  },
  {
   "cell_type": "markdown",
   "id": "18ce5b2b",
   "metadata": {},
   "source": [
    ">- **Slicing 3-D arrays can be performed in the same fashion. The only difference is that we have three comma separated slice objects instead of two and it is a bit tricky to visualize :)**"
   ]
  },
  {
   "cell_type": "code",
   "execution_count": 58,
   "id": "ee6c0bae",
   "metadata": {},
   "outputs": [
    {
     "name": "stdout",
     "output_type": "stream",
     "text": [
      "Arrays shape = (5, 4)\n",
      "4\n",
      "[7 3 4 9]\n",
      "3\n",
      "3\n",
      "[3 2 4 1]\n",
      "2\n"
     ]
    }
   ],
   "source": [
    "arr = np.array([[1, 2, 3, 4], [5, 6, 7, 8], [3, 2, 4, 1], [7, 3, 4, 9], [4, 0, 3, 1] ])\n",
    "print(f'Arrays shape = {arr.shape}')\n",
    "print(arr[3,2])\n",
    "print(arr[3])\n",
    "print(arr[-1,2])\n",
    "print(arr[-1][-2])\n",
    "print(arr[-3])\n",
    "print(arr[-3][-3])"
   ]
  },
  {
   "cell_type": "code",
   "execution_count": 70,
   "id": "65f9e772",
   "metadata": {},
   "outputs": [
    {
     "name": "stdout",
     "output_type": "stream",
     "text": [
      "[2 4]\n",
      "[[4 0 3 1]\n",
      " [7 3 4 9]\n",
      " [3 2 4 1]\n",
      " [5 6 7 8]\n",
      " [1 2 3 4]]\n",
      "\n",
      "[[3 4]\n",
      " [7 4]\n",
      " [4 3]]\n"
     ]
    }
   ],
   "source": [
    "print(arr[2, 1:3])\n",
    "print(arr[::-1,:])\n",
    "print()\n",
    "print(arr[2::, 0::2])"
   ]
  },
  {
   "cell_type": "code",
   "execution_count": null,
   "id": "63fe43ef",
   "metadata": {},
   "outputs": [],
   "source": []
  },
  {
   "cell_type": "markdown",
   "id": "a92befd9",
   "metadata": {},
   "source": [
    "## 3. Boolean/Fancy Array Indexing\n",
    "\n",
    "- NumPy provides another convenient method to index arrays, called fancy indexing. With fancy indexing, an array can be indexed with another NumPy array, a Python list, or a sequence of integers, whose values select elements in the indexed array. Fancy indexing requires that the elements in the array or list used for indexing are integers.\n",
    "\n",
    "- Boolean indexing is an extremely intuitive and elegant way of selecting contents from a numPy array based on logical conditions.\n",
    "- In simple words, we can slice NumPy arrays by either:\n",
    "    - Provide a condition inside the `[]` operator\n",
    "    - Provide a Boolean mask corresponding to indexes in the array.\n",
    "- If the value at an index of that list is True that element is contained in the filtered array, if the value at that index is False that element is excluded from the filtered array.\n",
    "\n",
    ">- **Note:** Unlike normal slicing which creates a view, Boolean/Fancy Indexing creates a copy of numPy array.\n",
    "\n",
    ">- **Note:** The Python keywords `and` and `or` do not work with boolean arrays. Use `&` and `|` instead"
   ]
  },
  {
   "cell_type": "markdown",
   "id": "9a708081",
   "metadata": {},
   "source": [
    "### a. Boolean/Fancy Indexing on 1-D Arrays"
   ]
  },
  {
   "cell_type": "code",
   "execution_count": 78,
   "id": "d74fcdeb",
   "metadata": {},
   "outputs": [
    {
     "name": "stdout",
     "output_type": "stream",
     "text": [
      "Original Array = \n",
      "[ 53  20  81 100  49  87   1  84 100  33]\n",
      "\n",
      "\n",
      "arr([0,2,4,9]) = [53 81 49 33]\n",
      "\n",
      "[ 53 100  49  33]\n"
     ]
    }
   ],
   "source": [
    "# Fancy Indexing\n",
    "import numpy as np\n",
    "# creating 1-D array of size 10 of int type b/w interval (1,100) \n",
    "arr = np.random.randint(1, 101, 10)\n",
    "print(f\"Original Array = \\n{arr}\")\n",
    "print(f'\\n\\narr([0,2,4,9]) = {arr[np.array([0,2,4,9])]}')\n",
    "print()\n",
    "print(arr[[0,3,4,9]])"
   ]
  },
  {
   "cell_type": "code",
   "execution_count": 87,
   "id": "648220c1",
   "metadata": {},
   "outputs": [
    {
     "name": "stdout",
     "output_type": "stream",
     "text": [
      "Original Array = [12 94 67 82 69  8 68 76 55 14]\n",
      "[False  True  True  True  True False  True  True  True False]\n",
      "[94 67 82 69 68 76 55]\n",
      "\n",
      "[arr%2==0] = [12 94 82  8 68 76 14]\n",
      "\n",
      "[arr%2==1] = [67 69 55]\n",
      "\n",
      "[arr > 50] = [94 67 82 69 68 76 55]\n",
      "\n",
      "[arr > 50] = [67 69 68 55]\n"
     ]
    }
   ],
   "source": [
    "# Boolean Indexing\n",
    "# creating 1-D array of size 10 of int type b/w interval (1,100) \n",
    "arr = np.random.randint(1, 101, 10)\n",
    "print(f\"Original Array = {arr}\")\n",
    "print(arr > 50)\n",
    "print(arr[arr>50])\n",
    "\n",
    "# Getting even values from array\n",
    "print(f\"\\n[arr%2==0] = {arr[arr%2==0]}\")\n",
    "\n",
    "# Getting odd values from array\n",
    "print(f\"\\n[arr%2==1] = {arr[arr%2==1]}\")\n",
    "\n",
    "# Getting values greater than 50\n",
    "print(f\"\\n[arr > 50] = {arr[arr > 50]}\")\n",
    "\n",
    "# Getting values between 25 and 75\n",
    "print(f\"\\n[arr > 50] = {arr[(arr > 25) & (arr < 75)]}\")"
   ]
  },
  {
   "cell_type": "code",
   "execution_count": 91,
   "id": "cde305c3",
   "metadata": {},
   "outputs": [
    {
     "name": "stdout",
     "output_type": "stream",
     "text": [
      "Original Array = \n",
      "[10 24 63 44 15]\n",
      "Filtered Array = [24 44]\n"
     ]
    }
   ],
   "source": [
    "# We can use a mask instead of mentioning a condition as done above\n",
    "arr1 = np.array([10, 24, 63, 44, 15])\n",
    "print(f'Original Array = \\n{arr1}')\n",
    "\n",
    "mask=[False, True, False, True, False]\n",
    "arr2 = arr1[mask]\n",
    "\n",
    "print(f'Filtered Array = {arr2}')"
   ]
  },
  {
   "cell_type": "markdown",
   "id": "b056b461",
   "metadata": {},
   "source": [
    "### b. Boolean/Fancy Indexing on 2-D Arrays"
   ]
  },
  {
   "cell_type": "markdown",
   "id": "ad94eee1",
   "metadata": {},
   "source": [
    ">Suppose we want a new matrix from above matrix, that only contains rows at index 0, 2, and 3"
   ]
  },
  {
   "cell_type": "code",
   "execution_count": 97,
   "id": "d3993df1",
   "metadata": {},
   "outputs": [
    {
     "name": "stdout",
     "output_type": "stream",
     "text": [
      "Original Matrix =\n",
      "[[9 9 5 9 2]\n",
      " [2 3 3 1 8]\n",
      " [5 8 1 8 5]\n",
      " [9 2 1 1 5]\n",
      " [5 4 7 7 3]]\n",
      "Matrix shape = (5, 5)\n",
      "\n",
      "Filtered matrix = \n",
      "[[9 9 5 9 2]\n",
      " [5 8 1 8 5]\n",
      " [9 2 1 1 5]]\n",
      "Matrix.shape = (3, 5)\n"
     ]
    }
   ],
   "source": [
    "# By passing a tuple to size means rows and columns\n",
    "matrix1 = np.random.randint(low=1, high=10, size = (5,5))\n",
    "\n",
    "print(f\"Original Matrix =\\n{matrix1}\\nMatrix shape = {matrix1.shape}\")\n",
    "\n",
    "# Create a corresponding boolean mask\n",
    "rows_wanted = np.array( [True, False, True, True, False] )\n",
    "matrix2 = matrix1[rows_wanted]\n",
    "\n",
    "print(f'\\nFiltered matrix = \\n{matrix2}\\nMatrix.shape = {matrix2.shape}')\n"
   ]
  },
  {
   "cell_type": "markdown",
   "id": "2c688f8d",
   "metadata": {},
   "source": [
    "**Example 2:**"
   ]
  },
  {
   "cell_type": "code",
   "execution_count": 99,
   "id": "4c4fc226",
   "metadata": {},
   "outputs": [
    {
     "name": "stdout",
     "output_type": "stream",
     "text": [
      "Original matrix = \n",
      "[[14 12 13  6  7]\n",
      " [10  7  5  6  5]\n",
      " [11  9  4  6  5]\n",
      " [ 1  1  8  7 13]\n",
      " [10  3  5  7  4]] \n",
      "\n",
      "Matrix Shape = (5, 5)\n"
     ]
    }
   ],
   "source": [
    "# By passing a tuple to size means rows and columns\n",
    "matrix1 = np.random.randint(low=1, high=15, size=(5,5))\n",
    "print(f'Original matrix = \\n{matrix1} \\n\\nMatrix Shape = {matrix1.shape}')"
   ]
  },
  {
   "cell_type": "code",
   "execution_count": 101,
   "id": "8521e78e",
   "metadata": {},
   "outputs": [
    {
     "name": "stdout",
     "output_type": "stream",
     "text": [
      "Original matrix = \n",
      "[[12  6]\n",
      " [ 7  6]\n",
      " [ 9  6]\n",
      " [ 1  7]\n",
      " [ 3  7]] \n",
      "\n",
      "Matrix Shape = (5, 2)\n"
     ]
    }
   ],
   "source": [
    "# Create a corresponding boolean mask\n",
    "cols_wanted = np.array([False, True, False, True, False])\n",
    "\n",
    "matrix2 = matrix1[:, cols_wanted]\n",
    "print(f'Filtered matrix = \\n{matrix2} \\n\\nMatrix Shape = {matrix2.shape}')"
   ]
  },
  {
   "cell_type": "code",
   "execution_count": 102,
   "id": "89ab7322",
   "metadata": {},
   "outputs": [
    {
     "name": "stdout",
     "output_type": "stream",
     "text": [
      "Original matrix = \n",
      "[[ 6  8  5 11  9]\n",
      " [13  6 11 13  7]\n",
      " [12  9 13 14 13]\n",
      " [ 6 10  4  9 14]\n",
      " [ 9  9  4 14 14]] \n",
      "\n",
      "Matrix Shape = (5, 5)\n"
     ]
    }
   ],
   "source": [
    "# By passing a tuple to size means rows and columns\n",
    "matrix1 = np.random.randint(low = 4, high = 15, size = (5,5))\n",
    "print(f'Original matrix = \\n{matrix1} \\n\\nMatrix Shape = {matrix1.shape}')"
   ]
  },
  {
   "cell_type": "markdown",
   "id": "6c18369b",
   "metadata": {},
   "source": [
    ">Suppose we want a new matrix from above 5x5 matrix, that contains inner 3x3 matrix"
   ]
  },
  {
   "cell_type": "code",
   "execution_count": 107,
   "id": "0b0cda74",
   "metadata": {},
   "outputs": [
    {
     "name": "stdout",
     "output_type": "stream",
     "text": [
      "Filtered matrix = \n",
      "[[13  6 11 13  7]\n",
      " [12  9 13 14 13]\n",
      " [ 6 10  4  9 14]] \n",
      "\n",
      "Matrix Shape = (3, 5)\n"
     ]
    }
   ],
   "source": [
    "rows_wanted = np.array( [False, True, True, True, False] )\n",
    "\n",
    "matrix2 = matrix1[ rows_wanted , :]\n",
    "print(f'Filtered matrix = \\n{matrix2} \\n\\nMatrix Shape = {matrix2.shape}')"
   ]
  },
  {
   "cell_type": "code",
   "execution_count": 106,
   "id": "e03fd601",
   "metadata": {},
   "outputs": [
    {
     "name": "stdout",
     "output_type": "stream",
     "text": [
      "Matrix2 = \n",
      "[[13  6 11 13  7]\n",
      " [12  9 13 14 13]\n",
      " [ 6 10  4  9 14]]\n",
      "\n",
      "Filtered matrix = \n",
      "[[ 6 11 13]\n",
      " [ 9 13 14]\n",
      " [10  4  9]] \n",
      "\n",
      "Matrix Shape = (3, 3)\n"
     ]
    }
   ],
   "source": [
    "cols_wanted = np.array( [False, True, True, True, False] )\n",
    "\n",
    "matrix3 = matrix2[ :, cols_wanted]\n",
    "print(f'Matrix2 = \\n{matrix2}\\n\\nFiltered matrix = \\n{matrix3} \\n\\nMatrix Shape = {matrix3.shape}')"
   ]
  },
  {
   "cell_type": "code",
   "execution_count": 108,
   "id": "9379e283",
   "metadata": {},
   "outputs": [
    {
     "name": "stdout",
     "output_type": "stream",
     "text": [
      "\n",
      "Filtered matrix \n",
      " [[ 6 11 13]\n",
      " [ 9 13 14]\n",
      " [10  4  9]] \n",
      "Matrix Shape =  (3, 3)\n"
     ]
    }
   ],
   "source": [
    "matrix3 = matrix1[1:4, 1:4]\n",
    "print(\"\\nFiltered matrix \\n\", matrix3, \"\\nMatrix Shape = \",matrix3.shape)"
   ]
  },
  {
   "cell_type": "code",
   "execution_count": 110,
   "id": "6574b61c",
   "metadata": {},
   "outputs": [
    {
     "name": "stdout",
     "output_type": "stream",
     "text": [
      "Original Matrix = \n",
      "[[ 6  8  5 11  9]\n",
      " [13  6 11 13  7]\n",
      " [12  9 13 14 13]\n",
      " [ 6 10  4  9 14]\n",
      " [ 9  9  4 14 14]]\n",
      "\n",
      "Filtered matrix = \n",
      "[[ 6 11 13]\n",
      " [ 9 13 14]\n",
      " [10  4  9]] \n",
      "\n",
      "Matrix Shape = (3, 3)\n"
     ]
    }
   ],
   "source": [
    "matrix2 = matrix1[ 1 : -1,  1 : -1 ]\n",
    "matrix2\n",
    "\n",
    "print(f'Original Matrix = \\n{matrix1}\\n\\nFiltered matrix = \\n{matrix2} \\n\\nMatrix Shape = {matrix2.shape}')"
   ]
  },
  {
   "cell_type": "code",
   "execution_count": null,
   "id": "d1701eb1",
   "metadata": {},
   "outputs": [],
   "source": []
  },
  {
   "cell_type": "markdown",
   "id": "6b8f0b1f",
   "metadata": {},
   "source": [
    "# Four Slicing Problems with Solutions"
   ]
  },
  {
   "cell_type": "markdown",
   "id": "ff9a5c8a",
   "metadata": {},
   "source": [
    "<img align=\"center\" width=\"500\" height=\"500\"  src=\"..\\..\\..\\data_science\\exercise\\Section-3-Python-for-Data-Scientists/images/slicingQ.jpeg\" > "
   ]
  },
  {
   "cell_type": "code",
   "execution_count": 111,
   "id": "ae6e130e",
   "metadata": {},
   "outputs": [],
   "source": [
    "m1 = np.array([\n",
    "            [0,1,2,3,4,5],\n",
    "            [6,7,8,9,10,11],\n",
    "            [12,13,14,15,16,17],\n",
    "            [18,19,20,21,22,23],\n",
    "            [24,25,26,27,28,29],\n",
    "            [30,31,32,33,34,35]\n",
    "])"
   ]
  },
  {
   "cell_type": "code",
   "execution_count": 112,
   "id": "e4b78e40",
   "metadata": {},
   "outputs": [
    {
     "data": {
      "text/plain": [
       "array([[ 0,  1,  2,  3,  4,  5],\n",
       "       [ 6,  7,  8,  9, 10, 11],\n",
       "       [12, 13, 14, 15, 16, 17],\n",
       "       [18, 19, 20, 21, 22, 23],\n",
       "       [24, 25, 26, 27, 28, 29],\n",
       "       [30, 31, 32, 33, 34, 35]])"
      ]
     },
     "execution_count": 112,
     "metadata": {},
     "output_type": "execute_result"
    }
   ],
   "source": [
    "m1"
   ]
  },
  {
   "cell_type": "code",
   "execution_count": 113,
   "id": "65feaadd",
   "metadata": {},
   "outputs": [
    {
     "data": {
      "text/plain": [
       "array([3, 4])"
      ]
     },
     "execution_count": 113,
     "metadata": {},
     "output_type": "execute_result"
    }
   ],
   "source": [
    "m1[0, 3:5]"
   ]
  },
  {
   "cell_type": "code",
   "execution_count": 114,
   "id": "3a49cdd2",
   "metadata": {},
   "outputs": [
    {
     "data": {
      "text/plain": [
       "array([[28, 29],\n",
       "       [34, 35]])"
      ]
     },
     "execution_count": 114,
     "metadata": {},
     "output_type": "execute_result"
    }
   ],
   "source": [
    "m1[4:, 4:]"
   ]
  },
  {
   "cell_type": "code",
   "execution_count": 116,
   "id": "48a5c7a6",
   "metadata": {},
   "outputs": [
    {
     "data": {
      "text/plain": [
       "array([ 2,  8, 14, 20, 26, 32])"
      ]
     },
     "execution_count": 116,
     "metadata": {},
     "output_type": "execute_result"
    }
   ],
   "source": [
    "m2 = m1[:,2]\n",
    "m2"
   ]
  },
  {
   "cell_type": "code",
   "execution_count": 117,
   "id": "1d64b899",
   "metadata": {},
   "outputs": [
    {
     "data": {
      "text/plain": [
       "(24,)"
      ]
     },
     "execution_count": 117,
     "metadata": {},
     "output_type": "execute_result"
    }
   ],
   "source": [
    "m2.strides"
   ]
  },
  {
   "cell_type": "code",
   "execution_count": 119,
   "id": "dfaff3ed",
   "metadata": {},
   "outputs": [
    {
     "data": {
      "text/plain": [
       "array([[ 0,  1,  2,  3,  4,  5],\n",
       "       [ 6,  7,  8,  9, 10, 11],\n",
       "       [12, 13, 14, 15, 16, 17],\n",
       "       [18, 19, 20, 21, 22, 23],\n",
       "       [24, 25, 26, 27, 28, 29],\n",
       "       [30, 31, 32, 33, 34, 35]])"
      ]
     },
     "execution_count": 119,
     "metadata": {},
     "output_type": "execute_result"
    }
   ],
   "source": [
    "m1"
   ]
  },
  {
   "cell_type": "code",
   "execution_count": 120,
   "id": "ae851853",
   "metadata": {},
   "outputs": [
    {
     "data": {
      "text/plain": [
       "array([[12, 14, 16],\n",
       "       [24, 26, 28]])"
      ]
     },
     "execution_count": 120,
     "metadata": {},
     "output_type": "execute_result"
    }
   ],
   "source": [
    "m1[2::2, 0::2]\n",
    "# taking everything in the row number 2,\n",
    "# then step 2, then from index 0,take all columns, every 2 steps\n"
   ]
  },
  {
   "cell_type": "code",
   "execution_count": 122,
   "id": "417d6331",
   "metadata": {},
   "outputs": [
    {
     "data": {
      "text/plain": [
       "array([[ 0,  2,  4],\n",
       "       [ 6,  8, 10],\n",
       "       [12, 14, 16],\n",
       "       [18, 20, 22],\n",
       "       [24, 26, 28],\n",
       "       [30, 32, 34]])"
      ]
     },
     "execution_count": 122,
     "metadata": {},
     "output_type": "execute_result"
    }
   ],
   "source": [
    "m1[:,0::2]"
   ]
  },
  {
   "cell_type": "code",
   "execution_count": null,
   "id": "2cd09729",
   "metadata": {},
   "outputs": [],
   "source": []
  }
 ],
 "metadata": {
  "kernelspec": {
   "display_name": "Python 3 (ipykernel)",
   "language": "python",
   "name": "python3"
  },
  "language_info": {
   "codemirror_mode": {
    "name": "ipython",
    "version": 3
   },
   "file_extension": ".py",
   "mimetype": "text/x-python",
   "name": "python",
   "nbconvert_exporter": "python",
   "pygments_lexer": "ipython3",
   "version": "3.11.5"
  }
 },
 "nbformat": 4,
 "nbformat_minor": 5
}
