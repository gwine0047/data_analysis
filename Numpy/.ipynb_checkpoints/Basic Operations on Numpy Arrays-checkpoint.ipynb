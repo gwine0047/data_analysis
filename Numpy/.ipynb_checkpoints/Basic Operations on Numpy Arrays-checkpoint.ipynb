{
 "cells": [
  {
   "cell_type": "markdown",
   "id": "98588207",
   "metadata": {},
   "source": [
    "..\\..\\..\\data_science\\exercise\\Section-3-Python-for-Data-Scientists/"
   ]
  },
  {
   "cell_type": "markdown",
   "id": "5922b2c5",
   "metadata": {},
   "source": [
    "# _Basic Operations on NumPy Arrays.ipynb_"
   ]
  },
  {
   "cell_type": "markdown",
   "id": "9f0bea8e",
   "metadata": {},
   "source": [
    "<img align=\"center\" width=\"500\" height=\"500\"  src=\"..\\..\\..\\data_science\\exercise\\Section-3-Python-for-Data-Scientists/images/basicopsonnumpy.png\" > "
   ]
  },
  {
   "cell_type": "code",
   "execution_count": null,
   "id": "31736c11",
   "metadata": {},
   "outputs": [],
   "source": []
  },
  {
   "cell_type": "markdown",
   "id": "0dc443b9",
   "metadata": {},
   "source": [
    "# Learning agenda of this notebook\n",
    "- Operations on numPy arrays are done element-wise. This means that you don't explicitly have to write for-loops in order to do these operations!\n",
    "- A universal function, or ufunc, is a function that performs element-wise operations on data in ndarrays. You can think of them as fast vectorized wrappers for simple functions that take one or more scalar values and produce one or more scalar results.\n",
    "\n",
    "\n",
    "<img align=\"left\" width=\"450\" height=\"400\"  src=\"..\\..\\..\\data_science\\exercise\\Section-3-Python-for-Data-Scientists/images/ufuncunary.png\" > \n",
    "<img align=\"right\" width=\"485\" height=\"500\"  src=\"..\\..\\..\\data_science\\exercise\\Section-3-Python-for-Data-Scientists/images/ufuncbinary.png\" > \n",
    "\n",
    "<br><br><br><br><br><br><br><br><br><br><br><br><br><br><br><br><br><br>\n",
    "\n",
    "1. Scalar Math\n",
    "    - On 1-D Arrays\n",
    "    - On 2-D Arrays\n",
    "2. Arithmetic operations\n",
    "    - On 1-D Arrays\n",
    "    - On 2-D Arrays\n",
    "3. More Mathematical Operations\n",
    "    - On 1-D Arrays\n",
    "    - On 2-D Arrays\n",
    "4. Aggregate Functions\n",
    "    - On 1-D Arrays\n",
    "    - On 2-D Arrays\n",
    "5. Comparing NumPy Arrays\n",
    "    - On 1-D Arrays\n",
    "    - On 2-D Arrays\n",
    "6. Bonus: Searching 1-D and 2-D NumPy Arrays using `numpy.where()`"
   ]
  },
  {
   "cell_type": "code",
   "execution_count": 6,
   "id": "8802d950",
   "metadata": {},
   "outputs": [
    {
     "name": "stdout",
     "output_type": "stream",
     "text": [
      "1.24.3\n",
      "['C:\\\\Users\\\\FashN\\\\anaconda3\\\\Lib\\\\site-packages\\\\numpy']\n"
     ]
    }
   ],
   "source": [
    "import numpy as np\n",
    "print(np.__version__)\n",
    "print(np.__path__)"
   ]
  },
  {
   "cell_type": "code",
   "execution_count": null,
   "id": "f0022778",
   "metadata": {},
   "outputs": [],
   "source": []
  },
  {
   "cell_type": "markdown",
   "id": "e18bc49d",
   "metadata": {},
   "source": [
    "## 1. Scalar Math"
   ]
  },
  {
   "cell_type": "markdown",
   "id": "5f4bf75d",
   "metadata": {},
   "source": [
    "### a. Scalar Math on 1-D Arrays"
   ]
  },
  {
   "cell_type": "code",
   "execution_count": 11,
   "id": "9421dfbb",
   "metadata": {},
   "outputs": [
    {
     "name": "stdout",
     "output_type": "stream",
     "text": [
      "1-D array:\n",
      " [2 3 9 1]\n"
     ]
    }
   ],
   "source": [
    "# Create a 1-D array having 4 random integers from 1 to 9\n",
    "arr = np.random.randint(1,10, size=4)\n",
    "print(f\"1-D array:\\n {arr}\")"
   ]
  },
  {
   "cell_type": "code",
   "execution_count": 14,
   "id": "3b60011a",
   "metadata": {},
   "outputs": [
    {
     "name": "stdout",
     "output_type": "stream",
     "text": [
      "arr = [2 3 9 1]\n",
      "adding 2 to the numpy array [ 4  5 11  3]\n"
     ]
    }
   ],
   "source": [
    "# After the operation a new `ndarray` is returned\n",
    "print(f\"arr = {arr}\\nadding 2 to the numpy array {arr+2}\")"
   ]
  },
  {
   "cell_type": "code",
   "execution_count": 15,
   "id": "e18949d9",
   "metadata": {},
   "outputs": [
    {
     "name": "stdout",
     "output_type": "stream",
     "text": [
      "arr = [2 3 9 1]\n",
      "subtracting 1 from the numpy array [1 2 8 0]\n"
     ]
    }
   ],
   "source": [
    "print(f\"arr = {arr}\\nsubtracting 1 from the numpy array {arr-1}\")"
   ]
  },
  {
   "cell_type": "code",
   "execution_count": 16,
   "id": "a9080a0e",
   "metadata": {},
   "outputs": [
    {
     "name": "stdout",
     "output_type": "stream",
     "text": [
      "arr = [2 3 9 1]\n",
      "multiplying the numpy array by 3[ 6  9 27  3]\n"
     ]
    }
   ],
   "source": [
    "print(f\"arr = {arr}\\nmultiplying the numpy array by 3{arr*3}\")"
   ]
  },
  {
   "cell_type": "code",
   "execution_count": 17,
   "id": "1a05009a",
   "metadata": {},
   "outputs": [
    {
     "name": "stdout",
     "output_type": "stream",
     "text": [
      "arr = [2 3 9 1]\n",
      "multiplying the numpy array by 2[1.  1.5 4.5 0.5]\n"
     ]
    }
   ],
   "source": [
    "print(f\"arr = {arr}\\nmultiplying the numpy array by 2{arr/2}\")"
   ]
  },
  {
   "cell_type": "code",
   "execution_count": 19,
   "id": "12ab4260",
   "metadata": {},
   "outputs": [
    {
     "name": "stdout",
     "output_type": "stream",
     "text": [
      "arr = [2 3 9 1]\n",
      "mod 2 of the numpy array [0 1 1 1]\n"
     ]
    }
   ],
   "source": [
    "print(f\"arr = {arr}\\nmod 2 of the numpy array {arr%2}\")"
   ]
  },
  {
   "cell_type": "code",
   "execution_count": 20,
   "id": "89094186",
   "metadata": {},
   "outputs": [
    {
     "name": "stdout",
     "output_type": "stream",
     "text": [
      "2098984007216 2098984006448\n"
     ]
    }
   ],
   "source": [
    "arr2 = arr + 5\n",
    "print(id(arr), id(arr2))"
   ]
  },
  {
   "cell_type": "code",
   "execution_count": null,
   "id": "fb40d854",
   "metadata": {},
   "outputs": [],
   "source": []
  },
  {
   "cell_type": "markdown",
   "id": "5720c603",
   "metadata": {},
   "source": [
    "### b. Scalar Math on 2-D Arrays\n"
   ]
  },
  {
   "cell_type": "code",
   "execution_count": 24,
   "id": "50bf4289",
   "metadata": {},
   "outputs": [
    {
     "name": "stdout",
     "output_type": "stream",
     "text": [
      "Array = [[1 3]\n",
      " [5 8]]\n"
     ]
    }
   ],
   "source": [
    "# Create a 2x2 matrix with random integers  between 1 to 9\n",
    "arr = np.random.randint(1,10, size=(2,2))\n",
    "print(f\"Matrix = {arr}\")"
   ]
  },
  {
   "cell_type": "code",
   "execution_count": 26,
   "id": "af28b5a4",
   "metadata": {},
   "outputs": [
    {
     "name": "stdout",
     "output_type": "stream",
     "text": [
      "Matrix = \n",
      "[[1 3]\n",
      " [5 8]]\n",
      "adding 2 to the numpy array \n",
      "[[ 3  5]\n",
      " [ 7 10]]\n"
     ]
    }
   ],
   "source": [
    "print(f\"Matrix = \\n{arr}\\nadding 2 to the numpy array \\n{arr+2}\")"
   ]
  },
  {
   "cell_type": "code",
   "execution_count": 27,
   "id": "3e259ecf",
   "metadata": {},
   "outputs": [
    {
     "name": "stdout",
     "output_type": "stream",
     "text": [
      "Matrix = \n",
      "[[1 3]\n",
      " [5 8]]\n",
      "subtracting 1 from the numpy array \n",
      "[[0 2]\n",
      " [4 7]]\n"
     ]
    }
   ],
   "source": [
    "print(f\"Matrix = \\n{arr}\\nsubtracting 1 from the numpy array \\n{arr-1}\")"
   ]
  },
  {
   "cell_type": "code",
   "execution_count": 28,
   "id": "e36d87b4",
   "metadata": {},
   "outputs": [
    {
     "name": "stdout",
     "output_type": "stream",
     "text": [
      "Matrix = \n",
      "[[1 3]\n",
      " [5 8]]\n",
      "multiplying the numpy array by 3 \n",
      "[[ 3  9]\n",
      " [15 24]]\n"
     ]
    }
   ],
   "source": [
    "print(f\"Matrix = \\n{arr}\\nmultiplying the numpy array by 3 \\n{arr*3}\")"
   ]
  },
  {
   "cell_type": "code",
   "execution_count": 29,
   "id": "ebaa67a4",
   "metadata": {},
   "outputs": [
    {
     "name": "stdout",
     "output_type": "stream",
     "text": [
      "Matrix = \n",
      "[[1 3]\n",
      " [5 8]]\n",
      "dividing the numpy array by 3 \n",
      "[[0.5 1.5]\n",
      " [2.5 4. ]]\n"
     ]
    }
   ],
   "source": [
    "print(f\"Matrix = \\n{arr}\\ndividing the numpy array by 2 \\n{arr/2}\")"
   ]
  },
  {
   "cell_type": "code",
   "execution_count": 30,
   "id": "08e2f7c4",
   "metadata": {},
   "outputs": [
    {
     "name": "stdout",
     "output_type": "stream",
     "text": [
      "arr = \n",
      "[[1 3]\n",
      " [5 8]]\n",
      "mod 2 of the numpy array \n",
      "[[1 1]\n",
      " [1 0]]\n"
     ]
    }
   ],
   "source": [
    "print(f\"arr = \\n{arr}\\nmod 2 of the numpy array \\n{arr%2}\")"
   ]
  },
  {
   "cell_type": "code",
   "execution_count": null,
   "id": "7bc32a22",
   "metadata": {},
   "outputs": [],
   "source": []
  },
  {
   "cell_type": "markdown",
   "id": "021086a2",
   "metadata": {},
   "source": [
    "## 2. Arithmetic Operations\n"
   ]
  },
  {
   "cell_type": "markdown",
   "id": "4441cd55",
   "metadata": {},
   "source": [
    "### a. Arithmetic Operations on 1-D Arrays\n"
   ]
  },
  {
   "cell_type": "code",
   "execution_count": 33,
   "id": "142e1e7f",
   "metadata": {},
   "outputs": [
    {
     "name": "stdout",
     "output_type": "stream",
     "text": [
      "Array1:\n",
      "[4 7 8 7]\n",
      "Array2:\n",
      "[13 11 19 18]\n"
     ]
    }
   ],
   "source": [
    "arr1 = np.random.randint(1,10, size=4)\n",
    "arr2 = np.random.randint(11,20, size=4)\n",
    "print(f'Array1:\\n{arr1}\\nArray2:\\n{arr2}')"
   ]
  },
  {
   "cell_type": "code",
   "execution_count": 35,
   "id": "e5dbd755",
   "metadata": {},
   "outputs": [
    {
     "name": "stdout",
     "output_type": "stream",
     "text": [
      "Addition of both arrays:\n",
      "[17 18 27 25]\n"
     ]
    }
   ],
   "source": [
    "# After the operation a new `ndarray` is returned\n",
    "print(f'Addition of both arrays:\\n{arr1+arr2}')"
   ]
  },
  {
   "cell_type": "code",
   "execution_count": 37,
   "id": "b05ee0ba",
   "metadata": {},
   "outputs": [
    {
     "name": "stdout",
     "output_type": "stream",
     "text": [
      "Subtraction of array1 from array2:\n",
      "[ 9  4 11 11]\n"
     ]
    }
   ],
   "source": [
    "print(f'Subtraction of array1 from array2:\\n{arr2-arr1}')"
   ]
  },
  {
   "cell_type": "code",
   "execution_count": 38,
   "id": "542804a6",
   "metadata": {},
   "outputs": [
    {
     "name": "stdout",
     "output_type": "stream",
     "text": [
      "Division of array1 by array2:\n",
      "[3.25       1.57142857 2.375      2.57142857]\n"
     ]
    }
   ],
   "source": [
    "print(f'Division of array1 by array2:\\n{arr2/arr1}')"
   ]
  },
  {
   "cell_type": "code",
   "execution_count": 56,
   "id": "e5d04301",
   "metadata": {},
   "outputs": [
    {
     "name": "stdout",
     "output_type": "stream",
     "text": [
      "Multiplication of array1 by array2:\n",
      "[[80 39]\n",
      " [66 48]]\n"
     ]
    }
   ],
   "source": [
    "print(f'Multiplication of array1 by array2:\\n{arr2*arr1}')"
   ]
  },
  {
   "cell_type": "code",
   "execution_count": null,
   "id": "31ac2caf",
   "metadata": {},
   "outputs": [],
   "source": []
  },
  {
   "cell_type": "markdown",
   "id": "82aebcaa",
   "metadata": {},
   "source": [
    "### b. Arithmetic Operations on 2-D Arrays"
   ]
  },
  {
   "cell_type": "code",
   "execution_count": 50,
   "id": "3e966e63",
   "metadata": {},
   "outputs": [
    {
     "name": "stdout",
     "output_type": "stream",
     "text": [
      "Array1:\n",
      "[[5 3]\n",
      " [6 3]]\n",
      "Array2:\n",
      "[[16 13]\n",
      " [11 16]]\n"
     ]
    }
   ],
   "source": [
    "# Create a 2x2 matrix with random integers  between 1 to 9\n",
    "arr1 = np.random.randint(1, 10,size=(2,2))\n",
    "arr2 = np.random.randint(11, 20,size=(2,2))\n",
    "\n",
    "print(f'Array1:\\n{arr1}\\nArray2:\\n{arr2}')"
   ]
  },
  {
   "cell_type": "code",
   "execution_count": 51,
   "id": "60fe73f9",
   "metadata": {},
   "outputs": [
    {
     "name": "stdout",
     "output_type": "stream",
     "text": [
      "Addition of both arrays:\n",
      "[[21 16]\n",
      " [17 19]]\n"
     ]
    }
   ],
   "source": [
    "print(f'Addition of both arrays:\\n{arr1+arr2}')"
   ]
  },
  {
   "cell_type": "code",
   "execution_count": 52,
   "id": "8106fe6e",
   "metadata": {},
   "outputs": [
    {
     "name": "stdout",
     "output_type": "stream",
     "text": [
      "Subtraction of array1 from array2:\n",
      "[[11 10]\n",
      " [ 5 13]]\n"
     ]
    }
   ],
   "source": [
    "print(f'Subtraction of array1 from array2:\\n{arr2-arr1}')"
   ]
  },
  {
   "cell_type": "code",
   "execution_count": 55,
   "id": "2c9509ef",
   "metadata": {},
   "outputs": [
    {
     "name": "stdout",
     "output_type": "stream",
     "text": [
      "Multiplication of array1 by array2:\n",
      "[[80 39]\n",
      " [66 48]]\n"
     ]
    }
   ],
   "source": [
    "print(f'Multiplication of array1 by array2:\\n{arr2*arr1}')"
   ]
  },
  {
   "cell_type": "code",
   "execution_count": 57,
   "id": "6a07f407",
   "metadata": {},
   "outputs": [
    {
     "name": "stdout",
     "output_type": "stream",
     "text": [
      "Division of array1 by array2:\n",
      "[[3.2        4.33333333]\n",
      " [1.83333333 5.33333333]]\n"
     ]
    }
   ],
   "source": [
    "print(f'Division of array1 by array2:\\n{arr2/arr1}')"
   ]
  },
  {
   "cell_type": "code",
   "execution_count": null,
   "id": "85cb5f83",
   "metadata": {},
   "outputs": [],
   "source": []
  },
  {
   "cell_type": "markdown",
   "id": "f487de94",
   "metadata": {},
   "source": [
    "## 3. More Mathematical Operations"
   ]
  },
  {
   "cell_type": "markdown",
   "id": "44cfe2ab",
   "metadata": {},
   "source": [
    "### a. Mathematical Operations on 1-D Array"
   ]
  },
  {
   "cell_type": "code",
   "execution_count": 59,
   "id": "2f7919e7",
   "metadata": {},
   "outputs": [
    {
     "name": "stdout",
     "output_type": "stream",
     "text": [
      "Array:\n",
      "[8.04889372 7.5862381  9.42275788 9.26690927 7.66739785]\n"
     ]
    }
   ],
   "source": [
    "# Creating 1-D array of 5 elements of random floats between 1 and 10\n",
    "arr = np.random.rand(5)*10\n",
    "print(f\"Array:\\n{arr}\")"
   ]
  },
  {
   "cell_type": "code",
   "execution_count": 60,
   "id": "d67c7966",
   "metadata": {},
   "outputs": [
    {
     "name": "stdout",
     "output_type": "stream",
     "text": [
      "np.abs = [8.04889372 7.5862381  9.42275788 9.26690927 7.66739785]\n"
     ]
    }
   ],
   "source": [
    "# After the operation a new `ndarray` is returned, which is a copy of the original array with the operation performed\n",
    "print(f\"np.abs = {np.abs(arr)}\")"
   ]
  },
  {
   "cell_type": "code",
   "execution_count": 61,
   "id": "f5b12c32",
   "metadata": {},
   "outputs": [
    {
     "name": "stdout",
     "output_type": "stream",
     "text": [
      "np.square = [64.78469008 57.55100857 88.78836605 85.8756074  58.78898986]\n"
     ]
    }
   ],
   "source": [
    "print(f\"np.square = {np.square(arr)}\")"
   ]
  },
  {
   "cell_type": "code",
   "execution_count": 62,
   "id": "e06ff8cb",
   "metadata": {},
   "outputs": [
    {
     "name": "stdout",
     "output_type": "stream",
     "text": [
      "np.sqrt = [2.83705723 2.75431264 3.0696511  3.04415986 2.76900665]\n"
     ]
    }
   ],
   "source": [
    "print(f\"np.sqrt = {np.sqrt(arr)}\")"
   ]
  },
  {
   "cell_type": "code",
   "execution_count": 63,
   "id": "7c5ecc27",
   "metadata": {},
   "outputs": [
    {
     "name": "stdout",
     "output_type": "stream",
     "text": [
      "np.cbrt = [2.0040662  1.96490771 2.11215609 2.10044656 1.97188992]\n"
     ]
    }
   ],
   "source": [
    "print(f\"np.cbrt = {np.cbrt(arr)}\")"
   ]
  },
  {
   "cell_type": "code",
   "execution_count": 64,
   "id": "f6fcebfb",
   "metadata": {},
   "outputs": [
    {
     "name": "stdout",
     "output_type": "stream",
     "text": [
      "np.log = [2.08553466 2.02633583 2.24312781 2.22644991 2.0369773 ]\n"
     ]
    }
   ],
   "source": [
    "print(f\"np.log = {np.log(arr)}\")"
   ]
  },
  {
   "cell_type": "code",
   "execution_count": 65,
   "id": "0630a939",
   "metadata": {},
   "outputs": [
    {
     "name": "stdout",
     "output_type": "stream",
     "text": [
      "np.log2 = [3.00879051 2.92338465 3.23614937 3.21208825 2.93873704]\n"
     ]
    }
   ],
   "source": [
    "print(f\"np.log2 = {np.log2(arr)}\")"
   ]
  },
  {
   "cell_type": "code",
   "execution_count": 66,
   "id": "f4749e4e",
   "metadata": {},
   "outputs": [
    {
     "name": "stdout",
     "output_type": "stream",
     "text": [
      "np.log10 = [0.90573619 0.88002647 0.97417803 0.96693491 0.884648  ]\n"
     ]
    }
   ],
   "source": [
    "print(f\"np.log10 = {np.log10(arr)}\")"
   ]
  },
  {
   "cell_type": "code",
   "execution_count": 67,
   "id": "091db07d",
   "metadata": {},
   "outputs": [
    {
     "name": "stdout",
     "output_type": "stream",
     "text": [
      "np.isnan = [False False False False False]\n"
     ]
    }
   ],
   "source": [
    "print(f\"np.isnan = {np.isnan(arr)}\")"
   ]
  },
  {
   "cell_type": "code",
   "execution_count": 68,
   "id": "58916e09",
   "metadata": {},
   "outputs": [
    {
     "name": "stdout",
     "output_type": "stream",
     "text": [
      "np.floor = [ 9.  8. 10. 10.  8.]\n"
     ]
    }
   ],
   "source": [
    "print(f\"np.floor = {np.ceil(arr)}\")"
   ]
  },
  {
   "cell_type": "code",
   "execution_count": 69,
   "id": "fc750c0e",
   "metadata": {},
   "outputs": [
    {
     "name": "stdout",
     "output_type": "stream",
     "text": [
      "np.cumsum = [ 8.04889372 15.63513182 25.0578897  34.32479897 41.99219682]\n"
     ]
    }
   ],
   "source": [
    "print(f\"np.cumsum = {np.cumsum(arr)}\")"
   ]
  },
  {
   "cell_type": "code",
   "execution_count": 70,
   "id": "d3c127cc",
   "metadata": {},
   "outputs": [
    {
     "name": "stdout",
     "output_type": "stream",
     "text": [
      "np.floor = [8. 7. 9. 9. 7.]\n"
     ]
    }
   ],
   "source": [
    "print(f\"np.floor = {np.floor(arr)}\")"
   ]
  },
  {
   "cell_type": "markdown",
   "id": "43696fec",
   "metadata": {},
   "source": [
    "### b. Mathematical Operations on 2-D Array\n"
   ]
  },
  {
   "cell_type": "code",
   "execution_count": 71,
   "id": "f0c414cb",
   "metadata": {},
   "outputs": [
    {
     "name": "stdout",
     "output_type": "stream",
     "text": [
      "Matrix:\n",
      "[[4 2]\n",
      " [4 3]]\n"
     ]
    }
   ],
   "source": [
    "# Create a 2x2 matrix with random integers  between 1 to 9\n",
    "matrix = np.random.randint(1,20, size=(2,2))\n",
    "print(f'Matrix:\\n{matrix}')"
   ]
  },
  {
   "cell_type": "code",
   "execution_count": 72,
   "id": "27e80678",
   "metadata": {},
   "outputs": [
    {
     "name": "stdout",
     "output_type": "stream",
     "text": [
      "np.square(matrix) = \n",
      " [[16  4]\n",
      " [16  9]]\n",
      "np.sqrt(matrix) = \n",
      " [[2.         1.41421356]\n",
      " [2.         1.73205081]]\n",
      "np.log2(matrix) = \n",
      " [[2.        1.       ]\n",
      " [2.        1.5849625]]\n",
      "np.isnan(matrix) = \n",
      " [[False False]\n",
      " [False False]]\n",
      "np.ceil(matrix) = \n",
      " [[4. 2.]\n",
      " [4. 3.]]\n",
      "np.floor(matrix) = \n",
      " [[4. 2.]\n",
      " [4. 3.]]\n",
      "np.cumsum(matrix) = \n",
      " [ 4  6 10 13]\n"
     ]
    }
   ],
   "source": [
    "# After the operation a new `ndarray` is returned, which is a copy of the original array with the operation performed\n",
    "print(\"np.square(matrix) = \\n\", np.square(matrix))\n",
    "print(\"np.sqrt(matrix) = \\n\", np.sqrt(matrix))\n",
    "print(\"np.log2(matrix) = \\n\", np.log2(matrix))\n",
    "print(\"np.isnan(matrix) = \\n\", np.isnan(matrix))\n",
    "print(\"np.ceil(matrix) = \\n\", np.ceil(matrix))\n",
    "print(\"np.floor(matrix) = \\n\", np.floor(matrix))\n",
    "print(\"np.cumsum(matrix) = \\n\", np.cumsum(matrix))"
   ]
  },
  {
   "cell_type": "code",
   "execution_count": null,
   "id": "98c47e67",
   "metadata": {},
   "outputs": [],
   "source": []
  },
  {
   "cell_type": "markdown",
   "id": "9b3bf7da",
   "metadata": {},
   "source": [
    "## 4. Aggregate Functions\n"
   ]
  },
  {
   "cell_type": "markdown",
   "id": "131ff3c2",
   "metadata": {},
   "source": [
    "### a. Aggregate Functions on 1-D Arrays\n"
   ]
  },
  {
   "cell_type": "code",
   "execution_count": 73,
   "id": "26e1b4bb",
   "metadata": {},
   "outputs": [
    {
     "name": "stdout",
     "output_type": "stream",
     "text": [
      "Array:\n",
      "[ 5 10 10 14 11]\n"
     ]
    }
   ],
   "source": [
    "arr = np.random.randint(3,15, size=5)\n",
    "print(f'Array:\\n{arr}')"
   ]
  },
  {
   "cell_type": "code",
   "execution_count": 74,
   "id": "f92359d1",
   "metadata": {},
   "outputs": [
    {
     "name": "stdout",
     "output_type": "stream",
     "text": [
      "np.min = 5\n"
     ]
    }
   ],
   "source": [
    "# After the operation a new `ndarray` is returned, which is a copy of the original array with the operation performed\n",
    "print(f\"np.min = {np.min(arr)}\")"
   ]
  },
  {
   "cell_type": "code",
   "execution_count": 75,
   "id": "eb098fcc",
   "metadata": {},
   "outputs": [
    {
     "name": "stdout",
     "output_type": "stream",
     "text": [
      "np.max = 14\n"
     ]
    }
   ],
   "source": [
    "print(f\"np.max = {np.max(arr)}\")"
   ]
  },
  {
   "cell_type": "code",
   "execution_count": 76,
   "id": "ae8def55",
   "metadata": {},
   "outputs": [
    {
     "name": "stdout",
     "output_type": "stream",
     "text": [
      "np.sum = 50\n"
     ]
    }
   ],
   "source": [
    "print(f\"np.sum = {np.sum(arr)}\")"
   ]
  },
  {
   "cell_type": "code",
   "execution_count": 77,
   "id": "0a16404c",
   "metadata": {},
   "outputs": [
    {
     "name": "stdout",
     "output_type": "stream",
     "text": [
      "np.prod = 77000\n"
     ]
    }
   ],
   "source": [
    "print(f\"np.prod = {np.prod(arr)}\")"
   ]
  },
  {
   "cell_type": "code",
   "execution_count": 78,
   "id": "6b8fe1f4",
   "metadata": {},
   "outputs": [
    {
     "name": "stdout",
     "output_type": "stream",
     "text": [
      "np.mean = 10.0\n"
     ]
    }
   ],
   "source": [
    "#Arithmetic mean is the sum of elements along an axis divided by the number of elements. \n",
    "print(f\"np.mean = {np.mean(arr)}\")"
   ]
  },
  {
   "cell_type": "code",
   "execution_count": 81,
   "id": "08fe538c",
   "metadata": {},
   "outputs": [
    {
     "name": "stdout",
     "output_type": "stream",
     "text": [
      "np.average = 10.0\n",
      "np.average = 11.066666666666666\n"
     ]
    }
   ],
   "source": [
    "# The np.average() function computes the weighted average, by multiplying of each array element by its weight\n",
    "# The np.average() is same as np.mean(), when weight is not specified\n",
    "print(f\"np.average = {np.average(arr)}\")\n",
    "\n",
    "wghs = np.array([1,2,3,4,5])\n",
    "\n",
    "print(f\"np.average = {np.average(arr, weights = wghs)}\")\n"
   ]
  },
  {
   "cell_type": "code",
   "execution_count": null,
   "id": "c6448f35",
   "metadata": {},
   "outputs": [],
   "source": []
  },
  {
   "cell_type": "code",
   "execution_count": 84,
   "id": "aaf9c0b5",
   "metadata": {},
   "outputs": [
    {
     "name": "stdout",
     "output_type": "stream",
     "text": [
      "arr:\n",
      "[94 81 89 42 93 73 29 78 56 98]\n",
      "\n",
      "np.median = 79.5\n"
     ]
    }
   ],
   "source": [
    "arr = np.random.randint(1, 100, size=10)\n",
    "print(f'arr:\\n{arr}')\n",
    "\n",
    "# Median is the value separating the higher half of a data sample from the lower half.\n",
    "print(f'\\nnp.median = {np.median(arr)}')"
   ]
  },
  {
   "cell_type": "code",
   "execution_count": 87,
   "id": "a55ed1ae",
   "metadata": {},
   "outputs": [
    {
     "name": "stdout",
     "output_type": "stream",
     "text": [
      "np.percentile 50% 79.5\n",
      "np.percentile 0% 29.0\n",
      "np.percentile 100% 98.0\n"
     ]
    }
   ],
   "source": [
    "#  Percentile is the value below which a given percentage of observations in a group of observations fall.\n",
    "# 50th percentile is the score at or below which 50% of the scores in\n",
    "\n",
    "print(f'np.percentile 50% {np.percentile(arr,50)}') #same as median value\n",
    "print(f'np.percentile 0% {np.percentile(arr,0)}') #lowest value\n",
    "print(f'np.percentile 100% {np.percentile(arr,100)}') #highest value"
   ]
  },
  {
   "cell_type": "code",
   "execution_count": 89,
   "id": "b1833484",
   "metadata": {},
   "outputs": [
    {
     "name": "stdout",
     "output_type": "stream",
     "text": [
      "np.var = 499.60999999999996\n",
      "np.std = 22.35195740869242\n"
     ]
    }
   ],
   "source": [
    "# The variance measures the average degree to which each point differs from the mean\n",
    "# Variance is calculated as the average of squared deviations from mean\n",
    "\n",
    "print(f'np.var = {np.var(arr)}')\n",
    "\n",
    "#  Standard deviation checks how spread out a group of numbers is from the mean\n",
    "# It is the square root of variance: sqrt(mean((x - x.mean())**2))\n",
    "print(f'np.std = {np.std(arr)}')"
   ]
  },
  {
   "cell_type": "code",
   "execution_count": null,
   "id": "3e49e413",
   "metadata": {},
   "outputs": [],
   "source": []
  },
  {
   "cell_type": "markdown",
   "id": "d75ae19c",
   "metadata": {},
   "source": [
    "### b. Aggregate Functions on 2-D Arrays\n"
   ]
  },
  {
   "cell_type": "code",
   "execution_count": 92,
   "id": "48625b9f",
   "metadata": {},
   "outputs": [
    {
     "name": "stdout",
     "output_type": "stream",
     "text": [
      "Matrix:\n",
      "[[4 1 3]\n",
      " [1 1 2]\n",
      " [4 4 1]]\n",
      "np.sum of matrix at axis=0:\n",
      "[9 6 6]\n",
      "np.sum of matrix at axis=1:\n",
      "[8 4 9]\n"
     ]
    }
   ],
   "source": [
    "# Create a 3x3 (2-D array) initialized with random integers from 1 to 9\n",
    "matrix = np.random.randint(1,5, size=(3,3))\n",
    "print(f'Matrix:\\n{matrix}')\n",
    "\n",
    "print(f'np.sum of matrix at axis=0:\\n{np.sum(matrix,axis=0)}')\n",
    "\n",
    "print(f'np.sum of matrix at axis=1:\\n{np.sum(matrix,axis=1)}')"
   ]
  },
  {
   "cell_type": "code",
   "execution_count": 93,
   "id": "4c10f050",
   "metadata": {},
   "outputs": [
    {
     "name": "stdout",
     "output_type": "stream",
     "text": [
      "Matrix:\n",
      "[[5 3 4]\n",
      " [2 6 4]\n",
      " [1 4 2]]\n",
      "np.min of matrix at axis=0:\n",
      "[1 3 2]\n",
      "np.max of matrix at axis=1:\n",
      "[5 6 4]\n"
     ]
    }
   ],
   "source": [
    "# Create a 3x3 (2-D array) initialized with random integers from 1 to 9\n",
    "matrix = np.random.randint(1,10,size=(3,3))\n",
    "print(f'Matrix:\\n{matrix}')\n",
    "\n",
    "print(f'np.min of matrix at axis=0:\\n{np.min(matrix,axis=0)}')\n",
    "\n",
    "print(f'np.max of matrix at axis=1:\\n{np.max(matrix,axis=1)}')"
   ]
  },
  {
   "cell_type": "code",
   "execution_count": 94,
   "id": "2b0e94bd",
   "metadata": {},
   "outputs": [
    {
     "name": "stdout",
     "output_type": "stream",
     "text": [
      "Matrix:\n",
      "[[7 3 7 6]\n",
      " [3 8 8 7]\n",
      " [9 5 9 1]\n",
      " [5 5 1 4]]\n",
      "np.mean of matrix at axis=0:\n",
      "[6.   5.25 6.25 4.5 ]\n",
      "np.mean of matrix at axis=1:\n",
      "[5.75 6.5  6.   3.75]\n"
     ]
    }
   ],
   "source": [
    "# Create a 3x3 (2-D array) initialized with random integers from 1 to 9\n",
    "matrix = np.random.randint(1,10,size=(4,4))\n",
    "print(f'Matrix:\\n{matrix}')\n",
    "\n",
    "print(f'np.mean of matrix at axis=0:\\n{np.mean(matrix,axis=0)}')\n",
    "\n",
    "print(f'np.mean of matrix at axis=1:\\n{np.mean(matrix,axis=1)}')"
   ]
  },
  {
   "cell_type": "code",
   "execution_count": 95,
   "id": "946dfad2",
   "metadata": {},
   "outputs": [
    {
     "name": "stdout",
     "output_type": "stream",
     "text": [
      "Matrix:\n",
      "[[4 9 1 1]\n",
      " [9 4 5 6]\n",
      " [1 4 9 4]\n",
      " [2 7 6 9]]\n",
      "np.median of matrix at axis=0:\n",
      "[3.  5.5 5.5 5. ]\n",
      "np.median of matrix at axis=1:\n",
      "[2.5 5.5 4.  6.5]\n"
     ]
    }
   ],
   "source": [
    "# Create a 3x3 (2-D array) initialized with random integers from 1 to 9\n",
    "matrix = np.random.randint(1,10,size=(4,4))\n",
    "print(f'Matrix:\\n{matrix}')\n",
    "\n",
    "print(f'np.median of matrix at axis=0:\\n{np.median(matrix,axis=0)}')\n",
    "\n",
    "print(f'np.median of matrix at axis=1:\\n{np.median(matrix,axis=1)}')"
   ]
  },
  {
   "cell_type": "code",
   "execution_count": null,
   "id": "b6535769",
   "metadata": {},
   "outputs": [],
   "source": []
  },
  {
   "cell_type": "markdown",
   "id": "4adb16d6",
   "metadata": {},
   "source": [
    "Please do practice calculating the percentile, variance and standard deviation along different axis of a 2-D array"
   ]
  },
  {
   "cell_type": "markdown",
   "id": "2f9faeef",
   "metadata": {},
   "source": [
    "## 5. Comparing NumPy Arrays"
   ]
  },
  {
   "cell_type": "markdown",
   "id": "a52647a8",
   "metadata": {},
   "source": [
    "### a. Comparing NumPy 1-D Arrays\n",
    "- Returns a Boolean numpy array containing True/False after doing element wise comparison"
   ]
  },
  {
   "cell_type": "code",
   "execution_count": 104,
   "id": "2410f72c",
   "metadata": {},
   "outputs": [
    {
     "name": "stdout",
     "output_type": "stream",
     "text": [
      "arr1:\n",
      "[4 9 2 3 1]\n",
      "arr2:\n",
      "[6 8 8 9 2]\n",
      "\n",
      "np.equal(if arr1 == arr2)\n",
      "[False False False False False]\n",
      "\n",
      "np.not_equal(if arr1 != arr2)\n",
      "[ True  True  True  True  True]\n",
      "\n",
      "np.greater(if arr1 > arr2)\n",
      "[False  True False False False]\n",
      "\n",
      "np.greater_equal(if arr1 < arr2)\n",
      "[ True False  True  True  True]\n"
     ]
    }
   ],
   "source": [
    "# Create two 1-D arrays each having 4 random integers from 1 to 9\n",
    "arr1 = np.random.randint(1,10, size=5)\n",
    "arr2 = np.random.randint(1,10, size=5)\n",
    "\n",
    "print(f'arr1:\\n{arr1}')\n",
    "print(f'arr2:\\n{arr2}')\n",
    "\n",
    "print(f'\\nnp.equal(if arr1 == arr2)\\n{arr1==arr2}')\n",
    "print(f'\\nnp.not_equal(if arr1 != arr2)\\n{arr1!=arr2}')\n",
    "\n",
    "print(f'\\nnp.greater(if arr1 > arr2)\\n{arr1>arr2}')\n",
    "print(f'\\nnp.greater_equal(if arr1 < arr2)\\n{arr1<arr2}')\n",
    "\n"
   ]
  },
  {
   "cell_type": "code",
   "execution_count": null,
   "id": "2cac48f6",
   "metadata": {},
   "outputs": [],
   "source": []
  },
  {
   "cell_type": "markdown",
   "id": "04963137",
   "metadata": {},
   "source": [
    "### b. Comparing NumPy 2-D Arrays"
   ]
  },
  {
   "cell_type": "code",
   "execution_count": 107,
   "id": "d33ae848",
   "metadata": {
    "scrolled": true
   },
   "outputs": [
    {
     "name": "stdout",
     "output_type": "stream",
     "text": [
      "matrix1:\n",
      "[2 2 3 4 9]\n",
      "matrix2:\n",
      "[5 4 8 2 7]\n",
      "\n",
      "np.equal(if matrix1 == matrix2)\n",
      "[False False False False False]\n",
      "\n",
      "np.not_equal(if matrix1 != matrix2)\n",
      "[ True  True  True  True  True]\n",
      "\n",
      "np.greater(if matrix1 > matrix2)\n",
      "[False False False  True  True]\n",
      "\n",
      "np.greater_equal(if matrix1 < matrix2)\n",
      "[ True  True  True False False]\n"
     ]
    }
   ],
   "source": [
    "matrix1 = np.random.randint(1,10, size=5)\n",
    "matrix2 = np.random.randint(1,10, size=5)\n",
    "\n",
    "print(f'matrix1:\\n{matrix1}')\n",
    "print(f'matrix2:\\n{matrix2}')\n",
    "\n",
    "print(f'\\nnp.equal(if matrix1 == matrix2)\\n{matrix1==arr2}')\n",
    "print(f'\\nnp.not_equal(if matrix1 != matrix2)\\n{matrix1!=matrix2}')\n",
    "\n",
    "print(f'\\nnp.greater(if matrix1 > matrix2)\\n{matrix1>matrix2}')\n",
    "print(f'\\nnp.greater_equal(if matrix1 < matrix2)\\n{matrix1<matrix2}')"
   ]
  },
  {
   "cell_type": "code",
   "execution_count": 108,
   "id": "6514c5da",
   "metadata": {},
   "outputs": [
    {
     "name": "stdout",
     "output_type": "stream",
     "text": [
      "matrix1:\n",
      "[8 8 6 9 5]\n",
      "matrix2:\n",
      "[1 2 6 2 6]\n",
      "\n",
      "np.equal(if matrix1 == matrix2)\n",
      "[False  True False  True False]\n",
      "\n",
      "np.not_equal(if matrix1 != matrix2)\n",
      "[ True  True False  True  True]\n",
      "\n",
      "np.less(if matrix1 > matrix2)\n",
      "[ True  True False  True False]\n",
      "\n",
      "np.less_equal(if matrix1 < matrix2)\n",
      "[False False False False  True]\n"
     ]
    }
   ],
   "source": [
    "matrix1 = np.random.randint(1,10, size=5)\n",
    "matrix2 = np.random.randint(1,10, size=5)\n",
    "\n",
    "print(f'matrix1:\\n{matrix1}')\n",
    "print(f'matrix2:\\n{matrix2}')\n",
    "\n",
    "print(f'\\nnp.equal(if matrix1 == matrix2)\\n{matrix1==arr2}')\n",
    "print(f'\\nnp.not_equal(if matrix1 != matrix2)\\n{matrix1!=matrix2}')\n",
    "\n",
    "print(f'\\nnp.less(if matrix1 > matrix2)\\n{matrix1>matrix2}')\n",
    "print(f'\\nnp.less_equal(if matrix1 < matrix2)\\n{matrix1<matrix2}')"
   ]
  },
  {
   "cell_type": "code",
   "execution_count": null,
   "id": "3874cc26",
   "metadata": {},
   "outputs": [],
   "source": []
  },
  {
   "cell_type": "markdown",
   "id": "5fce845c",
   "metadata": {},
   "source": [
    "## 6. Searching NumPy Arrays using `numpy.where()`\n"
   ]
  },
  {
   "cell_type": "markdown",
   "id": "1b289794",
   "metadata": {},
   "source": [
    "### a. Searching NumPy 1-D Arrays"
   ]
  },
  {
   "cell_type": "markdown",
   "id": "6f375e78",
   "metadata": {},
   "source": [
    "- The `numpy.where()` method is used to search NumPy arrays for the index values of any element which matches the condition passed as a parameter to the function.\n",
    "```\n",
    "numpy.where(condition, [x, y])\n",
    "```\n",
    "    - condition : When True, yield x, otherwise yield y. If x and y are not given just return the value of the array\n",
    "    - Returns: ndarray or tuple of ndarrays. If both x and y are specified, the output array contains elements of x where condition is True, and elements from y elsewhere."
   ]
  },
  {
   "cell_type": "code",
   "execution_count": 110,
   "id": "15b8aa99",
   "metadata": {},
   "outputs": [
    {
     "name": "stdout",
     "output_type": "stream",
     "text": [
      "(array([2], dtype=int64),)\n"
     ]
    }
   ],
   "source": [
    "arr = np.array([6,5,4,80,10,21,23,67,90])\n",
    "a1 = np.where(arr == 4)\n",
    "print(a1)"
   ]
  },
  {
   "cell_type": "markdown",
   "id": "b57e9ada",
   "metadata": {},
   "source": [
    "Note: The result is a tuple of 1-D arrays having a single tuple containing the index"
   ]
  },
  {
   "cell_type": "code",
   "execution_count": 111,
   "id": "903912e4",
   "metadata": {},
   "outputs": [
    {
     "name": "stdout",
     "output_type": "stream",
     "text": [
      "(array([1, 3, 5, 7], dtype=int64),)\n"
     ]
    }
   ],
   "source": [
    "arr = np.array([1, 2, 3, 4, 5, 6, 7, 8])\n",
    "t1 = np.where(arr%2 == 0)\n",
    "print(t1)"
   ]
  },
  {
   "cell_type": "code",
   "execution_count": 112,
   "id": "9adf32af",
   "metadata": {},
   "outputs": [
    {
     "name": "stdout",
     "output_type": "stream",
     "text": [
      "[False  True False  True False  True False  True]\n"
     ]
    }
   ],
   "source": [
    "arr = np.array([1, 2, 3, 4, 5, 6, 7, 8])\n",
    "t1 = np.where(arr%2 == 0, True, False)\n",
    "print(t1)"
   ]
  },
  {
   "cell_type": "code",
   "execution_count": 113,
   "id": "06e4a13e",
   "metadata": {},
   "outputs": [
    {
     "name": "stdout",
     "output_type": "stream",
     "text": [
      "['No' 'Yes' 'No' 'Yes' 'No' 'Yes' 'No' 'Yes']\n"
     ]
    }
   ],
   "source": [
    "arr = np.array([1, 2, 3, 4, 5, 6, 7, 8])\n",
    "t1 = np.where(arr%2 == 0, 'Yes', 'No')\n",
    "print(t1)"
   ]
  },
  {
   "cell_type": "code",
   "execution_count": null,
   "id": "8860bb47",
   "metadata": {},
   "outputs": [],
   "source": []
  },
  {
   "cell_type": "markdown",
   "id": "118f0e70",
   "metadata": {},
   "source": [
    "Note: The result is a simple 1-D array, when you use the x and y arguments to `np.where()`"
   ]
  },
  {
   "cell_type": "markdown",
   "id": "2949da18",
   "metadata": {},
   "source": [
    "### b. Searching NumPy 2-D Arrays"
   ]
  },
  {
   "cell_type": "markdown",
   "id": "215929ca",
   "metadata": {},
   "source": [
    "- The `numpy.where()` method is used to search NumPy arrays for the index values of any element which matches the condition passed as a parameter to the function.\n",
    "```\n",
    "numpy.where(condition, [x, y])\n",
    "```\n",
    "    - condition : When True, yield x, otherwise yield y. If x and y are not given just return the value of the array\n",
    "    - Returns: ndarray or tuple of ndarrays. If both x and y are specified, the output array contains elements of x where condition is True, and elements from y elsewhere."
   ]
  },
  {
   "cell_type": "code",
   "execution_count": 117,
   "id": "14ebc017",
   "metadata": {},
   "outputs": [
    {
     "name": "stdout",
     "output_type": "stream",
     "text": [
      "Matrix:\n",
      "[[11 10  1  9]\n",
      " [ 9 15  1 15]\n",
      " [13 12 11 16]\n",
      " [16 15  1 15]]\n",
      "(array([0, 2], dtype=int64), array([0, 2], dtype=int64))\n"
     ]
    }
   ],
   "source": [
    "matrix = np.random.randint(1,20, size=(4,4))\n",
    "print(f'Matrix:\\n{matrix}')\n"
   ]
  },
  {
   "cell_type": "code",
   "execution_count": 120,
   "id": "e3a8803a",
   "metadata": {},
   "outputs": [
    {
     "name": "stdout",
     "output_type": "stream",
     "text": [
      "There are 11 at the cordinates:\n",
      "(array([1, 1, 3, 3], dtype=int64), array([1, 3, 1, 3], dtype=int64))\n"
     ]
    }
   ],
   "source": [
    "t1 = np.where(matrix == 15)\n",
    "print(f'There are 11 at the cordinates:\\n{t1}')\n",
    "# coordinate is numbers from each array"
   ]
  },
  {
   "cell_type": "markdown",
   "id": "c4d3a0ea",
   "metadata": {},
   "source": [
    "**Note:** The result is a tuple of 1-D arrays having two tuples. The condition is true for three elements at indices `(1,1)`, `(1,3)`,  `(3,1)` and `(3,3)`"
   ]
  },
  {
   "cell_type": "code",
   "execution_count": 121,
   "id": "cb844f3e",
   "metadata": {},
   "outputs": [
    {
     "name": "stdout",
     "output_type": "stream",
     "text": [
      "(array([0, 2, 2, 3], dtype=int64), array([1, 1, 3, 0], dtype=int64))\n"
     ]
    }
   ],
   "source": [
    "t1 = np.where(matrix%2 == 0)\n",
    "print(t1)"
   ]
  },
  {
   "cell_type": "markdown",
   "id": "e2c30655",
   "metadata": {},
   "source": [
    "**Note:** The result is a tuple of 1-D arrays having two tuples. The condition is true for three elements at indices `(0,1)`, `(2,1)`,  `(2,3)` and `(3,0)`"
   ]
  },
  {
   "cell_type": "code",
   "execution_count": 123,
   "id": "28119e02",
   "metadata": {},
   "outputs": [
    {
     "name": "stdout",
     "output_type": "stream",
     "text": [
      "[[False  True False False]\n",
      " [False False False False]\n",
      " [False  True False  True]\n",
      " [ True False False False]]\n"
     ]
    }
   ],
   "source": [
    "t1 = np.where(matrix%2 == 0, True, False)\n",
    "print(t1)"
   ]
  },
  {
   "cell_type": "markdown",
   "id": "19bd370a",
   "metadata": {},
   "source": [
    "**Note:** The result is a simple 2-D array, when you use the `x` and `y` arguments to `np.where()`"
   ]
  },
  {
   "cell_type": "code",
   "execution_count": 125,
   "id": "99d031e6",
   "metadata": {},
   "outputs": [
    {
     "name": "stdout",
     "output_type": "stream",
     "text": [
      "[['Odd' 'Even' 'Odd' 'Odd']\n",
      " ['Odd' 'Odd' 'Odd' 'Odd']\n",
      " ['Odd' 'Even' 'Odd' 'Even']\n",
      " ['Even' 'Odd' 'Odd' 'Odd']]\n"
     ]
    }
   ],
   "source": [
    "t1 = np.where(matrix%2 == 0, \"Even\", \"Odd\")\n",
    "print(t1)"
   ]
  },
  {
   "cell_type": "code",
   "execution_count": null,
   "id": "e7ba85fb",
   "metadata": {},
   "outputs": [],
   "source": []
  }
 ],
 "metadata": {
  "kernelspec": {
   "display_name": "Python 3 (ipykernel)",
   "language": "python",
   "name": "python3"
  },
  "language_info": {
   "codemirror_mode": {
    "name": "ipython",
    "version": 3
   },
   "file_extension": ".py",
   "mimetype": "text/x-python",
   "name": "python",
   "nbconvert_exporter": "python",
   "pygments_lexer": "ipython3",
   "version": "3.11.5"
  }
 },
 "nbformat": 4,
 "nbformat_minor": 5
}
