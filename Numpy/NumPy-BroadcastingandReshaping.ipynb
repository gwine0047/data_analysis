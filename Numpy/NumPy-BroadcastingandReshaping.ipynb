{
 "cells": [
  {
   "cell_type": "code",
   "execution_count": null,
   "id": "84c0a120",
   "metadata": {},
   "outputs": [],
   "source": []
  },
  {
   "cell_type": "markdown",
   "id": "60810123",
   "metadata": {},
   "source": [
    "<h1 align=\"center\">Lecture 3.5 (NumPy-05)</h1>"
   ]
  },
  {
   "cell_type": "markdown",
   "id": "05a2ab34",
   "metadata": {},
   "source": [
    "# _Broadcasting, Reshaping, Sorting and Iterating NumPy Arrays.ipynb_"
   ]
  },
  {
   "cell_type": "markdown",
   "id": "1d9e8233",
   "metadata": {},
   "source": [
    "<img align=\"center\" width=\"600\" height=\"600\"  src=\"..\\..\\..\\data_science\\exercise\\Section-3-Python-for-Data-Scientists/images/reshapingbroadcasting.png\" > "
   ]
  },
  {
   "cell_type": "code",
   "execution_count": null,
   "id": "79453ba1",
   "metadata": {},
   "outputs": [],
   "source": []
  },
  {
   "cell_type": "markdown",
   "id": "04676dca",
   "metadata": {},
   "source": [
    "# Learning agenda of this notebook\n",
    "1. Broadcasting NumPy Arrays\n",
    "2. Reshaping NumPy Arrays\n",
    "    - Use `shape` attribute (in-place operation)\n",
    "    - Use `np.reshape()` method (shallow copy)\n",
    "    - Use `np.resize()` method (deep copy)\n",
    "    - Use `ndarray.transpose()` method (shallow copy)\n",
    "    - Use `np.swapaxes()`method (shallow copy)\n",
    "    - Use `np.flatten()` method (deep copy)\n",
    "3. Sorting Arrays using `np.sort()` Method\n",
    "4. Iterating NumPy Arrays"
   ]
  },
  {
   "cell_type": "code",
   "execution_count": 2,
   "id": "ac9d6724",
   "metadata": {},
   "outputs": [
    {
     "data": {
      "text/plain": [
       "('1.24.3', ['C:\\\\Users\\\\FashN\\\\anaconda3\\\\Lib\\\\site-packages\\\\numpy'])"
      ]
     },
     "execution_count": 2,
     "metadata": {},
     "output_type": "execute_result"
    }
   ],
   "source": [
    "import numpy as np\n",
    "np.__version__, np.__path__"
   ]
  },
  {
   "cell_type": "markdown",
   "id": "afa75c0d",
   "metadata": {},
   "source": [
    "## 1. Broadcasting numPy Arrays\n",
    "- Numpy arrays also support **broadcasting**, allowing arithmetic operations between two arrays with different numbers of dimensions but compatible shapes. \n",
    "- Subject to certain constraints, the smaller array is “broadcast” across the larger array so that they have compatible shapes.\n",
    "- Two dimensions are compatible when\n",
    "    - they are equal, or\n",
    "    - one of them is 1"
   ]
  },
  {
   "cell_type": "markdown",
   "id": "da80f2ba",
   "metadata": {},
   "source": [
    ">**Review of Arithmetic operations with numPy arrays of same shape:**"
   ]
  },
  {
   "cell_type": "code",
   "execution_count": 10,
   "id": "5d8b14db",
   "metadata": {},
   "outputs": [
    {
     "name": "stdout",
     "output_type": "stream",
     "text": [
      "array1 = [46 45 25 45 47]\n",
      "array2 = [2 5 9 7 6]\n",
      "\n",
      "arr1 + arr2 = [48 50 34 52 53]\n",
      "arr1 - arr2 = [44 40 16 38 41]\n",
      "arr1 // arr2 = [23.          9.          2.77777778  6.42857143  7.83333333]\n",
      "arr1 ** arr2 = [       2116   184528125   766306777     7298373 -2105686559]\n"
     ]
    }
   ],
   "source": [
    "import numpy as np\n",
    "# Create two 1-D arrays each having 4 random integers from 1 to 9\n",
    "arr1 = np.random.randint(low=1, high=50, size=5)\n",
    "arr2 = np.random.randint(1,10, size=5)\n",
    "\n",
    "print(f'array1 = {arr1}\\narray2 = {arr2}')\n",
    "print(f'\\narr1 + arr2 = {arr1 + arr2}')\n",
    "print(f'arr1 - arr2 = {arr1 - arr2}')\n",
    "print(f'arr1 // arr2 = {arr1 / arr2}')\n",
    "print(f'arr1 ** arr2 = {arr1 ** arr2}')"
   ]
  },
  {
   "cell_type": "code",
   "execution_count": null,
   "id": "d830a515",
   "metadata": {},
   "outputs": [],
   "source": []
  },
  {
   "cell_type": "markdown",
   "id": "f87a89a3",
   "metadata": {},
   "source": [
    "### a. Arithmetic of 1-Dimensional Array with a Scalar Value"
   ]
  },
  {
   "cell_type": "code",
   "execution_count": 11,
   "id": "e9763c17",
   "metadata": {},
   "outputs": [
    {
     "name": "stdout",
     "output_type": "stream",
     "text": [
      "arr1: \n",
      "[2 4 6 8]\n",
      "arr1.shape = (4,) \n",
      "a = 2\n"
     ]
    }
   ],
   "source": [
    "# Consider adding a scalar value 'a' to a 1-D numPy array\n",
    "arr1 = np.array([2,4,6,8])\n",
    "a = 2\n",
    "print(f'arr1: \\n{arr1}\\narr1.shape = {arr1.shape} \\na = {a}')"
   ]
  },
  {
   "cell_type": "code",
   "execution_count": 13,
   "id": "83704d84",
   "metadata": {},
   "outputs": [
    {
     "name": "stdout",
     "output_type": "stream",
     "text": [
      "arr2: \n",
      "[ 4  6  8 10]\n"
     ]
    }
   ],
   "source": [
    "# The scalar value is replicated to match the shape of arr1 before the operation\n",
    "#   [2  2  2  2]\n",
    "\n",
    "arr2 = arr1 + a\n",
    "print(f'arr2: \\n{arr2}')"
   ]
  },
  {
   "cell_type": "markdown",
   "id": "90a88d8b",
   "metadata": {},
   "source": [
    "### b. Arithmetic of 2-Dimensional Array with a Scalar Value"
   ]
  },
  {
   "cell_type": "code",
   "execution_count": 16,
   "id": "0167c123",
   "metadata": {},
   "outputs": [
    {
     "name": "stdout",
     "output_type": "stream",
     "text": [
      "arr1 = \n",
      "[[1 2 3]\n",
      " [1 2 3]]\n",
      "arr1.shape = (2, 3)\n",
      "a = 3\n",
      "arr2 = \n",
      "[[4 5 6]\n",
      " [4 5 6]]\n"
     ]
    }
   ],
   "source": [
    "# Consider adding a scalar value 'a' to a 2-D numPy array\n",
    "arr1 = np.array([[1, 2, 3], [1, 2, 3]])\n",
    "a = 3\n",
    "\n",
    "# The scalar value is replicated to match the shape of arr1 before the operation\n",
    "#   2  2  2 \n",
    "#   2  2  2 \n",
    "arr2 = arr1 + a\n",
    "print(f'arr1 = \\n{arr1}\\narr1.shape = {arr1.shape}\\na = {a}\\narr2 = \\n{arr2}')"
   ]
  },
  {
   "cell_type": "code",
   "execution_count": null,
   "id": "7e9b7f17",
   "metadata": {},
   "outputs": [],
   "source": []
  },
  {
   "cell_type": "markdown",
   "id": "15a80b54",
   "metadata": {},
   "source": [
    "### c. Arithmetic of 1-Dimensional Array with a 2-Dimensional Array"
   ]
  },
  {
   "cell_type": "markdown",
   "id": "0e71fa01",
   "metadata": {},
   "source": [
    "**Example 1:** Consider adding a 2-D array (3x4) to a 1-D array with 4 values"
   ]
  },
  {
   "cell_type": "code",
   "execution_count": 23,
   "id": "331e5c3b",
   "metadata": {},
   "outputs": [
    {
     "name": "stdout",
     "output_type": "stream",
     "text": [
      "arr1 = \n",
      "[[1 2 3 4]\n",
      " [3 4 5 6]\n",
      " [2 7 8 9]]\n",
      "arr1.shape = (3, 4)\n",
      "arr2 = \n",
      "[4 2 3 2]\n",
      "arr2.shape = (4,)\n",
      "\n",
      "arr3: =\n",
      "[[ 5  4  6  6]\n",
      " [ 7  6  8  8]\n",
      " [ 6  9 11 11]]\n"
     ]
    }
   ],
   "source": [
    "arr1 = np.array([[1, 2, 3, 4], [3, 4, 5, 6], [2, 7, 8, 9]])\n",
    "arr2 = np.array([4, 2, 3, 2])\n",
    "\n",
    "# The only row of arr2 is replicated twice before the operation\n",
    "#   4  2  3  2\n",
    "#   4  2  3  2\n",
    "#   4  2  3  2\n",
    "\n",
    "print(f'arr1 = \\n{arr1}\\narr1.shape = {arr1.shape}\\narr2 = \\n{arr2}\\narr2.shape = {arr2.shape}\\n\\narr3: =\\n{arr1+arr2}')\n"
   ]
  },
  {
   "cell_type": "markdown",
   "id": "92f2307a",
   "metadata": {},
   "source": [
    "**Example 2:** Consider adding a 2-D array (4x2) to a 1-D array with 2 values"
   ]
  },
  {
   "cell_type": "code",
   "execution_count": 27,
   "id": "348cf80f",
   "metadata": {},
   "outputs": [
    {
     "name": "stdout",
     "output_type": "stream",
     "text": [
      "arr1 = \n",
      "[[5 3 2]\n",
      " [3 4 5]\n",
      " [7 1 4]]\n",
      "arr1.shape = (3, 3)\n",
      "arr2 = \n",
      "[[100]\n",
      " [200]\n",
      " [300]]\n",
      "arr2.shape = (3, 1)\n",
      "\n",
      "arr3: =\n",
      "[[105 103 102]\n",
      " [203 204 205]\n",
      " [307 301 304]]\n",
      "arr3.shape = (3, 3)\n"
     ]
    }
   ],
   "source": [
    "arr1 = np.array([[5, 3, 2],[3, 4, 5], [7, 1, 4]])\n",
    "arr2 = np.array([[100], [200], [300]])\n",
    "\n",
    "# The only row of arr2 is replicated three times before the operation\n",
    "#   4  5\n",
    "#   4  5\n",
    "#   4  5\n",
    "#   4  5\n",
    "arr3 = arr2 + arr1 \n",
    "\n",
    "print(f'arr1 = \\n{arr1}\\narr1.shape = {arr1.shape}\\narr2 = \\n{arr2}\\narr2.shape = {arr2.shape}\\n\\narr3: =\\n{arr1+arr2}\\narr3.shape = {arr3.shape}')"
   ]
  },
  {
   "cell_type": "code",
   "execution_count": null,
   "id": "dea2371d",
   "metadata": {},
   "outputs": [],
   "source": []
  },
  {
   "cell_type": "markdown",
   "id": "34e074d8",
   "metadata": {},
   "source": [
    "**Points to Ponder in Arithmetic and Broadcasting:**\n",
    ">- Arithmetic between elements of two numPy arrays works fine if both the arrays are of same shape.\n",
    ">- Arithmetic between a numPy array and a scalar value works fine due to broadcasting.\n",
    ">- Arithmetic between elements of two numPy arrays with different dimensions will work, if and only if the array with smaller dimension can be replicated to match the shape of other array (as in above examples)"
   ]
  },
  {
   "cell_type": "code",
   "execution_count": 30,
   "id": "9abb21b8",
   "metadata": {},
   "outputs": [
    {
     "name": "stdout",
     "output_type": "stream",
     "text": [
      "arr1 = \n",
      "[[1 2 3]\n",
      " [1 2 3]]\n",
      "arr1.shape = (2, 3)\n",
      "arr2 = \n",
      "[1 2]\n",
      "arr2.shape = (2,)\n",
      "\n"
     ]
    }
   ],
   "source": [
    "# Consider adding a 2-D array (2x3) to a 1-D array with 2 values\n",
    "arr1 = np.array([[1, 2, 3], [1, 2, 3]])\n",
    "arr2 = np.array([1,2])\n",
    "\n",
    "# Since arr2 cannot be replicated to match the shape of arr1,\n",
    "# (last dimension of `arr1` i.e., 3 does not match with the first dimension of `arr2` i.e., 2)\n",
    "# therefore, broadcasting is unsuccessful and will flag an error\n",
    "arr3 = arr1 + arr2\n",
    "print(f'arr1 = \\n{arr1}\\narr1.shape = {arr1.shape}\\narr2 = \\n{arr2}\\narr2.shape = {arr2.shape}\\n\\narr3: =\\n{arr1+arr2}\\narr3.shape = {arr3.shape}')"
   ]
  },
  {
   "cell_type": "markdown",
   "id": "5fe5e364",
   "metadata": {},
   "source": [
    "**Example 2: Broadcast Error**"
   ]
  },
  {
   "cell_type": "code",
   "execution_count": 31,
   "id": "b37c3b97",
   "metadata": {},
   "outputs": [
    {
     "name": "stdout",
     "output_type": "stream",
     "text": [
      "arr1 = \n",
      "[[1 2]\n",
      " [3 4]\n",
      " [5 6]\n",
      " [7 8]]\n",
      "arr1.shape = (4, 2)\n",
      "arr2 = \n",
      "[[4]\n",
      " [5]\n",
      " [6]\n",
      " [5]]\n",
      "arr2.shape = (4, 1)\n",
      "\n"
     ]
    }
   ],
   "source": [
    "# Consider adding a 2-D array (2x3) to a 1-D array with 2 values\n",
    "arr1 = np.array([[1, 2], [3, 4], [5, 6], [7, 8]])\n",
    "arr2 = np.array([[4], [5], [6], [5]])\n",
    "print(f'arr1 = \\n{arr1}\\narr1.shape = {arr1.shape}\\narr2 = \\n{arr2}\\narr2.shape = {arr2.shape}\\n')"
   ]
  },
  {
   "cell_type": "code",
   "execution_count": 32,
   "id": "8c5a5b8e",
   "metadata": {},
   "outputs": [
    {
     "name": "stdout",
     "output_type": "stream",
     "text": [
      "arr3: \n",
      " [[ 5  6]\n",
      " [ 8  9]\n",
      " [11 12]\n",
      " [12 13]]\n"
     ]
    }
   ],
   "source": [
    "# Since arr2 cannot be replicated to match the shape of arr1,\n",
    "# (last dimension of `arr1` i.e., 2 does not match with the first dimension of `arr2` i.e., 3)\n",
    "# therefore, broadcasting is unsuccessful and will flag an error\n",
    "try:\n",
    "    arr3 = arr1 + arr2 \n",
    "    print(\"arr3: \\n\", arr3)\n",
    "except ValueError as e:\n",
    "    print(e)"
   ]
  },
  {
   "cell_type": "markdown",
   "id": "2ce7a146",
   "metadata": {},
   "source": [
    "**Example 3: Broadcast Error**"
   ]
  },
  {
   "cell_type": "code",
   "execution_count": 33,
   "id": "939eaba3",
   "metadata": {},
   "outputs": [
    {
     "name": "stdout",
     "output_type": "stream",
     "text": [
      "arr1 = \n",
      "[[5 3 2]\n",
      " [3 4 5]\n",
      " [7 1 4]]\n",
      "arr1.shape = (3, 3)\n",
      "arr2 = \n",
      "[[100]\n",
      " [200]]\n",
      "arr2.shape = (2, 1)\n",
      "\n",
      "operands could not be broadcast together with shapes (3,3) (2,1) \n"
     ]
    }
   ],
   "source": [
    "arr1 = np.array([[5, 3, 2],[3, 4, 5], [7, 1, 4]])\n",
    "arr2 = np.array([[100], [200]])\n",
    "print(f'arr1 = \\n{arr1}\\narr1.shape = {arr1.shape}\\narr2 = \\n{arr2}\\narr2.shape = {arr2.shape}\\n')\n",
    "\n",
    "# Since arr2 cannot be replicated to match the shape of arr1,\n",
    "# (last dimension of `arr1` i.e., 3 does not match with the first dimension of `arr2` i.e., 2)\n",
    "# therefore, broadcasting is unsuccessful and will flag an error\n",
    "try:\n",
    "    arr3 = arr1 + arr2 \n",
    "    print(\"arr3: \\n\", arr3)\n",
    "except ValueError as e:\n",
    "    print(e)"
   ]
  },
  {
   "cell_type": "code",
   "execution_count": null,
   "id": "5c64079d",
   "metadata": {},
   "outputs": [],
   "source": []
  },
  {
   "cell_type": "markdown",
   "id": "b94550cc",
   "metadata": {},
   "source": [
    "## 2. Reshaping Arrays\n",
    "- Reshaping numpy array simply means changing the shape of the given array, shape basically tells the number of elements and dimension of array.\n",
    "- By reshaping an array we can add or remove dimensions or change number of elements in each dimension.\n",
    "- There are different ways that reshape numPy arrays:\n",
    "    - Changing the `shape` attribute (in-place operation)\n",
    "    - Use `np.reshape()` method (shallow copy)\n",
    "    - Use `np.resize()` method (deep copy)\n",
    "    - Use `ndarray.transpose()` method (shallow copy)\n",
    "    - Use `np.swapaxes()`method (shallow copy)\n",
    "    - Use `ndarray.flatten()` method (deep copy)"
   ]
  },
  {
   "cell_type": "code",
   "execution_count": null,
   "id": "0c22942e",
   "metadata": {},
   "outputs": [],
   "source": []
  },
  {
   "cell_type": "markdown",
   "id": "eb83edf3",
   "metadata": {},
   "source": [
    "### a. Change the `np.shape` Attribute\n",
    "- Changing the shape of an `ndarray` is as simple as setting its `shape` attribute. However, the array's size must remain the same.\n",
    "- No new array is created, rather the change of shape occurs in-place."
   ]
  },
  {
   "cell_type": "code",
   "execution_count": 34,
   "id": "029778e0",
   "metadata": {},
   "outputs": [
    {
     "name": "stdout",
     "output_type": "stream",
     "text": [
      "arr1 = \n",
      "[ 0  1  2  3  4  5  6  7  8  9 10 11 12 13 14 15 16 17 18 19 20 21 22 23]\n",
      "Dimension = 1\n",
      "Shape = (24,)\n",
      "Strides = (4,)\n"
     ]
    }
   ],
   "source": [
    "arr1 = np.arange(24)\n",
    "print(f'arr1 = \\n{arr1}\\nDimension = {arr1.ndim}\\nShape = {arr1.shape}\\nStrides = {arr1.strides}')"
   ]
  },
  {
   "cell_type": "code",
   "execution_count": 38,
   "id": "6f110fe1",
   "metadata": {},
   "outputs": [
    {
     "name": "stdout",
     "output_type": "stream",
     "text": [
      "arr1 = \n",
      "[[ 0  1  2  3  4  5]\n",
      " [ 6  7  8  9 10 11]\n",
      " [12 13 14 15 16 17]\n",
      " [18 19 20 21 22 23]]\n",
      "Dimension = 2\n",
      "Shape = (4, 6)\n",
      "Strides = (24, 4)\n"
     ]
    }
   ],
   "source": [
    "#Changing the shape attribute (array size must remain same)\n",
    "arr1.shape = (4,6)\n",
    "print(f'arr1 = \\n{arr1}\\nDimension = {arr1.ndim}\\nShape = {arr1.shape}\\nStrides = {arr1.strides}')"
   ]
  },
  {
   "cell_type": "code",
   "execution_count": 39,
   "id": "0cddb73f",
   "metadata": {},
   "outputs": [
    {
     "name": "stdout",
     "output_type": "stream",
     "text": [
      "arr1 = \n",
      "[[[ 0  1  2]\n",
      "  [ 3  4  5]\n",
      "  [ 6  7  8]\n",
      "  [ 9 10 11]]\n",
      "\n",
      " [[12 13 14]\n",
      "  [15 16 17]\n",
      "  [18 19 20]\n",
      "  [21 22 23]]]\n",
      "Dimension = 3\n",
      "Shape = (2, 4, 3)\n",
      "Strides = (48, 12, 4)\n"
     ]
    }
   ],
   "source": [
    "#Changing the shape attribute (array size must remain same)\n",
    "arr1.shape = (2, 4, 3)\n",
    "print(f'arr1 = \\n{arr1}\\nDimension = {arr1.ndim}\\nShape = {arr1.shape}\\nStrides = {arr1.strides}')"
   ]
  },
  {
   "cell_type": "markdown",
   "id": "59593291",
   "metadata": {},
   "source": [
    "### b. Use the `np.reshape()` Method\n",
    "<img align=\"right\" width=\"400\" height=\"400\"  src=\"..\\..\\..\\data_science\\exercise\\Section-3-Python-for-Data-Scientists/images/reshapecf.png\" > \n",
    "\n",
    "```\n",
    "np.reshape(arr, newshape)\n",
    "```\n",
    "\n",
    "- The `np.reshape()` method takes the input array, then a tuple that defines the shape of the new array and returns a new array, which shares the same memory as the original array. You can think it as shallow copy in Python, where if you change the data in one array, the corresponding data in the other array is also modified."
   ]
  },
  {
   "cell_type": "markdown",
   "id": "bb019cb2",
   "metadata": {},
   "source": [
    "**Example 1:** Reshaping from 1-D numPy Arrays to 2-D numPy Arrays"
   ]
  },
  {
   "cell_type": "code",
   "execution_count": 40,
   "id": "0e0e48c8",
   "metadata": {},
   "outputs": [
    {
     "name": "stdout",
     "output_type": "stream",
     "text": [
      "Original Array =\n",
      "[1 2 3 4 5 6]\n",
      "Shape = (6,)\n"
     ]
    }
   ],
   "source": [
    "arr1 = np.array([1, 2, 3, 4, 5, 6])\n",
    "print(f'Original Array =\\n{arr1}\\nShape = {arr1.shape}')"
   ]
  },
  {
   "cell_type": "code",
   "execution_count": 42,
   "id": "313db00c",
   "metadata": {},
   "outputs": [
    {
     "name": "stdout",
     "output_type": "stream",
     "text": [
      "Reshaped Array =\n",
      "[[1 2 3]\n",
      " [4 5 6]]\n",
      "Shape = (2, 3)\n"
     ]
    }
   ],
   "source": [
    "# Changing the dimension of array using reshape()\n",
    "arr2 = np.reshape(arr1,(2,3))\n",
    "print(f'Reshaped Array =\\n{arr2}\\nShape = {arr2.shape}')"
   ]
  },
  {
   "cell_type": "code",
   "execution_count": 45,
   "id": "f9c8a58c",
   "metadata": {},
   "outputs": [
    {
     "name": "stdout",
     "output_type": "stream",
     "text": [
      "Original Array = [87  2  3  4  5  6]\n",
      "Reshaped Array =\n",
      "Array1 Shape = [87  2  3  4  5  6]\n",
      "[[87  2  3]\n",
      " [ 4  5  6]]\n",
      "Array2 Shape = (2, 3)\n",
      "id(arr1) = 2618980214480\n",
      "id(arr2) = 2618980214288\n"
     ]
    }
   ],
   "source": [
    "# make change in one of the arrays, the change is reflected in both\n",
    "arr2[0][0] = 87\n",
    "print(f'Original Array = {arr1}\\nReshaped Array =\\nArray1 Shape = {arr1}\\n{arr2}\\nArray2 Shape = {arr2.shape}\\nid(arr1) = {id(arr1)}\\nid(arr2) = {id(arr2)}')"
   ]
  },
  {
   "cell_type": "code",
   "execution_count": null,
   "id": "5db251be",
   "metadata": {},
   "outputs": [],
   "source": []
  },
  {
   "cell_type": "markdown",
   "id": "7969702d",
   "metadata": {},
   "source": [
    "**Example 2:** Reshaping from 1-D numPy Arrays to 3-D numPy Arrays"
   ]
  },
  {
   "cell_type": "code",
   "execution_count": 46,
   "id": "75cd94b0",
   "metadata": {
    "scrolled": true
   },
   "outputs": [
    {
     "name": "stdout",
     "output_type": "stream",
     "text": [
      "Original array =\n",
      "[ 1  2  3  4  5  6  7  8  9 10 11 12]\n",
      "arr1.shape = (12,)\n",
      "Reshaped array = \n",
      "[[[ 1  2  3]\n",
      "  [ 4  5  6]]\n",
      "\n",
      " [[ 7  8  9]\n",
      "  [10 11 12]]]\n",
      " arr2.shape = (2, 2, 3)\n"
     ]
    }
   ],
   "source": [
    "arr1 = np.array([1, 2, 3, 4, 5, 6, 7, 8, 9, 10, 11, 12])\n",
    "arr2 = np.reshape(arr1, (2, 2, 3))\n",
    "print(f'Original array =\\n{arr1}\\narr1.shape = {arr1.shape}\\nReshaped array = \\n{arr2}\\n arr2.shape = {arr2.shape}')"
   ]
  },
  {
   "cell_type": "code",
   "execution_count": null,
   "id": "7fcaeaad",
   "metadata": {},
   "outputs": [],
   "source": []
  },
  {
   "cell_type": "markdown",
   "id": "547a1c48",
   "metadata": {},
   "source": [
    "**Example 3:** Flattening Arrays. You can convert an array of an unknown dimension to a 1D array using `np.reshape(-1) `"
   ]
  },
  {
   "cell_type": "code",
   "execution_count": 47,
   "id": "267600b2",
   "metadata": {},
   "outputs": [
    {
     "name": "stdout",
     "output_type": "stream",
     "text": [
      "Original array =\n",
      "[[ 1  2  3]\n",
      " [ 6  7  8]\n",
      " [ 4  5  6]\n",
      " [11 14 10]]\n",
      "arr1.shape = (4, 3)\n",
      "Reshaped array = \n",
      "[ 1  2  3  6  7  8  4  5  6 11 14 10]\n",
      " arr2.shape = (12,)\n"
     ]
    }
   ],
   "source": [
    "arr1 = np.array([[1, 2, 3], [6, 7, 8], [4, 5, 6], [11, 14, 10]])\n",
    "arr2 = np.reshape(arr1, (-1))\n",
    "\n",
    "print(f'Original array =\\n{arr1}\\narr1.shape = {arr1.shape}\\nReshaped array = \\n{arr2}\\n arr2.shape = {arr2.shape}')"
   ]
  },
  {
   "cell_type": "code",
   "execution_count": null,
   "id": "2fc84ce5",
   "metadata": {},
   "outputs": [],
   "source": []
  },
  {
   "cell_type": "markdown",
   "id": "e23c6e6b",
   "metadata": {},
   "source": [
    "**Example 4:** Reshaping an array back to its original dimensions. If you applied the `np.reshape()` method to an array and you want to get the original shape of the array back, you can call the reshape method on that array again."
   ]
  },
  {
   "cell_type": "code",
   "execution_count": 49,
   "id": "ba9ab3f0",
   "metadata": {},
   "outputs": [
    {
     "name": "stdout",
     "output_type": "stream",
     "text": [
      "Original array =\n",
      "[[ 1  2  3]\n",
      " [ 6  7  8]\n",
      " [ 4  5  6]\n",
      " [11 14 10]]\n",
      "arr1.shape = (4, 3)\n",
      "Reshaped array = \n",
      "[ 1  2  3  6  7  8  4  5  6 11 14 10]\n",
      " arr2.shape = (12,)\n",
      "Reshaped back to original:\n",
      "[[ 1  2  3]\n",
      " [ 6  7  8]\n",
      " [ 4  5  6]\n",
      " [11 14 10]]\n",
      "arr3.shape = (4, 3)\n"
     ]
    }
   ],
   "source": [
    "arr3 = np.reshape(arr2, (4,3))\n",
    "print(f'Original array =\\n{arr1}\\narr1.shape = {arr1.shape}\\nReshaped array = \\n{arr2}\\n arr2.shape = {arr2.shape}\\nReshaped back to original:\\n{arr3}\\narr3.shape = {arr3.shape}')"
   ]
  },
  {
   "cell_type": "markdown",
   "id": "d1589243",
   "metadata": {},
   "source": [
    "### c.  Use `np.resize()` Method\n",
    "```\n",
    "np.resize(arr, newshape)\n",
    "```\n",
    "- Like `np.reshape()` method, the `np.resize()` method also takes the input array and a tuple that defines the shape of the array, with one main difference and that is:\n",
    "    - If the `newshape` argument mismatch with the size of `arr`, it do not raise error. The new array is formed from the data in the old array, repeated if necessary to fill out the required number of elements.  "
   ]
  },
  {
   "cell_type": "markdown",
   "id": "db76b161",
   "metadata": {},
   "source": [
    "**Example 1:** Resizing from 1-D numPy Arrays to 2-D numPy Arrays. The new array doesn’t share the same memory with the original array. The data change in one array is not mapped to the other."
   ]
  },
  {
   "cell_type": "code",
   "execution_count": 50,
   "id": "7784693c",
   "metadata": {},
   "outputs": [
    {
     "name": "stdout",
     "output_type": "stream",
     "text": [
      "Original Array = \n",
      "[1 2 3 4 5 6]\n",
      "arr1.shae = (6,)\n"
     ]
    }
   ],
   "source": [
    "arr1 = np.array([1, 2, 3, 4, 5, 6])\n",
    "print(f'Original Array = \\n{arr1}\\narr1.shae = {arr1.shape}')"
   ]
  },
  {
   "cell_type": "code",
   "execution_count": 52,
   "id": "082e6e82",
   "metadata": {},
   "outputs": [
    {
     "name": "stdout",
     "output_type": "stream",
     "text": [
      "Original Array = \n",
      "[1 2 3 4 5 6]\n",
      "arr1.shae = (6,)\n",
      "Resized Array = \n",
      "[[1 2 3]\n",
      " [4 5 6]]\n",
      "arr2.shape = (2, 3)\n"
     ]
    }
   ],
   "source": [
    "# Changing the dimension of array using reshape()\n",
    "arr2 = np.resize(arr1, (2,3))\n",
    "print(f'Original Array = \\n{arr1}\\narr1.shae = {arr1.shape}\\nResized Array = \\n{arr2}\\narr2.shape = {arr2.shape}')"
   ]
  },
  {
   "cell_type": "code",
   "execution_count": 54,
   "id": "be8e2724",
   "metadata": {},
   "outputs": [
    {
     "name": "stdout",
     "output_type": "stream",
     "text": [
      "Original Array = [1 2 3 4 5 6]\n",
      "Reshaped Array =\n",
      "Array1 Shape = (6,)\n",
      "[[807   2   3]\n",
      " [  4   5   6]]\n",
      "Array2 Shape = (2, 3)\n",
      "id(arr1) = 2618979964208\n",
      "id(arr2) = 2618979716912\n"
     ]
    }
   ],
   "source": [
    "# make change in one of the arrays, the change is reflected in both\n",
    "arr2[0][0] = 807\n",
    "print(f'Original Array = {arr1}\\nReshaped Array =\\nArray1 Shape = {arr1.shape}\\n{arr2}\\nArray2 Shape = {arr2.shape}\\nid(arr1) = {id(arr1)}\\nid(arr2) = {id(arr2)}')"
   ]
  },
  {
   "cell_type": "code",
   "execution_count": null,
   "id": "e27cac72",
   "metadata": {},
   "outputs": [],
   "source": []
  },
  {
   "cell_type": "markdown",
   "id": "e25cd621",
   "metadata": {},
   "source": [
    "**Example 2:** The `np.resize()` method allows you to resize an array to a new array having larger size than the original array. In this scenario, it fills the remaining array with repeated copies of original array elements"
   ]
  },
  {
   "cell_type": "code",
   "execution_count": 56,
   "id": "3750ded8",
   "metadata": {},
   "outputs": [
    {
     "name": "stdout",
     "output_type": "stream",
     "text": [
      "Original Array = \n",
      "[1 2 3 4 5 6]\n",
      "arr1.shape = (6,)\n"
     ]
    }
   ],
   "source": [
    "arr1 = np.array([1, 2, 3, 4, 5, 6])\n",
    "print(f'Original Array = \\n{arr1}\\narr1.shape = {arr1.shape}')"
   ]
  },
  {
   "cell_type": "code",
   "execution_count": 58,
   "id": "d35012d5",
   "metadata": {},
   "outputs": [
    {
     "name": "stdout",
     "output_type": "stream",
     "text": [
      "Original Array = [1 2 3 4 5 6]\n",
      "Reshaped Array =\n",
      "Array1 Shape = (6,)\n",
      "[[1 2 3 4]\n",
      " [5 6 1 2]\n",
      " [3 4 5 6]\n",
      " [1 2 3 4]]\n",
      "Array2 Shape = (4, 4)\n",
      "id(arr1) = 2618979715184\n",
      "id(arr2) = 2618980782736\n"
     ]
    }
   ],
   "source": [
    "arr2 = np.resize(arr1, (4,4))\n",
    "print(f'Original Array = {arr1}\\nReshaped Array =\\nArray1 Shape = {arr1.shape}\\n{arr2}\\nArray2 Shape = {arr2.shape}\\nid(arr1) = {id(arr1)}\\nid(arr2) = {id(arr2)}')"
   ]
  },
  {
   "cell_type": "code",
   "execution_count": null,
   "id": "c5f16eda",
   "metadata": {},
   "outputs": [],
   "source": []
  },
  {
   "cell_type": "markdown",
   "id": "d8617d75",
   "metadata": {},
   "source": [
    "**Example 3:** The `np.resize()` method allows you to resize an array to a new array having smaller size than the original array."
   ]
  },
  {
   "cell_type": "code",
   "execution_count": 59,
   "id": "b0ef732e",
   "metadata": {},
   "outputs": [
    {
     "name": "stdout",
     "output_type": "stream",
     "text": [
      "Original Array = [1 2 3 4 5 6 7 8]\n",
      "Reshaped Array =\n",
      "Array1 Shape = (8,)\n",
      "[[1 2]\n",
      " [3 4]\n",
      " [5 6]]\n",
      "Array2 Shape = (3, 2)\n",
      "id(arr1) = 2618980783024\n",
      "id(arr2) = 2618979715184\n"
     ]
    }
   ],
   "source": [
    "arr1 = np.array([1, 2, 3, 4, 5, 6, 7, 8])\n",
    "arr2 = np.resize(arr1, (3, 2))\n",
    "print(f'Original Array = {arr1}\\nReshaped Array =\\nArray1 Shape = {arr1.shape}\\n{arr2}\\nArray2 Shape = {arr2.shape}\\nid(arr1) = {id(arr1)}\\nid(arr2) = {id(arr2)}')"
   ]
  },
  {
   "cell_type": "code",
   "execution_count": null,
   "id": "39d0ea41",
   "metadata": {},
   "outputs": [],
   "source": []
  },
  {
   "cell_type": "markdown",
   "id": "99edbb65",
   "metadata": {},
   "source": [
    "### d. The `ndarray.transpose()` Method\n",
    "```\n",
    "ndarray.transpose()\n",
    "```\n",
    "- It has no impact on 1-D array\n",
    "- For a 2-D array, this is a standard matrix transpose.\n",
    "- For an n-D array, if axes are given, their order indicates how the axes are permuted\n",
    "- Returns a view of the array with axes transposed, so this is an in-place operation."
   ]
  },
  {
   "cell_type": "code",
   "execution_count": 61,
   "id": "2430ef53",
   "metadata": {},
   "outputs": [
    {
     "name": "stdout",
     "output_type": "stream",
     "text": [
      "Original array = \n",
      "[[ 3  4  5  7]\n",
      " [21 34 56 88]]\n",
      "arr1.shape = (2, 4)\n",
      "Transposed array =\n",
      "[[ 3 21]\n",
      " [ 4 34]\n",
      " [ 5 56]\n",
      " [ 7 88]]\n",
      "arr2.shape=(4, 2)\n"
     ]
    }
   ],
   "source": [
    "arr1 = np.array([[3,4,5,7], [21,34,56,88]])\n",
    "\n",
    "#Reshape array using transpose method\n",
    "arr2 = arr1.transpose()\n",
    "print(f'Original array = \\n{arr1}\\narr1.shape = {arr1.shape}\\nTransposed array =\\n{arr2}\\narr2.shape={arr2.shape}')"
   ]
  },
  {
   "cell_type": "code",
   "execution_count": null,
   "id": "b4d0cd80",
   "metadata": {},
   "outputs": [],
   "source": []
  },
  {
   "cell_type": "markdown",
   "id": "35fa6aff",
   "metadata": {},
   "source": [
    "### e. The `np.swapaxes()` Method\n",
    "- The `np.swapaxes()` method is used to interchange two axes of an array.\n",
    "```\n",
    "np.swapaxes(arr, axis1, axis2)\n",
    "```\n",
    "    - `arr`: Input array whose axes are to be swapped\n",
    "    - `axis1`: First axis\n",
    "    - `axis2`: Second axis\n",
    "\n",
    "- For NumPy >= 1.10.0, if `arr` is an ndarray, then a view of `arr` is returned."
   ]
  },
  {
   "cell_type": "markdown",
   "id": "9d816af4",
   "metadata": {},
   "source": [
    "**Example 1:** Swapping axes of a 2-D array"
   ]
  },
  {
   "cell_type": "code",
   "execution_count": 65,
   "id": "afefb6e3",
   "metadata": {},
   "outputs": [
    {
     "name": "stdout",
     "output_type": "stream",
     "text": [
      "Original array = \n",
      "[[0 1 2 3]\n",
      " [4 5 6 7]]\n",
      "arr1.shape = (2, 4)\n",
      "\n",
      "New arry = \n",
      "[[0 4]\n",
      " [1 5]\n",
      " [2 6]\n",
      " [3 7]]\n",
      "arr2.shape = (4, 2)\n"
     ]
    }
   ],
   "source": [
    "arr1 = np.arange(8).reshape(2,4)\n",
    "arr2 = np.swapaxes(arr1,0,1)\n",
    "print(f'Original array = \\n{arr1}\\narr1.shape = {arr1.shape}')\n",
    "print(f'\\nNew arry = \\n{arr2}\\narr2.shape = {arr2.shape}')"
   ]
  },
  {
   "cell_type": "code",
   "execution_count": 66,
   "id": "a15f00a4",
   "metadata": {},
   "outputs": [
    {
     "name": "stdout",
     "output_type": "stream",
     "text": [
      "\n",
      "Original Array: \n",
      " [[ 0  1  2  3]\n",
      " [ 4 99  6  7]]\n",
      "\n",
      "New Array: \n",
      " [[ 0  4]\n",
      " [ 1 99]\n",
      " [ 2  6]\n",
      " [ 3  7]]\n"
     ]
    }
   ],
   "source": [
    "## make change in one of the arrays, the change is reflected in both\n",
    "arr2[1][1] = 99\n",
    "print(\"\\nOriginal Array: \\n\", arr1)\n",
    "print(\"\\nNew Array: \\n\", arr2)"
   ]
  },
  {
   "cell_type": "markdown",
   "id": "e6738bdf",
   "metadata": {},
   "source": [
    "**Example 2:** Swapping axes of a 3-D array"
   ]
  },
  {
   "cell_type": "code",
   "execution_count": 71,
   "id": "8aa2d13d",
   "metadata": {},
   "outputs": [
    {
     "name": "stdout",
     "output_type": "stream",
     "text": [
      "Original array = \n",
      "[[[0 1]\n",
      "  [2 3]]\n",
      "\n",
      " [[4 5]\n",
      "  [6 7]]]\n",
      "arr1.shape = (2, 2, 2)\n"
     ]
    }
   ],
   "source": [
    "arr1 = np.arange(8).reshape(2,2,2)\n",
    "print(f'Original array = \\n{arr1}\\narr1.shape = {arr1.shape}')"
   ]
  },
  {
   "cell_type": "code",
   "execution_count": 72,
   "id": "b92db857",
   "metadata": {},
   "outputs": [
    {
     "name": "stdout",
     "output_type": "stream",
     "text": [
      "\n",
      "New arry = \n",
      "[[[0 2]\n",
      "  [1 3]]\n",
      "\n",
      " [[4 6]\n",
      "  [5 7]]]\n",
      "arr2.shape = (2, 2, 2)\n"
     ]
    }
   ],
   "source": [
    "#Reshape array using swapaxes() method\n",
    "arr2 = np.swapaxes(arr1, 1, 2)\n",
    "print(f'\\nNew arry = \\n{arr2}\\narr2.shape = {arr2.shape}')"
   ]
  },
  {
   "cell_type": "code",
   "execution_count": null,
   "id": "ac7b4472",
   "metadata": {},
   "outputs": [],
   "source": []
  },
  {
   "cell_type": "markdown",
   "id": "1e638f82",
   "metadata": {},
   "source": [
    "### f. The `ndarray.flatten()` Method\n",
    "- The `ndarry.flatten()` method is used to flatten a Multi-Dimensional array/matrix to one dimension. \n",
    "```\n",
    "ndarray.flatten(order= 'C')\n",
    "```\n",
    "   - Default order is 'C’, means to flatten in row-major order. \n",
    "   - You can pass ‘F’ (FORTRAN) means to flatten in column-major.\n",
    "- Returns a copy of the array, flattened to one dimension."
   ]
  },
  {
   "cell_type": "code",
   "execution_count": 75,
   "id": "2918b4fc",
   "metadata": {},
   "outputs": [
    {
     "name": "stdout",
     "output_type": "stream",
     "text": [
      "Original array = \n",
      "[[ 0  1  2  3]\n",
      " [ 4  5  6  7]\n",
      " [ 8  9 10 11]]\n",
      "\n",
      "Dimensions = 2\n",
      "Flattened array in a row major order\n",
      " = \n",
      "[ 0  1  2  3  4  5  6  7  8  9 10 11]\n",
      "Dimensions = 1\n",
      "Flattened array in a row major order\n",
      " = \n",
      "[ 0  4  8  1  5  9  2  6 10  3  7 11]\n",
      "Dimensions = 1\n"
     ]
    }
   ],
   "source": [
    "arr1 = np.arange(12).reshape(3,4)\n",
    "\n",
    "# flatten the array in row-major order\n",
    "arr2 = arr1.flatten(order = 'C')\n",
    "# flatten the array in column-major order\n",
    "arr3 = arr1.flatten(order = 'F')\n",
    "print(f'Original array = \\n{arr1}\\n\\nDimensions = {arr1.ndim}')\n",
    "print(f'Flattened array in a row major order\\n = \\n{arr2}\\nDimensions = {arr2.ndim}')\n",
    "print(f'Flattened array in a row major order\\n = \\n{arr3}\\nDimensions = {arr3.ndim}')"
   ]
  },
  {
   "cell_type": "code",
   "execution_count": null,
   "id": "eef1e1d4",
   "metadata": {},
   "outputs": [],
   "source": []
  },
  {
   "cell_type": "markdown",
   "id": "a8a0a30e",
   "metadata": {},
   "source": [
    "## 3. Sorting Arrays using `np.sort()` Method\n",
    "- The `np.sort()` method returns a sorted copy of an array.\n",
    "- If axis is not specified, values can be of any shape and will be flattened before use\n",
    "```\n",
    "np.sort(arr1, axis=-1, kind=None)\n",
    "```\n",
    "    - `arr` : Array to be sorted.\n",
    "    - `axis` : Axis along which we need array to be started. The default is -1, which sorts along the last axis. 0 stands for sorting along first axis. If metioned None, the array is flattened before sorting.\n",
    "    - `kind` : default is 'quicksort', others can be 'mergesort', 'heapsort'"
   ]
  },
  {
   "cell_type": "markdown",
   "id": "bea1826c",
   "metadata": {},
   "source": [
    "### a. Sorting a 1-D Array"
   ]
  },
  {
   "cell_type": "code",
   "execution_count": 78,
   "id": "30e19974",
   "metadata": {},
   "outputs": [
    {
     "name": "stdout",
     "output_type": "stream",
     "text": [
      "arr1 = [72 70  3 50 86]\n",
      "arr2 = [ 3 50 70 72 86]\n"
     ]
    }
   ],
   "source": [
    "arr1 = np.random.randint(low=1, high=100, size = 5)\n",
    "arr2 = np.sort(arr1)\n",
    "print(f'arr1 = {arr1}\\narr2 = {arr2}')"
   ]
  },
  {
   "cell_type": "code",
   "execution_count": null,
   "id": "c48008e4",
   "metadata": {},
   "outputs": [],
   "source": []
  },
  {
   "cell_type": "markdown",
   "id": "c046460a",
   "metadata": {},
   "source": [
    "### b. Sorting a 2-D Array"
   ]
  },
  {
   "cell_type": "markdown",
   "id": "21cfd83d",
   "metadata": {},
   "source": [
    "**Example 1:** Sorting a 2-D array with `axis=None`, array is flattened before sorting"
   ]
  },
  {
   "cell_type": "code",
   "execution_count": 82,
   "id": "ce7830c4",
   "metadata": {},
   "outputs": [
    {
     "name": "stdout",
     "output_type": "stream",
     "text": [
      "arr1 = \n",
      "[[13 78  2]\n",
      " [29 83 69]\n",
      " [15  3  1]]\n",
      "\n",
      "Sorting along axis = None\n",
      "arr2 = \n",
      "[ 1  2  3 13 15 29 69 78 83]\n"
     ]
    }
   ],
   "source": [
    "arr1 = np.random.randint(low=1, high=100, size = (3,3))\n",
    "arr2 = np.sort(arr1, axis=None)\n",
    "print(f'arr1 = \\n{arr1}\\n\\nSorting along axis = None\\narr2 = \\n{arr2}')"
   ]
  },
  {
   "cell_type": "code",
   "execution_count": 83,
   "id": "5f6e943a",
   "metadata": {},
   "outputs": [
    {
     "name": "stdout",
     "output_type": "stream",
     "text": [
      "arr1 = \n",
      "[[98 52 18]\n",
      " [80 86 52]\n",
      " [46 44 79]]\n",
      "\n",
      "Sorting along axis = 0\n",
      "arr2 = \n",
      "[[46 44 18]\n",
      " [80 52 52]\n",
      " [98 86 79]]\n"
     ]
    }
   ],
   "source": [
    "arr1 = np.random.randint(low=1, high=100, size = (3,3))\n",
    "arr2 = np.sort(arr1, axis=0)\n",
    "print(f'arr1 = \\n{arr1}\\n\\nSorting along axis = 0\\narr2 = \\n{arr2}')"
   ]
  },
  {
   "cell_type": "code",
   "execution_count": null,
   "id": "582600fa",
   "metadata": {},
   "outputs": [],
   "source": []
  },
  {
   "cell_type": "code",
   "execution_count": 84,
   "id": "1d5c1bbd",
   "metadata": {},
   "outputs": [
    {
     "name": "stdout",
     "output_type": "stream",
     "text": [
      "arr1 = \n",
      "[[39 57 38]\n",
      " [73 54 87]\n",
      " [98 35 80]]\n",
      "\n",
      "Sorting along axis = 1\n",
      "arr2 = \n",
      "[[38 39 57]\n",
      " [54 73 87]\n",
      " [35 80 98]]\n"
     ]
    }
   ],
   "source": [
    "arr1 = np.random.randint(low=1, high=100, size = (3,3))\n",
    "arr2 = np.sort(arr1, axis=1)\n",
    "print(f'arr1 = \\n{arr1}\\n\\nSorting along axis = 1\\narr2 = \\n{arr2}')"
   ]
  },
  {
   "cell_type": "code",
   "execution_count": null,
   "id": "3603dcb1",
   "metadata": {},
   "outputs": [],
   "source": []
  },
  {
   "cell_type": "markdown",
   "id": "41e12483",
   "metadata": {},
   "source": [
    "## 4. Iterating numPy Arrays\n",
    "- Iterating over `ndarrays` is very similar to iterating over regular python arrays. \n",
    "- Remember, iterating over multidimensional arrays is done with respect to the first axis."
   ]
  },
  {
   "cell_type": "code",
   "execution_count": 85,
   "id": "930cc63d",
   "metadata": {},
   "outputs": [
    {
     "data": {
      "text/plain": [
       "array([ 0,  1,  2,  3,  4,  5,  6,  7,  8,  9, 10, 11])"
      ]
     },
     "execution_count": 85,
     "metadata": {},
     "output_type": "execute_result"
    }
   ],
   "source": [
    "arr1 = np.arange(12)\n",
    "arr1"
   ]
  },
  {
   "cell_type": "code",
   "execution_count": 90,
   "id": "61693322",
   "metadata": {},
   "outputs": [
    {
     "name": "stdout",
     "output_type": "stream",
     "text": [
      "0 1 2 3 4 5 6 7 8 9 10 11 "
     ]
    }
   ],
   "source": [
    "for value in arr1:\n",
    "    print(value, end=' ')"
   ]
  },
  {
   "cell_type": "code",
   "execution_count": null,
   "id": "66f8f857",
   "metadata": {},
   "outputs": [],
   "source": []
  },
  {
   "cell_type": "markdown",
   "id": "6f07ee21",
   "metadata": {},
   "source": [
    "**Example 2:** Iterating over 2-D numPy array is done w.r.t first axis, i.e., zero axis (column wise). In simple words in the first iteration you will get the first row, in second iteration you will get the 2nd row and so on..."
   ]
  },
  {
   "cell_type": "code",
   "execution_count": 91,
   "id": "2e6bfb03",
   "metadata": {},
   "outputs": [
    {
     "name": "stdout",
     "output_type": "stream",
     "text": [
      "Iteration\n",
      "[0 1 2]\n",
      "Iteration\n",
      "[3 4 5]\n",
      "Iteration\n",
      "[6 7 8]\n",
      "Iteration\n",
      "[ 9 10 11]\n"
     ]
    }
   ],
   "source": [
    "arr1 = np.arange(12).reshape(4,3)\n",
    "\n",
    "for zero_axis in arr1:\n",
    "    print('Iteration')\n",
    "    print(zero_axis)"
   ]
  },
  {
   "cell_type": "markdown",
   "id": "044768b6",
   "metadata": {},
   "source": [
    "**Example 3:** Iterating over 2-D numPy array"
   ]
  },
  {
   "cell_type": "code",
   "execution_count": 92,
   "id": "899a73a9",
   "metadata": {},
   "outputs": [
    {
     "name": "stdout",
     "output_type": "stream",
     "text": [
      "Iteration\n",
      "[0 1 2 3]\n",
      "Iteration\n",
      "[4 5 6 7]\n"
     ]
    }
   ],
   "source": [
    "arr1 = np.arange(8).reshape(2,4)\n",
    "\n",
    "for zero_axis in arr1:\n",
    "    print('Iteration')\n",
    "    print(zero_axis)"
   ]
  },
  {
   "cell_type": "code",
   "execution_count": null,
   "id": "f1315dd6",
   "metadata": {},
   "outputs": [],
   "source": []
  },
  {
   "cell_type": "markdown",
   "id": "1ad07fe2",
   "metadata": {},
   "source": [
    "**Example 4:** Iterating over 3-D numPy array is done w.r.t first axis, i.e., zero axis (level wise). In simple words in the first iteration you will get the first row, in second iteration you will get the 2nd row and so on..."
   ]
  },
  {
   "cell_type": "code",
   "execution_count": 100,
   "id": "e5208c2d",
   "metadata": {},
   "outputs": [
    {
     "name": "stdout",
     "output_type": "stream",
     "text": [
      "\n",
      "Iteration = \n",
      "[[ 0  1  2  3]\n",
      " [ 4  5  6  7]\n",
      " [ 8  9 10 11]]\n",
      "\n",
      "\n",
      "\n",
      "Iteration = \n",
      "[[12 13 14 15]\n",
      " [16 17 18 19]\n",
      " [20 21 22 23]]\n",
      "\n",
      "\n",
      "[[ 0  1  2  3]\n",
      " [ 4  5  6  7]\n",
      " [ 8  9 10 11]] [[12 13 14 15]\n",
      " [16 17 18 19]\n",
      " [20 21 22 23]] "
     ]
    }
   ],
   "source": [
    "arr1 = np.arange(24).reshape(2,3,4)\n",
    "\n",
    "for zero_axis in arr1:\n",
    "    print(f'\\nIteration = \\n{zero_axis}\\n\\n')\n",
    "    \n",
    "for i in arr1:\n",
    "    print(i, end=' ')"
   ]
  },
  {
   "cell_type": "markdown",
   "id": "6283d7a8",
   "metadata": {},
   "source": [
    "**Example 5:** If you want to iterate on *all* elements in the `ndarray`, simply iterate over the `flat` attribute:"
   ]
  },
  {
   "cell_type": "code",
   "execution_count": 98,
   "id": "0e7b8588",
   "metadata": {},
   "outputs": [
    {
     "name": "stdout",
     "output_type": "stream",
     "text": [
      "0 1 2 3 4 5 6 7 8 9 10 11 "
     ]
    }
   ],
   "source": [
    "arr1 = np.arange(12).reshape(3,4)\n",
    "\n",
    "for i in arr1.flat:\n",
    "    print(i, end = ' ')"
   ]
  },
  {
   "cell_type": "code",
   "execution_count": null,
   "id": "c5991f70",
   "metadata": {},
   "outputs": [],
   "source": []
  }
 ],
 "metadata": {
  "kernelspec": {
   "display_name": "Python 3 (ipykernel)",
   "language": "python",
   "name": "python3"
  },
  "language_info": {
   "codemirror_mode": {
    "name": "ipython",
    "version": 3
   },
   "file_extension": ".py",
   "mimetype": "text/x-python",
   "name": "python",
   "nbconvert_exporter": "python",
   "pygments_lexer": "ipython3",
   "version": "3.11.5"
  }
 },
 "nbformat": 4,
 "nbformat_minor": 5
}
