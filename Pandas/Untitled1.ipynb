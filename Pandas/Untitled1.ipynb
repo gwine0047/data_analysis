{
 "cells": [
  {
   "cell_type": "code",
   "execution_count": null,
   "id": "ef7d7577",
   "metadata": {},
   "outputs": [],
   "source": [
    "..\\..\\..\\data_science\\exercise\\Section-3-Python-for-Data-Scientists/"
   ]
  },
  {
   "cell_type": "markdown",
   "id": "6f660243",
   "metadata": {},
   "source": [
    "---   \n",
    " <img align=\"left\" width=\"75\" height=\"75\"  src=\"https://upload.wikimedia.org/wikipedia/en/c/c8/University_of_the_Punjab_logo.png\"> \n",
    "\n",
    "<h1 align=\"center\">Department of Data Science</h1>\n",
    "<h1 align=\"center\">Course: Tools and Techniques for Data Science</h1>\n",
    "\n",
    "---\n",
    "<h3><div align=\"right\">Instructor: Muhammad Arif Butt, Ph.D.</div></h3>    "
   ]
  },
  {
   "cell_type": "markdown",
   "id": "cd082245",
   "metadata": {},
   "source": [
    "<img align=\"right\" width=\"400\" height=\"400\"  src=\"..\\..\\..\\data_science\\exercise\\Section-3-Python-for-Data-Scientists/images/pandas-apps.png\"  >\n",
    "\n",
    "## _Overview of Pandas Series Data Structure.ipynb_"
   ]
  },
  {
   "cell_type": "markdown",
   "id": "ce627c07",
   "metadata": {},
   "source": [
    "#### Read about Pandas Data: https://pandas.pydata.org/docs/user_guide"
   ]
  },
  {
   "cell_type": "markdown",
   "id": "5efcfc88",
   "metadata": {},
   "source": [
    "## Learning agenda of this notebook\n",
    "\n",
    "1. Overview of Python Pandas library and its data structures\n",
    "2. Creating a Series\n",
    "    - From Python List\n",
    "    - From NumPy Arrays\n",
    "    - From Python Dictionary\n",
    "    - From a scalar value\n",
    "3. Attributes of a Pandas Series\n",
    "4. Understanding Index in a Series and its usage\n",
    "    - Identification\n",
    "    - Selection/Filtering/Subsetting\n",
    "    - Alignment"
   ]
  },
  {
   "cell_type": "code",
   "execution_count": 2,
   "id": "69760abc",
   "metadata": {},
   "outputs": [
    {
     "data": {
      "text/plain": [
       "('2.0.3', ['C:\\\\Users\\\\FashN\\\\anaconda3\\\\Lib\\\\site-packages\\\\pandas'])"
      ]
     },
     "execution_count": 2,
     "metadata": {},
     "output_type": "execute_result"
    }
   ],
   "source": [
    "import pandas as pd\n",
    "pd.__version__, pd.__path__"
   ]
  },
  {
   "cell_type": "code",
   "execution_count": null,
   "id": "6b81cb4b",
   "metadata": {},
   "outputs": [],
   "source": []
  },
  {
   "cell_type": "markdown",
   "id": "df218cca",
   "metadata": {},
   "source": [
    "<img align=\"right\" width=\"500\" height=\"600\"  src=\"..\\..\\..\\data_science\\exercise\\Section-3-Python-for-Data-Scientists/images/series-anatomy.png\"  >\n",
    "\n",
    "## 1. Creating a Series\n",
    "> **A Series is a one-dimensional array capable of holding a sequence of values of any data type (integers, floating point numbers, strings, Python objects etc) which by default have numeric data labels starting from zero. You can imagine a Pandas Series as a column in a spreadsheet or a Pandas Dataframe object.**\n",
    "- To create a Series object you can use `pd.Series()` method\n",
    "\n",
    "**```pd.Series(data, index, dtype, name)```**\n",
    "- Where,\n",
    "   - `data`: can be a Python list, Python dictionary, numPy array, or a scalar value.\n",
    "   - `index`: If you donot pass the index argument, it will default to `np.arrange(n)`. Indices must be hashable (numbers or strings) and have the same length as `data`. Non-unique index values are allowed. Index is used for three purposes:\n",
    "       - Identification.\n",
    "       - Selection.\n",
    "       - Alignment.\n",
    "   - `dtype`: Optionally, you can assign any valid numpy datatype to the series object (np.sctypes). If not specified, this will be inferred from `data`.\n",
    "   - `name`: Optionally, you can assign a name to a series, which becomes attribute of the series object. Moreover, it becomes the column name, if that series object is used to create a dataframe later."
   ]
  },
  {
   "cell_type": "markdown",
   "id": "b32b034c",
   "metadata": {},
   "source": [
    "### a. Creating a Series from Python List"
   ]
  },
  {
   "cell_type": "code",
   "execution_count": 3,
   "id": "d0bb3ac9",
   "metadata": {},
   "outputs": [
    {
     "name": "stdout",
     "output_type": "stream",
     "text": [
      "list = ['Godwin', 'Kelvin', 'Mike', ' ', 'Levin']\n",
      "series = \n",
      "0    Godwin\n",
      "1    Kelvin\n",
      "2      Mike\n",
      "3          \n",
      "4     Levin\n",
      "dtype: object\n",
      "type = <class 'pandas.core.series.Series'>\n"
     ]
    }
   ],
   "source": [
    "import pandas as pd\n",
    "import numpy as np\n",
    "\n",
    "list1 = ['Godwin', 'Kelvin', 'Mike', ' ', 'Levin']\n",
    "# When index is not provided, it creates an index for the data starting from zero and with a step size of one.\n",
    "\n",
    "s = pd.Series(data=list1)\n",
    "print(f'list = {list1}\\nseries = \\n{s}\\ntype = {type(s)}')"
   ]
  },
  {
   "cell_type": "code",
   "execution_count": null,
   "id": "ed0755c8",
   "metadata": {},
   "outputs": [],
   "source": []
  },
  {
   "cell_type": "markdown",
   "id": "19476073",
   "metadata": {},
   "source": [
    ">Observe that output is shown in two columns - the index is on the left and the data value is on the right. If we do not explicitly specify an index for the data values while creating a series, then by default indices range from 0 through N – 1. Here N is the number of data elements."
   ]
  },
  {
   "cell_type": "markdown",
   "id": "99491cf1",
   "metadata": {},
   "source": [
    "**You can explicitly specify the index for a Series object, which can be either int or string type, and must be of the same size as the values in the series. Otherwise, it will raise a ValueError**"
   ]
  },
  {
   "cell_type": "code",
   "execution_count": 4,
   "id": "b1aaf0f5",
   "metadata": {},
   "outputs": [
    {
     "name": "stdout",
     "output_type": "stream",
     "text": [
      "list = ['Godwin', 'Kelvin', 'Mike', ' ', 'Levin']\n",
      "series = \n",
      "MS01    Godwin\n",
      "MS02    Kelvin\n",
      "          Mike\n",
      "MS02          \n",
      "MS03     Levin\n",
      "dtype: object\n",
      "type = <class 'pandas.core.series.Series'>\n"
     ]
    }
   ],
   "source": [
    "list1 = ['Godwin', 'Kelvin', 'Mike', ' ', 'Levin']\n",
    "indices = ['MS01', 'MS02', '', 'MS02', 'MS03'] # non-unique index values are allowed and you can have empty string as index\n",
    "\n",
    "s=pd.Series(data=list1, index=indices)\n",
    "print(f'list = {list1}\\nseries = \\n{s}\\ntype = {type(s)}')"
   ]
  },
  {
   "cell_type": "code",
   "execution_count": 5,
   "id": "e4eea82c",
   "metadata": {},
   "outputs": [
    {
     "data": {
      "text/plain": [
       "'Godwin'"
      ]
     },
     "execution_count": 5,
     "metadata": {},
     "output_type": "execute_result"
    }
   ],
   "source": [
    "s['MS01']"
   ]
  },
  {
   "cell_type": "code",
   "execution_count": 8,
   "id": "e1fabf63",
   "metadata": {},
   "outputs": [
    {
     "data": {
      "text/plain": [
       "MS02    Kelvin\n",
       "MS02          \n",
       "dtype: object"
      ]
     },
     "execution_count": 8,
     "metadata": {},
     "output_type": "execute_result"
    }
   ],
   "source": [
    "s['MS02']"
   ]
  },
  {
   "cell_type": "code",
   "execution_count": null,
   "id": "1e15b652",
   "metadata": {},
   "outputs": [],
   "source": []
  },
  {
   "cell_type": "markdown",
   "id": "60dbc7c4",
   "metadata": {},
   "source": [
    ">Also note that non-unique indices are allowed"
   ]
  },
  {
   "cell_type": "code",
   "execution_count": 9,
   "id": "e11ff8ff",
   "metadata": {},
   "outputs": [
    {
     "name": "stdout",
     "output_type": "stream",
     "text": [
      "list = ['Godwin', 'Kelvin', 'Mike', ' ', 'Levin']\n",
      "series = \n",
      "1.01    Godwin\n",
      "1.02    Kelvin\n",
      "1.03      Mike\n",
      "1.03          \n",
      "1.04     Levin\n",
      "dtype: object\n",
      "type = <class 'pandas.core.series.Series'>\n"
     ]
    }
   ],
   "source": [
    "list1 = ['Godwin', 'Kelvin', 'Mike', ' ', 'Levin']\n",
    "indices = [1.01, 1.02, 1.03, 1.03, 1.04] # non-unique index values are allowed and you can have empty string as index\n",
    "\n",
    "s=pd.Series(data=list1, index=indices)\n",
    "print(f'list = {list1}\\nseries = \\n{s}\\ntype = {type(s)}')"
   ]
  },
  {
   "cell_type": "code",
   "execution_count": 10,
   "id": "91d52b6a",
   "metadata": {},
   "outputs": [
    {
     "data": {
      "text/plain": [
       "1.03    Mike\n",
       "1.03        \n",
       "dtype: object"
      ]
     },
     "execution_count": 10,
     "metadata": {},
     "output_type": "execute_result"
    }
   ],
   "source": [
    "s[1.03]"
   ]
  },
  {
   "cell_type": "code",
   "execution_count": null,
   "id": "4924976b",
   "metadata": {},
   "outputs": [],
   "source": []
  },
  {
   "cell_type": "markdown",
   "id": "954c06e6",
   "metadata": {},
   "source": [
    "**You can create a series with NaN values, using `np.nan`, which is IEEE 754 floating-point representation of Not a Number. NaN values can act as a placeholder for any missing numerical values in the array.**"
   ]
  },
  {
   "cell_type": "code",
   "execution_count": null,
   "id": "8bdd5e6b",
   "metadata": {},
   "outputs": [],
   "source": []
  },
  {
   "cell_type": "code",
   "execution_count": 12,
   "id": "f1119ead",
   "metadata": {},
   "outputs": [
    {
     "name": "stdout",
     "output_type": "stream",
     "text": [
      "list = [1.01, 1.02, 1.03, 1.03, 1.04]\n",
      "series = \n",
      "1.01    1.01\n",
      "1.02    1.02\n",
      "1.03    1.03\n",
      "1.03    1.03\n",
      "1.04    1.04\n",
      "dtype: float64\n",
      "type = <class 'pandas.core.series.Series'>\n"
     ]
    }
   ],
   "source": [
    "list1 = [1.01, 1.02, 1.03, 1.03, 1.04]\n",
    "# indices = [1.01, 1.02, 1.03, 1.03, 1.04] # non-unique index values are allowed and you can have empty string as index\n",
    "\n",
    "s=pd.Series(data=list1, index=indices)\n",
    "print(f'list = {list1}\\nseries = \\n{s}\\ntype = {type(s)}')"
   ]
  },
  {
   "cell_type": "markdown",
   "id": "29a29534",
   "metadata": {},
   "source": [
    "**You can use the `dtype` argument to specify a datatype to the series object.**"
   ]
  },
  {
   "cell_type": "code",
   "execution_count": 18,
   "id": "f320653f",
   "metadata": {},
   "outputs": [
    {
     "name": "stdout",
     "output_type": "stream",
     "text": [
      "list = [101, 102, 103, 103, 104]\n",
      "series = \n",
      "0    101\n",
      "1    102\n",
      "2    103\n",
      "3    103\n",
      "4    104\n",
      "dtype: uint8\n",
      "type = <class 'pandas.core.series.Series'>\n"
     ]
    }
   ],
   "source": [
    "list1 = [101, 102, 103, 103, 104]\n",
    "\n",
    "s=pd.Series(data=list1,dtype=np.uint8)\n",
    "print(f'list = {list1}\\nseries = \\n{s}\\ntype = {type(s)}')"
   ]
  },
  {
   "cell_type": "markdown",
   "id": "fe1b6276",
   "metadata": {},
   "source": [
    "**Optionally, you can assign a name to a series, which becomes attribute of the series object. Moreover, it becomes the column name, if that series object is used to create a dataframe later.**"
   ]
  },
  {
   "cell_type": "code",
   "execution_count": 19,
   "id": "55cfcd37",
   "metadata": {},
   "outputs": [
    {
     "name": "stdout",
     "output_type": "stream",
     "text": [
      "list = ['Godwin', 'Kelvin', 'Mike', ' ', 'Levin']\n",
      "series = \n",
      "MS01    Godwin\n",
      "MS02    Kelvin\n",
      "          Mike\n",
      "MS02          \n",
      "MS03     Levin\n",
      "Name: Friends, dtype: object\n",
      "type = <class 'pandas.core.series.Series'>\n"
     ]
    }
   ],
   "source": [
    "list1 = ['Godwin', 'Kelvin', 'Mike', ' ', 'Levin']\n",
    "indices = ['MS01', 'MS02', '', 'MS02', 'MS03']\n",
    "\n",
    "s=pd.Series(data=list1, index=indices, name='Friends')\n",
    "print(f'list = {list1}\\nseries = \\n{s}\\ntype = {type(s)}')"
   ]
  },
  {
   "cell_type": "code",
   "execution_count": null,
   "id": "8de49ada",
   "metadata": {},
   "outputs": [],
   "source": []
  },
  {
   "cell_type": "markdown",
   "id": "59aa78fa",
   "metadata": {},
   "source": [
    "### b. Creating a Series from NumPy Array"
   ]
  },
  {
   "cell_type": "code",
   "execution_count": 20,
   "id": "b08b50d7",
   "metadata": {},
   "outputs": [
    {
     "name": "stdout",
     "output_type": "stream",
     "text": [
      "series = \n",
      "0    0\n",
      "1    1\n",
      "2    2\n",
      "3    3\n",
      "dtype: int32\n",
      "type = <class 'pandas.core.series.Series'>\n"
     ]
    }
   ],
   "source": [
    "s = pd.Series(data=np.arange(4))\n",
    "print(f'series = \\n{s}\\ntype = {type(s)}')"
   ]
  },
  {
   "cell_type": "code",
   "execution_count": null,
   "id": "9d788c71",
   "metadata": {},
   "outputs": [],
   "source": []
  },
  {
   "cell_type": "code",
   "execution_count": 22,
   "id": "842e619d",
   "metadata": {},
   "outputs": [
    {
     "name": "stdout",
     "output_type": "stream",
     "text": [
      "series = \n",
      "0    22.3\n",
      "1    33.6\n",
      "2    98.0\n",
      "3    44.0\n",
      "dtype: float64\n",
      "type = <class 'pandas.core.series.Series'>\n"
     ]
    }
   ],
   "source": [
    "arr1=np.array([22.3, 33.6,98, 44])\n",
    "\n",
    "s=pd.Series(data=arr1,dtype='float64')\n",
    "print(f'series = \\n{s}\\ntype = {type(s)}')"
   ]
  },
  {
   "cell_type": "markdown",
   "id": "d1116702",
   "metadata": {},
   "source": [
    "### c. Creating a Series from Python Dictionary"
   ]
  },
  {
   "cell_type": "code",
   "execution_count": 23,
   "id": "cc211cde",
   "metadata": {},
   "outputs": [
    {
     "name": "stdout",
     "output_type": "stream",
     "text": [
      "series = \n",
      "name               Arif\n",
      "gender             Male\n",
      "Role            Teacher\n",
      "subject    Data Science\n",
      "dtype: object\n",
      "type = <class 'pandas.core.series.Series'>\n"
     ]
    }
   ],
   "source": [
    "my_dict = {\n",
    "    'name':\"Arif\", \n",
    "    'gender':\"Male\", \n",
    "    'Role':\"Teacher\", \n",
    "    'subject':\"Data Science\"}\n",
    "\n",
    "s=pd.Series(data=my_dict)\n",
    "print(f'series = \\n{s}\\ntype = {type(s)}')"
   ]
  },
  {
   "cell_type": "code",
   "execution_count": null,
   "id": "44a2045a",
   "metadata": {},
   "outputs": [],
   "source": []
  },
  {
   "cell_type": "markdown",
   "id": "3fe0784b",
   "metadata": {},
   "source": [
    "**When you create a series from dictionary, it will automatically take the keys as index and the value as data**"
   ]
  },
  {
   "cell_type": "markdown",
   "id": "1300ba8a",
   "metadata": {},
   "source": [
    "### d. Creating a Series from Scalar value"
   ]
  },
  {
   "cell_type": "code",
   "execution_count": 24,
   "id": "6bb4e20e",
   "metadata": {},
   "outputs": [
    {
     "name": "stdout",
     "output_type": "stream",
     "text": [
      "series = \n",
      "0    25\n",
      "dtype: int64\n",
      "type = <class 'pandas.core.series.Series'>\n"
     ]
    }
   ],
   "source": [
    "s = pd.Series(data=25)\n",
    "print(f'series = \\n{s}\\ntype = {type(s)}')"
   ]
  },
  {
   "cell_type": "markdown",
   "id": "c2ccaab1",
   "metadata": {},
   "source": [
    "### e. Creating an Empty Series"
   ]
  },
  {
   "cell_type": "code",
   "execution_count": 25,
   "id": "7347d39b",
   "metadata": {},
   "outputs": [
    {
     "name": "stdout",
     "output_type": "stream",
     "text": [
      "series = \n",
      "Series([], dtype: object)\n",
      "type = <class 'pandas.core.series.Series'>\n"
     ]
    }
   ],
   "source": [
    "s = pd.Series()\n",
    "print(f'series = \\n{s}\\ntype = {type(s)}')"
   ]
  },
  {
   "cell_type": "code",
   "execution_count": null,
   "id": "d803947f",
   "metadata": {},
   "outputs": [],
   "source": []
  },
  {
   "cell_type": "markdown",
   "id": "40bf5a3d",
   "metadata": {},
   "source": [
    "## 3. Attributes of Panda  Series\n",
    "- We can access certain properties called attributes of a series by using that property with the series name using dot `.` notation"
   ]
  },
  {
   "cell_type": "code",
   "execution_count": 29,
   "id": "c1842daf",
   "metadata": {},
   "outputs": [
    {
     "name": "stdout",
     "output_type": "stream",
     "text": [
      "series = \n",
      "0      Godwin\n",
      "1       Simon\n",
      "2    Blessing\n",
      "3      Gloria\n",
      "4        Baby\n",
      "Name: family, dtype: object\n",
      "type = <class 'pandas.core.series.Series'>\n"
     ]
    }
   ],
   "source": [
    "my_dict = {0: \"Godwin\", 1:\"Simon\", 2:\"Blessing\", 3:\"Gloria\", 4:\"Baby\"}\n",
    "s = pd.Series(my_dict, name='family')\n",
    "print(f'series = \\n{s}\\ntype = {type(s)}')"
   ]
  },
  {
   "cell_type": "code",
   "execution_count": 32,
   "id": "d5647af9",
   "metadata": {},
   "outputs": [
    {
     "name": "stdout",
     "output_type": "stream",
     "text": [
      "s.name = family\n",
      "s.index = Index([0, 1, 2, 3, 4], dtype='int64')\n",
      "s.values = ['Godwin' 'Simon' 'Blessing' 'Gloria' 'Baby']\n",
      "s.hasnan = False\n"
     ]
    }
   ],
   "source": [
    "print(f's.name = {s.name}\\ns.index = {s.index}\\ns.values = {s.values}\\ns.hasnan = {s.hasnans}')"
   ]
  },
  {
   "cell_type": "code",
   "execution_count": 33,
   "id": "23bd735c",
   "metadata": {},
   "outputs": [
    {
     "data": {
      "text/plain": [
       "2    Blessing\n",
       "4        Baby\n",
       "Name: family, dtype: object"
      ]
     },
     "execution_count": 33,
     "metadata": {},
     "output_type": "execute_result"
    }
   ],
   "source": [
    "s.iloc[[2,4]]"
   ]
  },
  {
   "cell_type": "markdown",
   "id": "a4f6aeb8",
   "metadata": {},
   "source": [
    "<img align=\"right\" width=\"300\" height=\"300\"  src=\"..\\..\\..\\data_science\\exercise\\Section-3-Python-for-Data-Scientists/images/series-anatomy.png\"  >\n",
    "\n",
    "### b. First use of Index (Identification)\n",
    "- Since every data value of a series object has an associated index (integer or string). So we can use this index/label to identify or access data value(s)\n",
    "- There are three ways to access elements of a series:\n",
    "    - Using `s[]` operator and specifying the index (integer/label)\n",
    "    - Using `s.loc[]` method and specifying the index (integer/label)\n",
    "    - Using `.iloc[]` method and specify the position (an integer value from 0 to length-1). It also support negative indexing, the last element can be accessed by an index of -1"
   ]
  },
  {
   "cell_type": "markdown",
   "id": "cbf88d74",
   "metadata": {},
   "source": [
    "**Identification using Integer Indices or by Position**"
   ]
  },
  {
   "cell_type": "code",
   "execution_count": null,
   "id": "b77d6950",
   "metadata": {},
   "outputs": [],
   "source": []
  }
 ],
 "metadata": {
  "kernelspec": {
   "display_name": "Python 3 (ipykernel)",
   "language": "python",
   "name": "python3"
  },
  "language_info": {
   "codemirror_mode": {
    "name": "ipython",
    "version": 3
   },
   "file_extension": ".py",
   "mimetype": "text/x-python",
   "name": "python",
   "nbconvert_exporter": "python",
   "pygments_lexer": "ipython3",
   "version": "3.11.5"
  }
 },
 "nbformat": 4,
 "nbformat_minor": 5
}
