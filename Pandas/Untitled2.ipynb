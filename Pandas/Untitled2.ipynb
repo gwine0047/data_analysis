{
 "cells": [
  {
   "cell_type": "markdown",
   "id": "dc2c67a6",
   "metadata": {},
   "source": [
    "---   \n",
    " <img align=\"left\" width=\"75\" height=\"75\"  src=\"https://upload.wikimedia.org/wikipedia/en/c/c8/University_of_the_Punjab_logo.png\"> \n",
    "\n",
    "<h1 align=\"center\">Department of Data Science</h1>\n",
    "<h1 align=\"center\">Course: Tools and Techniques for Data Science</h1>\n",
    "\n",
    "---\n",
    "<h3><div align=\"right\">Instructor: Muhammad Arif Butt, Ph.D.</div></h3>    "
   ]
  },
  {
   "cell_type": "markdown",
   "id": "830fdeae",
   "metadata": {},
   "source": [
    "## _Data Visualization with Matplotlib_\n",
    "\n",
    "**Read Documentation for details:** \n",
    "https://matplotlib.org/stable/users/index.html"
   ]
  },
  {
   "cell_type": "code",
   "execution_count": null,
   "id": "95dda2ff",
   "metadata": {},
   "outputs": [],
   "source": []
  },
  {
   "cell_type": "code",
   "execution_count": 3,
   "id": "8c11ccff",
   "metadata": {},
   "outputs": [
    {
     "data": {
      "text/plain": [
       "'Thu Jan  1 01:00:00 1970'"
      ]
     },
     "execution_count": 3,
     "metadata": {},
     "output_type": "execute_result"
    }
   ],
   "source": [
    "# Showing `+5:00` hours time delta because of local time zone (PKT) differs from UTC with 5 hours\n",
    "digital1 = time.ctime(0)\n",
    "digital1"
   ]
  },
  {
   "cell_type": "code",
   "execution_count": null,
   "id": "685f5323",
   "metadata": {},
   "outputs": [],
   "source": []
  },
  {
   "cell_type": "code",
   "execution_count": 5,
   "id": "3e31238d",
   "metadata": {},
   "outputs": [
    {
     "data": {
      "text/plain": [
       "'Sat Mar  2 17:30:41 2024'"
      ]
     },
     "execution_count": 5,
     "metadata": {},
     "output_type": "execute_result"
    }
   ],
   "source": [
    "#If you pass the current elapsed seconds since UNIX epoch to the `ctime()` method, it returns current datetime\n",
    "secs= time.time()\n",
    "digital2 = time.ctime(secs)\n",
    "digital2"
   ]
  },
  {
   "cell_type": "markdown",
   "id": "1f68a8cd",
   "metadata": {},
   "source": [
    "!date"
   ]
  },
  {
   "cell_type": "code",
   "execution_count": null,
   "id": "6221fa07",
   "metadata": {},
   "outputs": [],
   "source": [
    "hello"
   ]
  },
  {
   "cell_type": "code",
   "execution_count": null,
   "id": "087be70d",
   "metadata": {},
   "outputs": [],
   "source": [
    "print\n"
   ]
  },
  {
   "cell_type": "code",
   "execution_count": null,
   "id": "e0054038",
   "metadata": {},
   "outputs": [],
   "source": []
  }
 ],
 "metadata": {
  "kernelspec": {
   "display_name": "Python 3 (ipykernel)",
   "language": "python",
   "name": "python3"
  },
  "language_info": {
   "codemirror_mode": {
    "name": "ipython",
    "version": 3
   },
   "file_extension": ".py",
   "mimetype": "text/x-python",
   "name": "python",
   "nbconvert_exporter": "python",
   "pygments_lexer": "ipython3",
   "version": "3.11.5"
  }
 },
 "nbformat": 4,
 "nbformat_minor": 5
}
