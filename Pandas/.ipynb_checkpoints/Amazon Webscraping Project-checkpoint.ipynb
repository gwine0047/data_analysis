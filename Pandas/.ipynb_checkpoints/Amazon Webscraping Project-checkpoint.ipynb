{
 "cells": [
  {
   "cell_type": "code",
   "execution_count": 97,
   "id": "bfdabe2e",
   "metadata": {},
   "outputs": [],
   "source": [
    "from bs4 import BeautifulSoup as bs\n",
    "import time\n",
    "import datetime\n",
    "import smtplib\n",
    "import requests"
   ]
  },
  {
   "cell_type": "code",
   "execution_count": 98,
   "id": "96bbfcd1",
   "metadata": {
    "scrolled": false
   },
   "outputs": [],
   "source": [
    "# connect to website\n",
    "url = 'https://www.amazon.com/Funny-Data-Systems-Business-Analyst/dp/B07FNW9FGJ/ref=sr_1_3?crid=EZU0WUZ84ZQP&keywords=data%2Banalyst%2Btshirt&qid=1707304022&sprefix=data%2Banalyst%2Btshirt%2Caps%2C401&sr=8-3'\n",
    "# headers = {\"User-Agent\": \"Mozilla/5.0 (Windows NT 10.0; Win64; x64) AppleWebKit/537.36 (KHTML, like Gecko) Chrome/121.0.0.0 Safari/537.36 Edg/121.0.0.0\"}\n",
    "\n",
    "page = requests.get(url)\n"
   ]
  },
  {
   "cell_type": "code",
   "execution_count": 99,
   "id": "518c860f",
   "metadata": {
    "scrolled": false
   },
   "outputs": [
    {
     "name": "stdout",
     "output_type": "stream",
     "text": [
      "title = \n",
      "                   Funny Got Data MIS Data Systems Business Analyst T-Shirt\n",
      "                  \n"
     ]
    }
   ],
   "source": [
    "\n",
    "soup1 = bs(page.content, \"html.parser\")\n",
    "\n",
    "soup2 = bs(soup1.prettify(), \"html.parser\")\n",
    "\n",
    "title = soup2.find(id=\"productTitle\")\n",
    "if title:\n",
    "    title = title.get_text()\n",
    "    print(f'title = {title}')\n",
    "else:\n",
    "    print(\"Title not found\")\n",
    "\n"
   ]
  },
  {
   "cell_type": "code",
   "execution_count": 100,
   "id": "2d17431e",
   "metadata": {},
   "outputs": [
    {
     "name": "stdout",
     "output_type": "stream",
     "text": [
      "\n",
      "                                 19\n",
      "                                 \n",
      "                                  .\n",
      "                                 \n",
      "\n"
     ]
    }
   ],
   "source": [
    "# price1 = soup2.find(class_=\"a-price-fraction\").get_text()\n",
    "    \n",
    "price = soup2.find(class_=\"a-price-whole\").get_text()\n",
    "\n",
    "print(price)"
   ]
  },
  {
   "cell_type": "code",
   "execution_count": 101,
   "id": "778368ec",
   "metadata": {},
   "outputs": [
    {
     "name": "stdout",
     "output_type": "stream",
     "text": [
      "\n",
      "                                 99\n",
      "                                \n"
     ]
    }
   ],
   "source": [
    "price1.strip()\n",
    "print(price1)"
   ]
  },
  {
   "cell_type": "code",
   "execution_count": 102,
   "id": "d9794285",
   "metadata": {},
   "outputs": [],
   "source": [
    "title = title.strip()\n",
    "price = price.strip()"
   ]
  },
  {
   "cell_type": "code",
   "execution_count": null,
   "id": "d36404e7",
   "metadata": {},
   "outputs": [],
   "source": []
  },
  {
   "cell_type": "code",
   "execution_count": 103,
   "id": "baa6237d",
   "metadata": {},
   "outputs": [
    {
     "name": "stdout",
     "output_type": "stream",
     "text": [
      "Funny Got Data MIS Data Systems Business Analyst T-Shirt\n",
      "19\n",
      "                                 \n",
      "                                  .\n"
     ]
    }
   ],
   "source": [
    "print(title)\n",
    "print(price)"
   ]
  },
  {
   "cell_type": "code",
   "execution_count": 104,
   "id": "2a303b4e",
   "metadata": {},
   "outputs": [
    {
     "name": "stdout",
     "output_type": "stream",
     "text": [
      "2024-02-08\n"
     ]
    }
   ],
   "source": [
    "today = datetime.date.today()\n",
    "print(today)"
   ]
  },
  {
   "cell_type": "code",
   "execution_count": 105,
   "id": "8ab27fb6",
   "metadata": {},
   "outputs": [],
   "source": [
    "import csv\n",
    "header = ['Title', 'Price', 'Date']\n",
    "data = [title, price, today]\n",
    "\n",
    "with open('amazonwebscrapingdataset.csv', 'w', newline='', encoding='UTF8') as f:\n",
    "    writer = csv.writer(f)\n",
    "    writer.writerow(header)\n",
    "    writer.writerow(data)"
   ]
  },
  {
   "cell_type": "code",
   "execution_count": null,
   "id": "4152c015",
   "metadata": {},
   "outputs": [],
   "source": []
  },
  {
   "cell_type": "code",
   "execution_count": 106,
   "id": "58cc5cd4",
   "metadata": {},
   "outputs": [
    {
     "data": {
      "text/html": [
       "<div>\n",
       "<style scoped>\n",
       "    .dataframe tbody tr th:only-of-type {\n",
       "        vertical-align: middle;\n",
       "    }\n",
       "\n",
       "    .dataframe tbody tr th {\n",
       "        vertical-align: top;\n",
       "    }\n",
       "\n",
       "    .dataframe thead th {\n",
       "        text-align: right;\n",
       "    }\n",
       "</style>\n",
       "<table border=\"1\" class=\"dataframe\">\n",
       "  <thead>\n",
       "    <tr style=\"text-align: right;\">\n",
       "      <th></th>\n",
       "      <th>Title</th>\n",
       "      <th>Price</th>\n",
       "      <th>Date</th>\n",
       "    </tr>\n",
       "  </thead>\n",
       "  <tbody>\n",
       "    <tr>\n",
       "      <th>0</th>\n",
       "      <td>Funny Got Data MIS Data Systems Business Analy...</td>\n",
       "      <td>19\\n                                 \\n       ...</td>\n",
       "      <td>2024-02-08</td>\n",
       "    </tr>\n",
       "  </tbody>\n",
       "</table>\n",
       "</div>"
      ],
      "text/plain": [
       "                                               Title  \\\n",
       "0  Funny Got Data MIS Data Systems Business Analy...   \n",
       "\n",
       "                                               Price        Date  \n",
       "0  19\\n                                 \\n       ...  2024-02-08  "
      ]
     },
     "execution_count": 106,
     "metadata": {},
     "output_type": "execute_result"
    }
   ],
   "source": [
    "import pandas as pd\n",
    "df = pd.read_csv(r\"C:\\Users\\FashN\\OneDrive\\Desktop\\CODES\\DATA-ANALYSIS\\data_analysis\\Pandas\\amazonwebscrapingdataset.csv\")\n",
    "df"
   ]
  },
  {
   "cell_type": "code",
   "execution_count": 107,
   "id": "708350cb",
   "metadata": {},
   "outputs": [],
   "source": [
    "# Appending sata\n",
    "with open('amazonwebscrapingdataset.csv', 'a+', newline='', encoding='UTF8') as f:\n",
    "    writer = csv.writer(f)\n",
    "    writer.writerow(data)"
   ]
  },
  {
   "cell_type": "code",
   "execution_count": 111,
   "id": "0db13fcb",
   "metadata": {},
   "outputs": [],
   "source": [
    "def check_price():\n",
    "    # connect to website\n",
    "    url = 'https://www.amazon.com/Funny-Data-Systems-Business-Analyst/dp/B07FNW9FGJ/ref=sr_1_3?crid=EZU0WUZ84ZQP&keywords=data%2Banalyst%2Btshirt&qid=1707304022&sprefix=data%2Banalyst%2Btshirt%2Caps%2C401&sr=8-3'\n",
    "    # headers = {\"User-Agent\": \"Mozilla/5.0 (Windows NT 10.0; Win64; x64) AppleWebKit/537.36 (KHTML, like Gecko) Chrome/121.0.0.0 Safari/537.36 Edg/121.0.0.0\"}\n",
    "\n",
    "    page = requests.get(url)\n",
    "\n",
    "    soup1 = bs(page.content, \"html.parser\")\n",
    "\n",
    "    soup2 = bs(soup1.prettify(), \"html.parser\")\n",
    "\n",
    "    title = soup2.find(id=\"productTitle\")\n",
    "    if title:\n",
    "        title = title.get_text()\n",
    "    else:\n",
    "        print(\"Title not found\")\n",
    "        \n",
    "    price = soup2.find(class_=\"a-price-whole\").get_text()\n",
    "    title = title.strip()\n",
    "    price = price.strip()\n",
    "    \n",
    "    import datetime\n",
    "    today = datetime.date.today()\n",
    "    print(today)\n",
    "    \n",
    "    import csv\n",
    "    header = ['Title', 'Price', 'Date']\n",
    "    data = [title, price, today]\n",
    "    with open('amazonwebscrapingdataset.csv', 'a+', newline='', encoding='UTF8') as f:\n",
    "        writer = csv.writer(f)\n",
    "        writer.writerow(data)"
   ]
  },
  {
   "cell_type": "code",
   "execution_count": 112,
   "id": "65ffe27c",
   "metadata": {},
   "outputs": [
    {
     "name": "stdout",
     "output_type": "stream",
     "text": [
      "2024-02-08\n",
      "2024-02-08\n",
      "2024-02-08\n",
      "2024-02-08\n"
     ]
    },
    {
     "ename": "KeyboardInterrupt",
     "evalue": "",
     "output_type": "error",
     "traceback": [
      "\u001b[1;31m---------------------------------------------------------------------------\u001b[0m",
      "\u001b[1;31mKeyboardInterrupt\u001b[0m                         Traceback (most recent call last)",
      "Cell \u001b[1;32mIn[112], line 3\u001b[0m\n\u001b[0;32m      1\u001b[0m \u001b[38;5;28;01mwhile\u001b[39;00m(\u001b[38;5;28;01mTrue\u001b[39;00m):\n\u001b[0;32m      2\u001b[0m     check_price()\n\u001b[1;32m----> 3\u001b[0m     time\u001b[38;5;241m.\u001b[39msleep(\u001b[38;5;241m5\u001b[39m)\n",
      "\u001b[1;31mKeyboardInterrupt\u001b[0m: "
     ]
    }
   ],
   "source": [
    "while(True):\n",
    "    check_price()\n",
    "    time.sleep(5)"
   ]
  },
  {
   "cell_type": "code",
   "execution_count": 113,
   "id": "87f89f30",
   "metadata": {},
   "outputs": [
    {
     "data": {
      "text/html": [
       "<div>\n",
       "<style scoped>\n",
       "    .dataframe tbody tr th:only-of-type {\n",
       "        vertical-align: middle;\n",
       "    }\n",
       "\n",
       "    .dataframe tbody tr th {\n",
       "        vertical-align: top;\n",
       "    }\n",
       "\n",
       "    .dataframe thead th {\n",
       "        text-align: right;\n",
       "    }\n",
       "</style>\n",
       "<table border=\"1\" class=\"dataframe\">\n",
       "  <thead>\n",
       "    <tr style=\"text-align: right;\">\n",
       "      <th></th>\n",
       "      <th>Title</th>\n",
       "      <th>Price</th>\n",
       "      <th>Date</th>\n",
       "    </tr>\n",
       "  </thead>\n",
       "  <tbody>\n",
       "    <tr>\n",
       "      <th>0</th>\n",
       "      <td>Funny Got Data MIS Data Systems Business Analy...</td>\n",
       "      <td>19\\n                                 \\n       ...</td>\n",
       "      <td>2024-02-08</td>\n",
       "    </tr>\n",
       "    <tr>\n",
       "      <th>1</th>\n",
       "      <td>Funny Got Data MIS Data Systems Business Analy...</td>\n",
       "      <td>19\\n                                 \\n       ...</td>\n",
       "      <td>2024-02-08</td>\n",
       "    </tr>\n",
       "    <tr>\n",
       "      <th>2</th>\n",
       "      <td>Funny Got Data MIS Data Systems Business Analy...</td>\n",
       "      <td>19\\n                                 \\n       ...</td>\n",
       "      <td>2024-02-08</td>\n",
       "    </tr>\n",
       "    <tr>\n",
       "      <th>3</th>\n",
       "      <td>Funny Got Data MIS Data Systems Business Analy...</td>\n",
       "      <td>19\\n                                 \\n       ...</td>\n",
       "      <td>2024-02-08</td>\n",
       "    </tr>\n",
       "    <tr>\n",
       "      <th>4</th>\n",
       "      <td>Funny Got Data MIS Data Systems Business Analy...</td>\n",
       "      <td>19\\n                                 \\n       ...</td>\n",
       "      <td>2024-02-08</td>\n",
       "    </tr>\n",
       "    <tr>\n",
       "      <th>5</th>\n",
       "      <td>Funny Got Data MIS Data Systems Business Analy...</td>\n",
       "      <td>19\\n                                 \\n       ...</td>\n",
       "      <td>2024-02-08</td>\n",
       "    </tr>\n",
       "  </tbody>\n",
       "</table>\n",
       "</div>"
      ],
      "text/plain": [
       "                                               Title  \\\n",
       "0  Funny Got Data MIS Data Systems Business Analy...   \n",
       "1  Funny Got Data MIS Data Systems Business Analy...   \n",
       "2  Funny Got Data MIS Data Systems Business Analy...   \n",
       "3  Funny Got Data MIS Data Systems Business Analy...   \n",
       "4  Funny Got Data MIS Data Systems Business Analy...   \n",
       "5  Funny Got Data MIS Data Systems Business Analy...   \n",
       "\n",
       "                                               Price        Date  \n",
       "0  19\\n                                 \\n       ...  2024-02-08  \n",
       "1  19\\n                                 \\n       ...  2024-02-08  \n",
       "2  19\\n                                 \\n       ...  2024-02-08  \n",
       "3  19\\n                                 \\n       ...  2024-02-08  \n",
       "4  19\\n                                 \\n       ...  2024-02-08  \n",
       "5  19\\n                                 \\n       ...  2024-02-08  "
      ]
     },
     "execution_count": 113,
     "metadata": {},
     "output_type": "execute_result"
    }
   ],
   "source": [
    "import pandas as pd\n",
    "df = pd.read_csv(r\"C:\\Users\\FashN\\OneDrive\\Desktop\\CODES\\DATA-ANALYSIS\\data_analysis\\Pandas\\amazonwebscrapingdataset.csv\")\n",
    "df"
   ]
  },
  {
   "cell_type": "code",
   "execution_count": 114,
   "id": "c05926bd",
   "metadata": {},
   "outputs": [],
   "source": [
    "# def send_mail():\n",
    "#     server = smtplib.SMTP_SSL('smtp.gmail.com', 465)\n",
    "#     sever.ehlo()\n",
    "    \n",
    "#     server.ehlo()\n",
    "#     sever.login('godwindavies2@gmail.com', 'elmagnifico')\n",
    "    \n",
    "#     subject = \"The home you want is below $1.5m! Now is your chance to buy!\"\n",
    "#     body = \"Godwin, this is the moment you have been waiting for. Now is a chance to buy your dream home\"\n",
    "#     msg = f\"Subject: {subject}\\n\\n{body}\"\n",
    "    \n",
    "#     sever.sendmail(\n",
    "#     'godwindavies2@gmail.com',\n",
    "#     msg\n",
    "    \n",
    "#     )"
   ]
  },
  {
   "cell_type": "code",
   "execution_count": null,
   "id": "92837598",
   "metadata": {},
   "outputs": [],
   "source": []
  }
 ],
 "metadata": {
  "kernelspec": {
   "display_name": "Python 3 (ipykernel)",
   "language": "python",
   "name": "python3"
  },
  "language_info": {
   "codemirror_mode": {
    "name": "ipython",
    "version": 3
   },
   "file_extension": ".py",
   "mimetype": "text/x-python",
   "name": "python",
   "nbconvert_exporter": "python",
   "pygments_lexer": "ipython3",
   "version": "3.11.5"
  }
 },
 "nbformat": 4,
 "nbformat_minor": 5
}
