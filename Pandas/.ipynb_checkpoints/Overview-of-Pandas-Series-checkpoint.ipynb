{
 "cells": [
  {
   "cell_type": "code",
   "execution_count": null,
   "id": "f8f0be64",
   "metadata": {},
   "outputs": [],
   "source": [
    "..\\..\\..\\data_science\\exercise\\Section-3-Python-for-Data-Scientists/"
   ]
  },
  {
   "cell_type": "markdown",
   "id": "c5e4ca35",
   "metadata": {},
   "source": [
    "---   \n",
    " <img align=\"left\" width=\"75\" height=\"75\"  src=\"https://upload.wikimedia.org/wikipedia/en/c/c8/University_of_the_Punjab_logo.png\"> \n",
    "\n",
    "<h1 align=\"center\">Department of Data Science</h1>\n",
    "<h1 align=\"center\">Course: Tools and Techniques for Data Science</h1>\n",
    "\n",
    "---\n",
    "<h3><div align=\"right\">Instructor: Muhammad Arif Butt, Ph.D.</div></h3>    "
   ]
  },
  {
   "cell_type": "markdown",
   "id": "45327a88",
   "metadata": {},
   "source": [
    "<img align=\"right\" width=\"400\" height=\"400\"  src=\"..\\..\\..\\data_science\\exercise\\Section-3-Python-for-Data-Scientists/images/pandas-apps.png\"  >\n",
    "\n",
    "## _Overview of Pandas Series Data Structure.ipynb_"
   ]
  },
  {
   "cell_type": "markdown",
   "id": "c5da4ea4",
   "metadata": {},
   "source": [
    "## Learning agenda of this notebook\n",
    "\n",
    "1. Overview of Python Pandas library and its data structures\n",
    "2. Creating a Series\n",
    "    - From Python List\n",
    "    - From NumPy Arrays\n",
    "    - From Python Dictionary\n",
    "    - From a scalar value\n",
    "3. Attributes of a Pandas Series\n",
    "4. Understanding Index in a Series and its usage\n",
    "    - Identification\n",
    "    - Selection/Filtering/Subsetting\n",
    "    - Alignment"
   ]
  },
  {
   "cell_type": "code",
   "execution_count": 1,
   "id": "bad69191",
   "metadata": {},
   "outputs": [
    {
     "data": {
      "text/plain": [
       "('2.0.3', ['C:\\\\Users\\\\FashN\\\\anaconda3\\\\Lib\\\\site-packages\\\\pandas'])"
      ]
     },
     "execution_count": 1,
     "metadata": {},
     "output_type": "execute_result"
    }
   ],
   "source": [
    "import pandas as pd\n",
    "pd.__version__, pd.__path__"
   ]
  },
  {
   "cell_type": "code",
   "execution_count": null,
   "id": "89c4a95f",
   "metadata": {},
   "outputs": [],
   "source": []
  },
  {
   "cell_type": "markdown",
   "id": "526116cb",
   "metadata": {},
   "source": [
    "<img align=\"right\" width=\"500\" height=\"600\"  src=\"..\\..\\..\\data_science\\exercise\\Section-3-Python-for-Data-Scientists/images/series-anatomy.png\"  >\n",
    "\n",
    "## 1. Creating a Series\n",
    "> **A Series is a one-dimensional array capable of holding a sequence of values of any data type (integers, floating point numbers, strings, Python objects etc) which by default have numeric data labels starting from zero. You can imagine a Pandas Series as a column in a spreadsheet or a Pandas Dataframe object.**\n",
    "- To create a Series object you can use `pd.Series()` method\n",
    "\n",
    "**```pd.Series(data, index, dtype, name)```**\n",
    "- Where,\n",
    "   - `data`: can be a Python list, Python dictionary, numPy array, or a scalar value.\n",
    "   - `index`: If you donot pass the index argument, it will default to `np.arrange(n)`. Indices must be hashable (numbers or strings) and have the same length as `data`. Non-unique index values are allowed. Index is used for three purposes:\n",
    "       - Identification.\n",
    "       - Selection.\n",
    "       - Alignment.\n",
    "   - `dtype`: Optionally, you can assign any valid numpy datatype to the series object (np.sctypes). If not specified, this will be inferred from `data`.\n",
    "   - `name`: Optionally, you can assign a name to a series, which becomes attribute of the series object. Moreover, it becomes the column name, if that series object is used to create a dataframe later."
   ]
  },
  {
   "cell_type": "markdown",
   "id": "ee6130d0",
   "metadata": {},
   "source": [
    "### a. Creating a Series from Python List"
   ]
  },
  {
   "cell_type": "code",
   "execution_count": 4,
   "id": "e11b6e06",
   "metadata": {},
   "outputs": [
    {
     "name": "stdout",
     "output_type": "stream",
     "text": [
      "Series : \n",
      "0      Godwin\n",
      "1       Simon\n",
      "2    Blessing\n",
      "3      Gloria\n",
      "4            \n",
      "dtype: object\n",
      "\n",
      "<class 'pandas.core.series.Series'>\n"
     ]
    }
   ],
   "source": [
    "import pandas as pd\n",
    "import numpy as np\n",
    "\n",
    "list1 = ['Godwin', 'Simon', 'Blessing', 'Gloria', '']\n",
    "# When index is not provided, it creates an index for the data starting from zero and with a step size of one.\n",
    "s = pd.Series(data=list1)\n",
    "print(f'Series : \\n{s}\\n\\n{type(s)}')"
   ]
  },
  {
   "cell_type": "markdown",
   "id": "026cc641",
   "metadata": {},
   "source": [
    ">Observe that output is shown in two columns - the index is on the left and the data value is on the right. If we do not explicitly specify an index for the data values while creating a series, then by default indices range from 0 through N – 1. Here N is the number of data elements."
   ]
  },
  {
   "cell_type": "markdown",
   "id": "9658d1cc",
   "metadata": {},
   "source": [
    "**You can explicitly specify the index for a Series object, which can be either int or string type, and must be of the same size as the values in the series. Otherwise, it will raise a ValueError**"
   ]
  },
  {
   "cell_type": "code",
   "execution_count": 6,
   "id": "923b2b2c",
   "metadata": {},
   "outputs": [
    {
     "name": "stdout",
     "output_type": "stream",
     "text": [
      "Series : \n",
      "FS01      Godwin\n",
      "FS02       Simon\n",
      "FS03    Blessing\n",
      "FS04      Gloria\n",
      "FS05            \n",
      "dtype: object\n",
      "\n",
      "<class 'pandas.core.series.Series'>\n"
     ]
    }
   ],
   "source": [
    "list1 = ['Godwin', 'Simon', 'Blessing', 'Gloria', '']\n",
    "indices = ['FS01', 'FS02', 'FS03', 'FS04', 'FS05']\n",
    "\n",
    "s = pd.Series(data=list1, index=indices)\n",
    "print(f'Series : \\n{s}\\n\\n{type(s)}')"
   ]
  },
  {
   "cell_type": "code",
   "execution_count": 7,
   "id": "25bc23e6",
   "metadata": {},
   "outputs": [
    {
     "data": {
      "text/plain": [
       "'Blessing'"
      ]
     },
     "execution_count": 7,
     "metadata": {},
     "output_type": "execute_result"
    }
   ],
   "source": [
    "s['FS03']"
   ]
  },
  {
   "cell_type": "code",
   "execution_count": null,
   "id": "c1465a13",
   "metadata": {},
   "outputs": [],
   "source": []
  },
  {
   "cell_type": "markdown",
   "id": "8cce264b",
   "metadata": {},
   "source": [
    ">Also note that non-unique indices are allowed"
   ]
  },
  {
   "cell_type": "code",
   "execution_count": 11,
   "id": "34fd8b0a",
   "metadata": {},
   "outputs": [
    {
     "name": "stdout",
     "output_type": "stream",
     "text": [
      "Series : \n",
      "2.1      Godwin\n",
      "2.2       Simon\n",
      "2.3    Blessing\n",
      "2.4            \n",
      "2.5      Gloria\n",
      "dtype: object\n",
      "\n",
      "<class 'pandas.core.series.Series'>\n"
     ]
    }
   ],
   "source": [
    "list1 = ['Godwin', 'Simon', 'Blessing', ' ', 'Gloria']\n",
    "indices = [2.1, 2.2, 2.3, 2.4, 2.5]\n",
    "\n",
    "s = pd.Series(data=list1, index=indices)\n",
    "print(f'Series : \\n{s}\\n\\n{type(s)}')"
   ]
  },
  {
   "cell_type": "code",
   "execution_count": null,
   "id": "cc2eb773",
   "metadata": {},
   "outputs": [],
   "source": []
  },
  {
   "cell_type": "markdown",
   "id": "d4ec6d1d",
   "metadata": {},
   "source": [
    "**You can create a series with NaN values, using `np.nan`, which is IEEE 754 floating-point representation of Not a Number. NaN values can act as a placeholder for any missing numerical values in the array.**"
   ]
  },
  {
   "cell_type": "code",
   "execution_count": null,
   "id": "f8a54a5d",
   "metadata": {},
   "outputs": [],
   "source": []
  },
  {
   "cell_type": "code",
   "execution_count": 12,
   "id": "92580e40",
   "metadata": {},
   "outputs": [
    {
     "name": "stdout",
     "output_type": "stream",
     "text": [
      "Series : \n",
      "0      Godwin\n",
      "1       Simon\n",
      "2    Blessing\n",
      "3         NaN\n",
      "4      Gloria\n",
      "dtype: object\n",
      "\n",
      "<class 'pandas.core.series.Series'>\n"
     ]
    }
   ],
   "source": [
    "list1 = ['Godwin', 'Simon', 'Blessing', np.nan, 'Gloria']\n",
    "# indices = [2.1, 2.2, 2.3, 2.4, 2.5]\n",
    "\n",
    "s = pd.Series(data=list1)\n",
    "print(f'Series : \\n{s}\\n\\n{type(s)}')"
   ]
  },
  {
   "cell_type": "markdown",
   "id": "bde86b01",
   "metadata": {},
   "source": [
    ">Also note the `dtype` of the series object is inferred from the data as `float64`"
   ]
  },
  {
   "cell_type": "markdown",
   "id": "61673b77",
   "metadata": {},
   "source": [
    "**You can use the `dtype` argument to specify a datatype to the series object.**"
   ]
  },
  {
   "cell_type": "code",
   "execution_count": 13,
   "id": "968a9cc7",
   "metadata": {},
   "outputs": [
    {
     "name": "stdout",
     "output_type": "stream",
     "text": [
      "Series : \n",
      "0    33\n",
      "1    21\n",
      "2    34\n",
      "3    67\n",
      "dtype: uint8\n",
      "\n",
      "<class 'pandas.core.series.Series'>\n"
     ]
    }
   ],
   "source": [
    "list1 = [33, 21, 34, 67]\n",
    "# indices = [2.1, 2.2, 2.3, 2.4, 2.5]\n",
    "\n",
    "s = pd.Series(data=list1, dtype=np.uint8)\n",
    "print(f'Series : \\n{s}\\n\\n{type(s)}')"
   ]
  },
  {
   "cell_type": "code",
   "execution_count": null,
   "id": "5f01a594",
   "metadata": {},
   "outputs": [],
   "source": []
  },
  {
   "cell_type": "code",
   "execution_count": 14,
   "id": "9010e3ed",
   "metadata": {},
   "outputs": [
    {
     "name": "stdout",
     "output_type": "stream",
     "text": [
      "Series : \n",
      "2.1      Godwin\n",
      "2.2       Simon\n",
      "2.3    Blessing\n",
      "2.4         NaN\n",
      "2.5      Gloria\n",
      "Name: Family, dtype: object\n",
      "\n",
      "<class 'pandas.core.series.Series'>\n"
     ]
    }
   ],
   "source": [
    "list1 = ['Godwin', 'Simon', 'Blessing', np.nan, 'Gloria']\n",
    "indices = [2.1, 2.2, 2.3, 2.4, 2.5]\n",
    "\n",
    "s = pd.Series(data=list1, index=indices, name=\"Family\")\n",
    "print(f'Series : \\n{s}\\n\\n{type(s)}')"
   ]
  },
  {
   "cell_type": "code",
   "execution_count": null,
   "id": "bd843283",
   "metadata": {},
   "outputs": [],
   "source": []
  },
  {
   "cell_type": "markdown",
   "id": "143ddaf4",
   "metadata": {},
   "source": [
    "### b. Creating a Series from NumPy Array"
   ]
  },
  {
   "cell_type": "code",
   "execution_count": 17,
   "id": "339fcba7",
   "metadata": {},
   "outputs": [
    {
     "name": "stdout",
     "output_type": "stream",
     "text": [
      "Series : \n",
      "0     146\n",
      "1      35\n",
      "2      88\n",
      "3      97\n",
      "4      78\n",
      "5      15\n",
      "6      36\n",
      "7      31\n",
      "8      36\n",
      "9     175\n",
      "10     98\n",
      "11     88\n",
      "12     47\n",
      "13    170\n",
      "14     23\n",
      "15     44\n",
      "16    150\n",
      "17     79\n",
      "18    186\n",
      "19     16\n",
      "dtype: int32\n",
      "\n",
      "<class 'pandas.core.series.Series'>\n"
     ]
    }
   ],
   "source": [
    "s = pd.Series(data=np.random.randint(low=5, high=200, size=20))\n",
    "print(f'Series : \\n{s}\\n\\n{type(s)}')"
   ]
  },
  {
   "cell_type": "code",
   "execution_count": null,
   "id": "64d6c60f",
   "metadata": {},
   "outputs": [],
   "source": []
  },
  {
   "cell_type": "code",
   "execution_count": 18,
   "id": "74158fce",
   "metadata": {},
   "outputs": [
    {
     "name": "stdout",
     "output_type": "stream",
     "text": [
      "Series : \n",
      "0     22.30\n",
      "1     44.40\n",
      "2      5.90\n",
      "3    112.21\n",
      "dtype: float64\n",
      "\n",
      "<class 'pandas.core.series.Series'>\n"
     ]
    }
   ],
   "source": [
    "arr1 = np.array([22.3, 44.4,  5.9, 112.21])\n",
    "s = pd.Series(data=arr1, dtype='float64')\n",
    "\n",
    "print(f'Series : \\n{s}\\n\\n{type(s)}')"
   ]
  },
  {
   "cell_type": "code",
   "execution_count": null,
   "id": "e3060e35",
   "metadata": {},
   "outputs": [],
   "source": []
  },
  {
   "cell_type": "markdown",
   "id": "d872ffd5",
   "metadata": {},
   "source": [
    "### c. Creating a Series from Python Dictionary"
   ]
  },
  {
   "cell_type": "code",
   "execution_count": 19,
   "id": "e29698cc",
   "metadata": {},
   "outputs": [
    {
     "name": "stdout",
     "output_type": "stream",
     "text": [
      "Series : \n",
      "name       Okoeguale Godwin\n",
      "gender                 Male\n",
      "Role             Junior Dev\n",
      "subject        Data Science\n",
      "dtype: object\n",
      "\n",
      "<class 'pandas.core.series.Series'>\n"
     ]
    }
   ],
   "source": [
    "details = {\n",
    "    'name' : 'Okoeguale Godwin',\n",
    "    'gender' : 'Male',\n",
    "    'Role' : 'Junior Dev',\n",
    "    'subject' : 'Data Science'\n",
    "}\n",
    "\n",
    "s = pd.Series(data=details)\n",
    "print(f'Series : \\n{s}\\n\\n{type(s)}')"
   ]
  },
  {
   "cell_type": "code",
   "execution_count": null,
   "id": "df7d2957",
   "metadata": {},
   "outputs": [],
   "source": []
  },
  {
   "cell_type": "markdown",
   "id": "f47e4f18",
   "metadata": {},
   "source": [
    "**When you create a series from dictionary, it will automatically take the keys as index and the value as data**"
   ]
  },
  {
   "cell_type": "markdown",
   "id": "4cae6999",
   "metadata": {},
   "source": []
  },
  {
   "cell_type": "markdown",
   "id": "7b3c0299",
   "metadata": {},
   "source": [
    "### d. Creating a Series from Scalar value"
   ]
  },
  {
   "cell_type": "code",
   "execution_count": 22,
   "id": "e5530848",
   "metadata": {},
   "outputs": [
    {
     "name": "stdout",
     "output_type": "stream",
     "text": [
      "Series : \n",
      "0    2001\n",
      "Name: Year, dtype: uint16\n",
      "\n",
      "<class 'pandas.core.series.Series'>\n"
     ]
    }
   ],
   "source": [
    "s = pd.Series(data=2001, name='Year', dtype='uint16')\n",
    "print(f'Series : \\n{s}\\n\\n{type(s)}')"
   ]
  },
  {
   "cell_type": "code",
   "execution_count": null,
   "id": "8dbd15d6",
   "metadata": {},
   "outputs": [],
   "source": []
  },
  {
   "cell_type": "markdown",
   "id": "46b7ef70",
   "metadata": {},
   "source": [
    "### e. Creating an Empty Series"
   ]
  },
  {
   "cell_type": "code",
   "execution_count": 23,
   "id": "66e9b824",
   "metadata": {},
   "outputs": [
    {
     "name": "stdout",
     "output_type": "stream",
     "text": [
      "Series : \n",
      "Series([], dtype: object)\n",
      "\n",
      "<class 'pandas.core.series.Series'>\n"
     ]
    }
   ],
   "source": [
    "# Need to pass atleast `dtype` else you get a warning\n",
    "s = pd.Series()\n",
    "print(f'Series : \\n{s}\\n\\n{type(s)}')"
   ]
  },
  {
   "cell_type": "code",
   "execution_count": null,
   "id": "714bd11b",
   "metadata": {},
   "outputs": [],
   "source": []
  },
  {
   "cell_type": "markdown",
   "id": "d262b276",
   "metadata": {},
   "source": [
    "## 3. Attributes of Panda  Series\n",
    "- We can access certain properties called attributes of a series by using that property with the series name using dot `.` notation"
   ]
  },
  {
   "cell_type": "code",
   "execution_count": 25,
   "id": "8a5efeaf",
   "metadata": {},
   "outputs": [
    {
     "name": "stdout",
     "output_type": "stream",
     "text": [
      "Series : \n",
      "0       Simon\n",
      "1         NaN\n",
      "2      Godwin\n",
      "3    Abimbola\n",
      "4     Phillip\n",
      "Name: LECTURERS, dtype: object\n",
      "\n",
      "<class 'pandas.core.series.Series'>\n"
     ]
    }
   ],
   "source": [
    "lecturers = {0:'Simon', 1:np.nan, 2:'Godwin', 3:'Abimbola', 4:'Phillip'}\n",
    "s = pd.Series(data=lecturers, name=\"LECTURERS\")\n",
    "print(f'Series : \\n{s}\\n\\n{type(s)}')"
   ]
  },
  {
   "cell_type": "code",
   "execution_count": 26,
   "id": "1e793c29",
   "metadata": {},
   "outputs": [
    {
     "data": {
      "text/plain": [
       "'LECTURERS'"
      ]
     },
     "execution_count": 26,
     "metadata": {},
     "output_type": "execute_result"
    }
   ],
   "source": [
    "# `name` attribute of a series object return the name of the series object\n",
    "s.name"
   ]
  },
  {
   "cell_type": "code",
   "execution_count": 27,
   "id": "c1e2e294",
   "metadata": {},
   "outputs": [
    {
     "data": {
      "text/plain": [
       "Index([0, 1, 2, 3, 4], dtype='int64')"
      ]
     },
     "execution_count": 27,
     "metadata": {},
     "output_type": "execute_result"
    }
   ],
   "source": [
    "# `index` attribute of a series object return the list of indices and its datatype\n",
    "s.index"
   ]
  },
  {
   "cell_type": "code",
   "execution_count": null,
   "id": "91edae72",
   "metadata": {},
   "outputs": [],
   "source": []
  },
  {
   "cell_type": "code",
   "execution_count": null,
   "id": "d41df754",
   "metadata": {},
   "outputs": [],
   "source": []
  },
  {
   "cell_type": "code",
   "execution_count": null,
   "id": "77df240d",
   "metadata": {},
   "outputs": [],
   "source": [
    "\n"
   ]
  },
  {
   "cell_type": "code",
   "execution_count": null,
   "id": "11a37c0c",
   "metadata": {},
   "outputs": [],
   "source": []
  },
  {
   "cell_type": "code",
   "execution_count": 33,
   "id": "cd56c8ef",
   "metadata": {},
   "outputs": [
    {
     "name": "stdout",
     "output_type": "stream",
     "text": [
      "dtype : object\n",
      "shape : (5,)\n",
      "bytes = 40\n",
      "values: ['Simon' nan 'Godwin' 'Abimbola' 'Phillip']\n",
      "index : Index([0, 1, 2, 3, 4], dtype='int64')\n",
      "name : LECTURERS\n",
      "ndim : 1\n",
      "size : 5\n"
     ]
    }
   ],
   "source": [
    "# `nbytes` attribute of a series object return the number of bytes of underlying data (object data type take 8 bytes)\n",
    "# `shape` attribute of a series object return a tuple of shape of underlying data\n",
    "# `dtype` attribute of a series object return the type of underlying data\n",
    "# `hasnans` attribute of a series object return true if there are NaN values in the data\n",
    "# `ndim` attribute of a series object return number of dimensions of underlying data\n",
    "# `size` attribute of a series object return number of elements in the underlying data\n",
    "\n",
    "print(f'dtype : {s.dtype}\\nshape : {s.shape}\\nbytes = {s.nbytes}\\nvalues: {s.values}\\nindex : {s.index}\\nname : {s.name}\\nndim : {s.ndim}\\nsize : {s.size}')"
   ]
  },
  {
   "cell_type": "code",
   "execution_count": null,
   "id": "7257f32d",
   "metadata": {},
   "outputs": [],
   "source": []
  },
  {
   "cell_type": "markdown",
   "id": "09ced08f",
   "metadata": {},
   "source": [
    "<img align=\"right\" width=\"500\" height=\"500\"  src=\"..\\..\\..\\data_science\\exercise\\Section-3-Python-for-Data-Scientists/images/series-anatomy.png\"  >\n",
    "\n",
    "## 4. Understanding Index in a Series\n",
    "- Every series object has an index associated with every item. \n",
    "- The Pandas series object supports both integer-based (default) and label/string-based indexing and provides a host of methods for performing operations involving the index.\n",
    "<br><br>\n",
    "    - When index is unique, Pandas use a hashtable to map `key to value` and searching can be done in O(1) time. \n",
    "    - When index is non-unique but sorted, Pandas use binary search, which takes logarithmic time O(logN).\n",
    "    - When index is randomly ordered, searching takes linear time, as Pandas need to check all the keys in the index O(N).<br><br>\n",
    "- Index in series object is used for three purposes:\n",
    "    - Identification\n",
    "    - Selection/Filtering/Subsetting\n",
    "    - Alignment <br><br>"
   ]
  },
  {
   "cell_type": "code",
   "execution_count": null,
   "id": "6589b887",
   "metadata": {},
   "outputs": [],
   "source": []
  },
  {
   "cell_type": "markdown",
   "id": "4f74a74e",
   "metadata": {},
   "source": [
    "### a. Changing Index of a Series Object\n",
    "- In above examples, we have seen that\n",
    "    - If we create a Series object from dictionary, the keys of dictionray become the index \n",
    "    - If we create a Series object from a list or numPy array, the index defaults to integers from 0, 1, 2, ...\n",
    "    - Last but not the least, we can assign the indices of our own choice, which can be integers or strings\n",
    "- Let us see as how we can change the indices of a series object after creation"
   ]
  },
  {
   "cell_type": "code",
   "execution_count": null,
   "id": "3b0c7603",
   "metadata": {},
   "outputs": [],
   "source": []
  },
  {
   "cell_type": "code",
   "execution_count": 35,
   "id": "c55d3744",
   "metadata": {},
   "outputs": [
    {
     "name": "stdout",
     "output_type": "stream",
     "text": [
      "Series : \n",
      "0      Godwin\n",
      "1       Simon\n",
      "2    Blessing\n",
      "3      Gloria\n",
      "4            \n",
      "dtype: object\n",
      "\n",
      "RangeIndex(start=0, stop=5, step=1)\n"
     ]
    }
   ],
   "source": [
    "list1 = ['Godwin', 'Simon', 'Blessing', 'Gloria', '']\n",
    "# indices = ['FS01', 'FS02', 'FS03', 'FS04', 'FS05']\n",
    "\n",
    "s = pd.Series(data=list1)\n",
    "print(f'Series : \\n{s}\\n\\n{s.index}')"
   ]
  },
  {
   "cell_type": "markdown",
   "id": "c410420d",
   "metadata": {},
   "source": [
    ">Index attribute of series object shows that index range for this series is from (0-4) with step value of 1"
   ]
  },
  {
   "cell_type": "markdown",
   "id": "af3c932d",
   "metadata": {},
   "source": [
    "**Let us modify the index of this series object to some random integers by assigning a random array of integers to `index` attribute of this series object**"
   ]
  },
  {
   "cell_type": "code",
   "execution_count": 36,
   "id": "5c308d59",
   "metadata": {},
   "outputs": [
    {
     "name": "stdout",
     "output_type": "stream",
     "text": [
      "Series : \n",
      "111      Godwin\n",
      "129       Simon\n",
      "189    Blessing\n",
      "105      Gloria\n",
      "168            \n",
      "dtype: object\n",
      "\n",
      "Index([111, 129, 189, 105, 168], dtype='int32')\n"
     ]
    }
   ],
   "source": [
    "arr = np.random.randint(low=100, high=200, size=5)\n",
    "s.index = arr\n",
    "\n",
    "print(f'Series : \\n{s}\\n\\n{s.index}')"
   ]
  },
  {
   "cell_type": "code",
   "execution_count": 38,
   "id": "0d1c59c1",
   "metadata": {},
   "outputs": [
    {
     "name": "stdout",
     "output_type": "stream",
     "text": [
      "Series : \n",
      "1.00      Godwin\n",
      "4.00       Simon\n",
      "6.00    Blessing\n",
      "7.00      Gloria\n",
      "3.18            \n",
      "dtype: object\n",
      "\n",
      "Index([1.0, 4.0, 6.0, 7.0, 3.18], dtype='float64')\n"
     ]
    }
   ],
   "source": [
    "s.index = [1,4,6,7,3.18]\n",
    "\n",
    "print(f'Series : \\n{s}\\n\\n{s.index}')"
   ]
  },
  {
   "cell_type": "code",
   "execution_count": null,
   "id": "195184f4",
   "metadata": {},
   "outputs": [],
   "source": []
  },
  {
   "cell_type": "markdown",
   "id": "992c4994",
   "metadata": {},
   "source": [
    "**Changing index of a series to a list of strings**"
   ]
  },
  {
   "cell_type": "code",
   "execution_count": 40,
   "id": "c3a08f64",
   "metadata": {},
   "outputs": [
    {
     "name": "stdout",
     "output_type": "stream",
     "text": [
      "Series : \n",
      "0      Godwin\n",
      "1       Simon\n",
      "2    Blessing\n",
      "3      Gloria\n",
      "4     Vincent\n",
      "dtype: object\n",
      "\n",
      "RangeIndex(start=0, stop=5, step=1)\n"
     ]
    }
   ],
   "source": [
    "family = ['Godwin', 'Simon', 'Blessing', 'Gloria', 'Vincent']\n",
    "s= pd.Series(data=family)\n",
    "\n",
    "print(f'Series : \\n{s}\\n\\n{s.index}')"
   ]
  },
  {
   "cell_type": "code",
   "execution_count": 41,
   "id": "1b64faca",
   "metadata": {},
   "outputs": [
    {
     "name": "stdout",
     "output_type": "stream",
     "text": [
      "Series : \n",
      "FAM1      Godwin\n",
      "FAM2       Simon\n",
      "FAM3    Blessing\n",
      "FAM4      Gloria\n",
      "FAM5     Vincent\n",
      "dtype: object\n",
      "\n",
      "Index(['FAM1', 'FAM2', 'FAM3', 'FAM4', 'FAM5'], dtype='object')\n"
     ]
    }
   ],
   "source": [
    "indices = ['FAM1', 'FAM2', 'FAM3', 'FAM4', 'FAM5']\n",
    "s.index = indices\n",
    "\n",
    "print(f'Series : \\n{s}\\n\\n{s.index}')"
   ]
  },
  {
   "cell_type": "code",
   "execution_count": null,
   "id": "43c1e75a",
   "metadata": {},
   "outputs": [],
   "source": []
  },
  {
   "cell_type": "markdown",
   "id": "c8585d36",
   "metadata": {},
   "source": [
    "<img align=\"right\" width=\"300\" height=\"300\"  src=\"..\\..\\..\\data_science\\exercise\\Section-3-Python-for-Data-Scientists/images/series-anatomy.png\"  >\n",
    "\n",
    "### b. First use of Index (Identification)\n",
    "- Since every data value of a series object has an associated index (integer or string). So we can use this index/label to identify or access data value(s)\n",
    "- There are three ways to access elements of a series:\n",
    "    - Using `s[]` operator and specifying the index (integer/label)\n",
    "    - Using `s.loc[]` method and specifying the index (integer/label)\n",
    "    - Using `.iloc[]` method and specify the position (an integer value from 0 to length-1). It also support negative indexing, the last element can be accessed by an index of -1"
   ]
  },
  {
   "cell_type": "code",
   "execution_count": null,
   "id": "d96f389c",
   "metadata": {},
   "outputs": [],
   "source": []
  },
  {
   "cell_type": "code",
   "execution_count": 42,
   "id": "078b2a68",
   "metadata": {},
   "outputs": [
    {
     "name": "stdout",
     "output_type": "stream",
     "text": [
      "Series : \n",
      "FAM1      Godwin\n",
      "FAM2       Simon\n",
      "FAM3    Blessing\n",
      "FAM4      Gloria\n",
      "FAM5     Vincent\n",
      "dtype: object\n",
      "\n",
      "Index(['FAM1', 'FAM2', 'FAM3', 'FAM4', 'FAM5'], dtype='object')\n"
     ]
    }
   ],
   "source": [
    "family = ['Godwin', 'Simon', 'Blessing', 'Gloria', 'Vincent']\n",
    "indices = ['FAM1', 'FAM2', 'FAM3', 'FAM4', 'FAM5']\n",
    "s= pd.Series(data=family, index=indices)\n",
    "\n",
    "print(f'Series : \\n{s}\\n\\n{s.index}')"
   ]
  },
  {
   "cell_type": "code",
   "execution_count": 43,
   "id": "f50e0c19",
   "metadata": {},
   "outputs": [
    {
     "data": {
      "text/plain": [
       "'Blessing'"
      ]
     },
     "execution_count": 43,
     "metadata": {},
     "output_type": "execute_result"
    }
   ],
   "source": [
    "# Give index to subscript operator\n",
    "s['FAM3']\n",
    "# Subscript operator do not work on position\n",
    "#s[0] # will raise an error because index 0 do not exist"
   ]
  },
  {
   "cell_type": "code",
   "execution_count": 44,
   "id": "465dfbef",
   "metadata": {},
   "outputs": [
    {
     "data": {
      "text/plain": [
       "'Simon'"
      ]
     },
     "execution_count": 44,
     "metadata": {},
     "output_type": "execute_result"
    }
   ],
   "source": [
    "# Give index to  loc method\n",
    "s.loc['FAM2']\n",
    "# loc method do not work on position\n",
    "#s.loc[0] # will raise an error because index 0 do not exist"
   ]
  },
  {
   "cell_type": "code",
   "execution_count": 47,
   "id": "148ca16a",
   "metadata": {},
   "outputs": [
    {
     "data": {
      "text/plain": [
       "'Godwin'"
      ]
     },
     "execution_count": 47,
     "metadata": {},
     "output_type": "execute_result"
    }
   ],
   "source": [
    "# iloc method is position based, so will flag an error if you pass an actual index\n",
    "#s.iloc[20] \n",
    "s.iloc[0]"
   ]
  },
  {
   "cell_type": "code",
   "execution_count": null,
   "id": "b8278a5b",
   "metadata": {},
   "outputs": [],
   "source": []
  },
  {
   "cell_type": "markdown",
   "id": "de6350a0",
   "metadata": {},
   "source": [
    "**Fancy Indexing**"
   ]
  },
  {
   "cell_type": "code",
   "execution_count": 50,
   "id": "c7e83782",
   "metadata": {},
   "outputs": [
    {
     "data": {
      "text/plain": [
       "FAM5     Vincent\n",
       "FAM3    Blessing\n",
       "dtype: object"
      ]
     },
     "execution_count": 50,
     "metadata": {},
     "output_type": "execute_result"
    }
   ],
   "source": [
    "# Can access multiple values by specifying a list of indices\n",
    "s[['FAM5', 'FAM3']]"
   ]
  },
  {
   "cell_type": "code",
   "execution_count": 52,
   "id": "c5690ceb",
   "metadata": {},
   "outputs": [
    {
     "data": {
      "text/plain": [
       "FAM4    Gloria\n",
       "FAM2     Simon\n",
       "dtype: object"
      ]
     },
     "execution_count": 52,
     "metadata": {},
     "output_type": "execute_result"
    }
   ],
   "source": [
    "# Can access multiple values by specifying a list of indices\n",
    "s.loc[['FAM4', 'FAM2']]"
   ]
  },
  {
   "cell_type": "code",
   "execution_count": 53,
   "id": "467ed360",
   "metadata": {},
   "outputs": [
    {
     "data": {
      "text/plain": [
       "FAM4    Gloria\n",
       "FAM1    Godwin\n",
       "dtype: object"
      ]
     },
     "execution_count": 53,
     "metadata": {},
     "output_type": "execute_result"
    }
   ],
   "source": [
    "# Can access multiple values by specifying list of positions\n",
    "s.iloc[[3,0]]"
   ]
  },
  {
   "cell_type": "code",
   "execution_count": null,
   "id": "dcb34690",
   "metadata": {},
   "outputs": [],
   "source": []
  },
  {
   "cell_type": "markdown",
   "id": "4d47340e",
   "metadata": {},
   "source": [
    "**Negative Indexing, work only for `iloc`**"
   ]
  },
  {
   "cell_type": "code",
   "execution_count": 55,
   "id": "3e2a78be",
   "metadata": {},
   "outputs": [
    {
     "data": {
      "text/plain": [
       "'Vincent'"
      ]
     },
     "execution_count": 55,
     "metadata": {},
     "output_type": "execute_result"
    }
   ],
   "source": [
    "s[-1]"
   ]
  },
  {
   "cell_type": "code",
   "execution_count": 57,
   "id": "f03e824d",
   "metadata": {},
   "outputs": [],
   "source": [
    "# s.loc[-1]"
   ]
  },
  {
   "cell_type": "code",
   "execution_count": 58,
   "id": "14252291",
   "metadata": {},
   "outputs": [
    {
     "data": {
      "text/plain": [
       "'Vincent'"
      ]
     },
     "execution_count": 58,
     "metadata": {},
     "output_type": "execute_result"
    }
   ],
   "source": [
    "s.iloc[-1]"
   ]
  },
  {
   "cell_type": "code",
   "execution_count": null,
   "id": "44a6c286",
   "metadata": {},
   "outputs": [],
   "source": []
  },
  {
   "cell_type": "markdown",
   "id": "28e8dd71",
   "metadata": {},
   "source": [
    "<img align=\"right\" width=\"400\" height=\"400\"  src=\"..\\..\\..\\data_science\\exercise\\Section-3-Python-for-Data-Scientists/images/series-anatomy.png\"  >\n",
    "\n",
    "### c. Second use of Index (Selection)\n",
    "- A series can be sliced using `:` symbol, which returns a subset of a series object (values with corresponding indices).\n",
    "- There are three arguments of slice object `[[start]:[stop][:step]]`, and all are optional\n",
    "\n",
    "- The slice object can be used in three ways to slice a Pandas Series object::\n",
    "    - Using `s[]` operator and specifying the index (integer/label)\n",
    "    - Using `s.loc[]` method and specifying the index (integer/label)\n",
    "    - Using `.iloc` method and specify the position (an integer value from 0 to length-1). It also support negative indexing, the last element can be accessed by an index of -1\n",
    "- Keep following points in mind:\n",
    "    - The `stop` argument is NOT inclusive for `s[]` for integer indices, while it is inclusive for string indices.\n",
    "    - The `stop` argument is inclusive for `s.loc[]` for both integer and label indices.\n",
    "    - The `stop` argument is NOT inclusive for `s.iloc[]` being position based.\n",
    "  \n",
    ">**Note: Once you slice a Pandas series, you get a view of the original object, which is similar to shallow copy. So if you modify an element in original series object, the change will also be visible in the other series object.**"
   ]
  },
  {
   "cell_type": "markdown",
   "id": "cdd37d05",
   "metadata": {},
   "source": [
    "**Selection/Filtering/Subsetting of Series object having Integer indices**"
   ]
  },
  {
   "cell_type": "code",
   "execution_count": 69,
   "id": "7331245e",
   "metadata": {},
   "outputs": [
    {
     "name": "stdout",
     "output_type": "stream",
     "text": [
      "Series : \n",
      "5       Godwin\n",
      "10       Simon\n",
      "15    Blessing\n",
      "20      Gloria\n",
      "25     Vincent\n",
      "30       Queen\n",
      "dtype: object\n",
      "\n",
      "<class 'pandas.core.series.Series'>\n"
     ]
    }
   ],
   "source": [
    "list1 = ['Godwin', 'Simon', 'Blessing', 'Gloria', 'Vincent', 'Queen']\n",
    "indices = [5, 10, 15, 20, 25, 30]\n",
    "\n",
    "s = pd.Series(data=list1, index=indices)\n",
    "print(f'Series : \\n{s}\\n\\n{type(s)}')"
   ]
  },
  {
   "cell_type": "code",
   "execution_count": 70,
   "id": "129c80be",
   "metadata": {},
   "outputs": [
    {
     "data": {
      "text/plain": [
       "Series([], dtype: object)"
      ]
     },
     "execution_count": 70,
     "metadata": {},
     "output_type": "execute_result"
    }
   ],
   "source": [
    "s[6:15]"
   ]
  },
  {
   "cell_type": "code",
   "execution_count": 71,
   "id": "16c1aab7",
   "metadata": {},
   "outputs": [
    {
     "data": {
      "text/plain": [
       "5       Godwin\n",
       "10       Simon\n",
       "15    Blessing\n",
       "20      Gloria\n",
       "25     Vincent\n",
       "dtype: object"
      ]
     },
     "execution_count": 71,
     "metadata": {},
     "output_type": "execute_result"
    }
   ],
   "source": [
    "# The subscript operator considers the slice object as positional index and not as the actual indices \n",
    "# (if we have integer indices)\n",
    "# The `stop` argument is NOT inclusive for `s[]` for integer indices\n",
    "s[0:5]"
   ]
  },
  {
   "cell_type": "code",
   "execution_count": 72,
   "id": "64b778ad",
   "metadata": {},
   "outputs": [
    {
     "data": {
      "text/plain": [
       "5       Godwin\n",
       "10       Simon\n",
       "15    Blessing\n",
       "dtype: object"
      ]
     },
     "execution_count": 72,
     "metadata": {},
     "output_type": "execute_result"
    }
   ],
   "source": [
    "#The loc[] method considers the slice object as actual indices and not as positional indices\n",
    "# The stop argument is inclusive for `s.loc[]` for both integer and label indices\n",
    "s.loc[5:15]"
   ]
  },
  {
   "cell_type": "code",
   "execution_count": 73,
   "id": "4f466e78",
   "metadata": {},
   "outputs": [
    {
     "data": {
      "text/plain": [
       "10       Simon\n",
       "15    Blessing\n",
       "20      Gloria\n",
       "dtype: object"
      ]
     },
     "execution_count": 73,
     "metadata": {},
     "output_type": "execute_result"
    }
   ],
   "source": [
    "# The iloc[] method considers the slice object as positional index and not as the actual indices\n",
    "# The `stop` argument is NOT inclusive for `s.iloc[]` being position based\n",
    "s.iloc[1:4]"
   ]
  },
  {
   "cell_type": "code",
   "execution_count": null,
   "id": "f2b1efb6",
   "metadata": {},
   "outputs": [],
   "source": []
  },
  {
   "cell_type": "code",
   "execution_count": 74,
   "id": "9a462d06",
   "metadata": {},
   "outputs": [
    {
     "name": "stdout",
     "output_type": "stream",
     "text": [
      "Series : \n",
      "FS01      Godwin\n",
      "FS02       Simon\n",
      "FS03    Blessing\n",
      "FS04      Gloria\n",
      "FS05     Vincent\n",
      "FS06       Queen\n",
      "dtype: object\n",
      "\n",
      "<class 'pandas.core.series.Series'>\n"
     ]
    }
   ],
   "source": [
    "list1 = ['Godwin', 'Simon', 'Blessing', 'Gloria', 'Vincent', 'Queen']\n",
    "indices = ['FS01', 'FS02', 'FS03', 'FS04', 'FS05', 'FS06']\n",
    "\n",
    "s = pd.Series(data=list1, index=indices)\n",
    "print(f'Series : \\n{s}\\n\\n{type(s)}')"
   ]
  },
  {
   "cell_type": "markdown",
   "id": "fa9e1beb",
   "metadata": {},
   "source": [
    "**Understanding Step with Series object having String Indices**"
   ]
  },
  {
   "cell_type": "code",
   "execution_count": 75,
   "id": "0e8c21f3",
   "metadata": {},
   "outputs": [
    {
     "data": {
      "text/plain": [
       "FS01      Godwin\n",
       "FS02       Simon\n",
       "FS03    Blessing\n",
       "FS04      Gloria\n",
       "FS05     Vincent\n",
       "FS06       Queen\n",
       "dtype: object"
      ]
     },
     "execution_count": 75,
     "metadata": {},
     "output_type": "execute_result"
    }
   ],
   "source": [
    "s"
   ]
  },
  {
   "cell_type": "code",
   "execution_count": 76,
   "id": "3ffe12bb",
   "metadata": {},
   "outputs": [
    {
     "data": {
      "text/plain": [
       "FS02       Simon\n",
       "FS03    Blessing\n",
       "FS04      Gloria\n",
       "FS05     Vincent\n",
       "dtype: object"
      ]
     },
     "execution_count": 76,
     "metadata": {},
     "output_type": "execute_result"
    }
   ],
   "source": [
    "# The step works fine with string indices as well\n",
    "s['FS02': 'FS05': 1]"
   ]
  },
  {
   "cell_type": "code",
   "execution_count": 77,
   "id": "3fa544dd",
   "metadata": {},
   "outputs": [
    {
     "data": {
      "text/plain": [
       "FS01      Godwin\n",
       "FS03    Blessing\n",
       "FS05     Vincent\n",
       "dtype: object"
      ]
     },
     "execution_count": 77,
     "metadata": {},
     "output_type": "execute_result"
    }
   ],
   "source": [
    "s['FS01': 'FS06': 2]"
   ]
  },
  {
   "cell_type": "code",
   "execution_count": 79,
   "id": "603cb80f",
   "metadata": {},
   "outputs": [
    {
     "data": {
      "text/plain": [
       "Series([], dtype: object)"
      ]
     },
     "execution_count": 79,
     "metadata": {},
     "output_type": "execute_result"
    }
   ],
   "source": [
    "s['FS01': 'FS06': -1]"
   ]
  },
  {
   "cell_type": "code",
   "execution_count": null,
   "id": "9b9b79df",
   "metadata": {},
   "outputs": [],
   "source": []
  },
  {
   "cell_type": "markdown",
   "id": "64c76bd8",
   "metadata": {},
   "source": [
    "<img align=\"right\" width=\"300\" height=\"300\"  src=\"..\\..\\..\\data_science\\exercise\\Section-3-Python-for-Data-Scientists/images/series-anatomy.png\"  >\n",
    "\n",
    "### d. Third use of Index (Alignment)\n",
    "- We can perform basic arithmetic operations like addition, subtraction, multiplication, division, etc., on two Series objects, to produce a new Series instance.\n",
    "- The operation is done on each corresponding pair of elements. This is done by matching the indices of the two series objects."
   ]
  },
  {
   "cell_type": "code",
   "execution_count": 82,
   "id": "f9a9f3be",
   "metadata": {},
   "outputs": [
    {
     "name": "stdout",
     "output_type": "stream",
     "text": [
      "Series : \n",
      "0    1\n",
      "1    3\n",
      "2    5\n",
      "3    7\n",
      "4    9\n",
      "dtype: int64\n",
      "\n",
      "RangeIndex(start=0, stop=5, step=1)\n",
      "0     2\n",
      "1     4\n",
      "2     6\n",
      "3     8\n",
      "4    10\n",
      "dtype: int64\n",
      "\n",
      "RangeIndex(start=0, stop=5, step=1)\n"
     ]
    }
   ],
   "source": [
    "list_a = [1,3,5,7,9];\n",
    "list_b = [2,4,6,8,10];\n",
    "\n",
    "s1 = pd.Series(data=list_a)\n",
    "s2 = pd.Series(data=list_b)\n",
    "\n",
    "print(f'Series : \\n{s1}\\n\\n{s1.index}\\n{s2}\\n\\n{s2.index}')"
   ]
  },
  {
   "cell_type": "code",
   "execution_count": 85,
   "id": "622ca66f",
   "metadata": {},
   "outputs": [
    {
     "name": "stdout",
     "output_type": "stream",
     "text": [
      "Series : \n",
      "0     3\n",
      "1     7\n",
      "2    11\n",
      "3    15\n",
      "4    19\n",
      "dtype: int64\n",
      "\n",
      "RangeIndex(start=0, stop=5, step=1)\n"
     ]
    }
   ],
   "source": [
    "s3 = s1 + s2\n",
    "print(f'Series : \\n{s3}\\n\\n{s3.index}')"
   ]
  },
  {
   "cell_type": "markdown",
   "id": "b3f2f9fa",
   "metadata": {},
   "source": [
    "**Example 2:** Adding two series object having different integer indices"
   ]
  },
  {
   "cell_type": "code",
   "execution_count": 88,
   "id": "1f613632",
   "metadata": {},
   "outputs": [
    {
     "name": "stdout",
     "output_type": "stream",
     "text": [
      "Series : \n",
      "0    6\n",
      "1    9\n",
      "2    7\n",
      "3    5\n",
      "dtype: int64\n",
      "\n",
      "Index([0, 1, 2, 3], dtype='int64')\n",
      "0    8\n",
      "2    6\n",
      "3    2\n",
      "5    1\n",
      "dtype: int64\n",
      "\n",
      "Index([0, 2, 3, 5], dtype='int64')\n"
     ]
    }
   ],
   "source": [
    "list1 = [6,9,7,5]\n",
    "index1 = [0,1,2,3]\n",
    "list2 = [8,6,2,1]\n",
    "index2 = [0,2,3,5]\n",
    "\n",
    "s1 = pd.Series(data=list1, index=index1)\n",
    "s2 = pd.Series(data=list2, index=index2)\n",
    "print(f'Series : \\n{s1}\\n\\n{s1.index}\\n{s2}\\n\\n{s2.index}')"
   ]
  },
  {
   "cell_type": "code",
   "execution_count": 89,
   "id": "7746257b",
   "metadata": {},
   "outputs": [
    {
     "name": "stdout",
     "output_type": "stream",
     "text": [
      "Series : \n",
      "0    14.0\n",
      "1     NaN\n",
      "2    13.0\n",
      "3     7.0\n",
      "5     NaN\n",
      "dtype: float64\n",
      "\n",
      "Index([0, 1, 2, 3, 5], dtype='int64')\n"
     ]
    }
   ],
   "source": [
    "s3 = s1 + s2\n",
    "print(f'Series : \\n{s3}\\n\\n{s3.index}')"
   ]
  },
  {
   "cell_type": "code",
   "execution_count": null,
   "id": "66e78f6d",
   "metadata": {},
   "outputs": [],
   "source": []
  },
  {
   "cell_type": "markdown",
   "id": "557af6ef",
   "metadata": {},
   "source": [
    "**Problem:** While performing mathematical operations on series having mismatched indices, all missing values are filled in with NaN by default."
   ]
  },
  {
   "cell_type": "code",
   "execution_count": null,
   "id": "01e88da8",
   "metadata": {},
   "outputs": [],
   "source": []
  },
  {
   "cell_type": "markdown",
   "id": "01d552cd",
   "metadata": {},
   "source": [
    "**Solution:** To handle this problem, instead of using the operators (`+, -, *, /`), an explicit call to `s.add()`, `s.sub()`, `s.mul()` and `s.div()` is preferred. This allows us to replace the missing values in any of the series witth a specific value, so as to have a concrete output in place of NaN"
   ]
  },
  {
   "cell_type": "code",
   "execution_count": 90,
   "id": "f7b4a74b",
   "metadata": {},
   "outputs": [
    {
     "data": {
      "text/plain": [
       "0    14.0\n",
       "1     9.0\n",
       "2    13.0\n",
       "3     7.0\n",
       "5     1.0\n",
       "dtype: float64"
      ]
     },
     "execution_count": 90,
     "metadata": {},
     "output_type": "execute_result"
    }
   ],
   "source": [
    "s1.add(s2, fill_value=0)"
   ]
  },
  {
   "cell_type": "code",
   "execution_count": null,
   "id": "31c49027",
   "metadata": {},
   "outputs": [],
   "source": []
  },
  {
   "cell_type": "markdown",
   "id": "b27597b9",
   "metadata": {},
   "source": [
    "**Example 3:** Adding two series object having different string indices"
   ]
  },
  {
   "cell_type": "code",
   "execution_count": 91,
   "id": "929b11b0",
   "metadata": {},
   "outputs": [
    {
     "name": "stdout",
     "output_type": "stream",
     "text": [
      "Series : \n",
      "num1    6\n",
      "num2    9\n",
      "num3    7\n",
      "num4    5\n",
      "num5    2\n",
      "dtype: int64\n",
      "\n",
      "Index(['num1', 'num2', 'num3', 'num4', 'num5'], dtype='object')\n",
      "num1    8\n",
      "num2    6\n",
      "num3    2\n",
      "num8    3\n",
      "num5    6\n",
      "dtype: int64\n",
      "\n",
      "Index(['num1', 'num2', 'num3', 'num8', 'num5'], dtype='object')\n"
     ]
    }
   ],
   "source": [
    "list1 = [6,9,7,5, 2]\n",
    "labels1 = ['num1', 'num2', 'num3', 'num4', 'num5']\n",
    "\n",
    "list2 = [8,6,2,3,6]\n",
    "labels2 = ['num1', 'num2', 'num3', 'num8', 'num5']\n",
    "\n",
    "s1 = pd.Series(data=list1, index=labels1)\n",
    "s2 = pd.Series(data=list2, index=labels2)\n",
    "\n",
    "print(f'Series : \\n{s1}\\n\\n{s1.index}\\n{s2}\\n\\n{s2.index}')"
   ]
  },
  {
   "cell_type": "code",
   "execution_count": 92,
   "id": "dcd8f7c5",
   "metadata": {},
   "outputs": [
    {
     "name": "stdout",
     "output_type": "stream",
     "text": [
      "Series : \n",
      "num1    14.0\n",
      "num2    15.0\n",
      "num3     9.0\n",
      "num4    10.0\n",
      "num5     8.0\n",
      "num8     8.0\n",
      "dtype: float64\n",
      "\n",
      "Index(['num1', 'num2', 'num3', 'num4', 'num5', 'num8'], dtype='object')\n"
     ]
    }
   ],
   "source": [
    "s3 = s1.add(s2, fill_value=5)\n",
    "print(f'Series : \\n{s3}\\n\\n{s3.index}')"
   ]
  },
  {
   "cell_type": "code",
   "execution_count": null,
   "id": "33bf4b2a",
   "metadata": {},
   "outputs": [],
   "source": []
  }
 ],
 "metadata": {
  "kernelspec": {
   "display_name": "Python 3 (ipykernel)",
   "language": "python",
   "name": "python3"
  },
  "language_info": {
   "codemirror_mode": {
    "name": "ipython",
    "version": 3
   },
   "file_extension": ".py",
   "mimetype": "text/x-python",
   "name": "python",
   "nbconvert_exporter": "python",
   "pygments_lexer": "ipython3",
   "version": "3.11.5"
  }
 },
 "nbformat": 4,
 "nbformat_minor": 5
}
